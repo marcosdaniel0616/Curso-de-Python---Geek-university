{
  "nbformat": 4,
  "nbformat_minor": 0,
  "metadata": {
    "colab": {
      "name": "args.ipynb",
      "provenance": [],
      "collapsed_sections": [],
      "authorship_tag": "ABX9TyOXqCbG65WR0lagQZl47vVf",
      "include_colab_link": true
    },
    "kernelspec": {
      "name": "python3",
      "display_name": "Python 3"
    },
    "language_info": {
      "name": "python"
    }
  },
  "cells": [
    {
      "cell_type": "markdown",
      "metadata": {
        "id": "view-in-github",
        "colab_type": "text"
      },
      "source": [
        "<a href=\"https://colab.research.google.com/github/marcosdaniel0616/Curso-de-Python---Geek-university/blob/master/args.ipynb\" target=\"_parent\"><img src=\"https://colab.research.google.com/assets/colab-badge.svg\" alt=\"Open In Colab\"/></a>"
      ]
    },
    {
      "cell_type": "markdown",
      "metadata": {
        "id": "tnh_0-56se5x"
      },
      "source": [
        "# Entendendo o *args\n",
        "- Ele é um parâmetro, como outro qualquer, isso significa que você poderá nomea-lo de qualquer coisa, desde que comece com astérisco. \n",
        "  \n",
        "Exemplo:  \n",
        "  \n",
        "*xis  \n",
        "  \n",
        "Mas por convenção, utilizamos *args para definí-lo."
      ]
    },
    {
      "cell_type": "markdown",
      "metadata": {
        "id": "rPkU-Znts6mz"
      },
      "source": [
        "## Mas o que é o *args?\n",
        "O parâmetro *args utilizado em uma funç˜åo, coloca os valores extras informados como entrada em uma tupla. Então desde já lembre-se que tuplas são imutáveis."
      ]
    },
    {
      "cell_type": "markdown",
      "metadata": {
        "id": "ibi6H58utWTS"
      },
      "source": [
        "## Exemplos:"
      ]
    },
    {
      "cell_type": "code",
      "metadata": {
        "colab": {
          "base_uri": "https://localhost:8080/"
        },
        "id": "ZPkdb87sscfC",
        "outputId": "2d01f28a-d9e6-4a6d-baa9-e17dd5e40e16"
      },
      "source": [
        "def soma_todos_numeros(num1, num2, num3):\n",
        "  return num1 + num2 + num3\n",
        "\n",
        "\n",
        "print(soma_todos_numeros(4, 6, 9))"
      ],
      "execution_count": null,
      "outputs": [
        {
          "output_type": "stream",
          "text": [
            "19\n"
          ],
          "name": "stdout"
        }
      ]
    },
    {
      "cell_type": "markdown",
      "metadata": {
        "id": "XKpofW_VtvL3"
      },
      "source": [
        "Até ai não tem nada que a gente não saiba, mas só pra relembrar o que acontece se passarmos parâmetros a mais ou a menos."
      ]
    },
    {
      "cell_type": "code",
      "metadata": {
        "colab": {
          "base_uri": "https://localhost:8080/",
          "height": 198
        },
        "id": "3lwxgWsUtiCD",
        "outputId": "3af3b41f-e3fa-4492-b21f-784015fd7645"
      },
      "source": [
        "def soma_todos_numeros(num1, num2, num3):\n",
        "  return num1 + num2 + num3\n",
        "\n",
        "\n",
        "print(soma_todos_numeros(4, 6))"
      ],
      "execution_count": null,
      "outputs": [
        {
          "output_type": "error",
          "ename": "TypeError",
          "evalue": "ignored",
          "traceback": [
            "\u001b[0;31m---------------------------------------------------------------------------\u001b[0m",
            "\u001b[0;31mTypeError\u001b[0m                                 Traceback (most recent call last)",
            "\u001b[0;32m<ipython-input-6-7ed12962bb04>\u001b[0m in \u001b[0;36m<module>\u001b[0;34m()\u001b[0m\n\u001b[1;32m      3\u001b[0m \u001b[0;34m\u001b[0m\u001b[0m\n\u001b[1;32m      4\u001b[0m \u001b[0;34m\u001b[0m\u001b[0m\n\u001b[0;32m----> 5\u001b[0;31m \u001b[0mprint\u001b[0m\u001b[0;34m(\u001b[0m\u001b[0msoma_todos_numeros\u001b[0m\u001b[0;34m(\u001b[0m\u001b[0;36m4\u001b[0m\u001b[0;34m,\u001b[0m \u001b[0;36m6\u001b[0m\u001b[0;34m)\u001b[0m\u001b[0;34m)\u001b[0m\u001b[0;34m\u001b[0m\u001b[0;34m\u001b[0m\u001b[0m\n\u001b[0m",
            "\u001b[0;31mTypeError\u001b[0m: soma_todos_numeros() missing 1 required positional argument: 'num3'"
          ]
        }
      ]
    },
    {
      "cell_type": "code",
      "metadata": {
        "colab": {
          "base_uri": "https://localhost:8080/",
          "height": 198
        },
        "id": "zCZfM74rt5Vg",
        "outputId": "252c19aa-da7d-4e99-ac4d-def6e689fe08"
      },
      "source": [
        "def soma_todos_numeros(num1, num2, num3):\n",
        "  return num1 + num2 + num3\n",
        "\n",
        "\n",
        "print(soma_todos_numeros(4, 6, 9, 10, 12))"
      ],
      "execution_count": null,
      "outputs": [
        {
          "output_type": "error",
          "ename": "TypeError",
          "evalue": "ignored",
          "traceback": [
            "\u001b[0;31m---------------------------------------------------------------------------\u001b[0m",
            "\u001b[0;31mTypeError\u001b[0m                                 Traceback (most recent call last)",
            "\u001b[0;32m<ipython-input-5-23a247dbbaa8>\u001b[0m in \u001b[0;36m<module>\u001b[0;34m()\u001b[0m\n\u001b[1;32m      3\u001b[0m \u001b[0;34m\u001b[0m\u001b[0m\n\u001b[1;32m      4\u001b[0m \u001b[0;34m\u001b[0m\u001b[0m\n\u001b[0;32m----> 5\u001b[0;31m \u001b[0mprint\u001b[0m\u001b[0;34m(\u001b[0m\u001b[0msoma_todos_numeros\u001b[0m\u001b[0;34m(\u001b[0m\u001b[0;36m4\u001b[0m\u001b[0;34m,\u001b[0m \u001b[0;36m6\u001b[0m\u001b[0;34m,\u001b[0m \u001b[0;36m9\u001b[0m\u001b[0;34m,\u001b[0m \u001b[0;36m10\u001b[0m\u001b[0;34m,\u001b[0m \u001b[0;36m12\u001b[0m\u001b[0;34m)\u001b[0m\u001b[0;34m)\u001b[0m\u001b[0;34m\u001b[0m\u001b[0;34m\u001b[0m\u001b[0m\n\u001b[0m",
            "\u001b[0;31mTypeError\u001b[0m: soma_todos_numeros() takes 3 positional arguments but 5 were given"
          ]
        }
      ]
    },
    {
      "cell_type": "markdown",
      "metadata": {
        "id": "aI68WDzet9cB"
      },
      "source": [
        "Em ambos os casos obtivemos um ```TypeError```.  \n",
        "Mas como resolver esse problema? Para o caso de valores a menos enviados, poderíamos resolver utilizando os parâmetros com valor default:"
      ]
    },
    {
      "cell_type": "code",
      "metadata": {
        "colab": {
          "base_uri": "https://localhost:8080/"
        },
        "id": "2HSSVhAct5-B",
        "outputId": "de7f7383-2bb1-493a-d3ee-9e7dd20645a6"
      },
      "source": [
        "def soma_todos_numeros(num1=1, num2=2, num3=3):\n",
        "  return num1 + num2 + num3\n",
        "\n",
        "\n",
        "print(soma_todos_numeros(4, 6))"
      ],
      "execution_count": null,
      "outputs": [
        {
          "output_type": "stream",
          "text": [
            "13\n"
          ],
          "name": "stdout"
        }
      ]
    },
    {
      "cell_type": "code",
      "metadata": {
        "colab": {
          "base_uri": "https://localhost:8080/",
          "height": 198
        },
        "id": "1FzEdNuPuZ7f",
        "outputId": "4a9f8b83-f246-4b2e-d90f-d5a16001ba98"
      },
      "source": [
        "def soma_todos_numeros(num1, num2, num3):\n",
        "  return num1 + num2 + num3\n",
        "\n",
        "\n",
        "print(soma_todos_numeros(4, 6, 9, 4))"
      ],
      "execution_count": null,
      "outputs": [
        {
          "output_type": "error",
          "ename": "TypeError",
          "evalue": "ignored",
          "traceback": [
            "\u001b[0;31m---------------------------------------------------------------------------\u001b[0m",
            "\u001b[0;31mTypeError\u001b[0m                                 Traceback (most recent call last)",
            "\u001b[0;32m<ipython-input-8-b1fa1fd4155b>\u001b[0m in \u001b[0;36m<module>\u001b[0;34m()\u001b[0m\n\u001b[1;32m      3\u001b[0m \u001b[0;34m\u001b[0m\u001b[0m\n\u001b[1;32m      4\u001b[0m \u001b[0;34m\u001b[0m\u001b[0m\n\u001b[0;32m----> 5\u001b[0;31m \u001b[0mprint\u001b[0m\u001b[0;34m(\u001b[0m\u001b[0msoma_todos_numeros\u001b[0m\u001b[0;34m(\u001b[0m\u001b[0;36m4\u001b[0m\u001b[0;34m,\u001b[0m \u001b[0;36m6\u001b[0m\u001b[0;34m,\u001b[0m \u001b[0;36m9\u001b[0m\u001b[0;34m,\u001b[0m \u001b[0;36m4\u001b[0m\u001b[0;34m)\u001b[0m\u001b[0;34m)\u001b[0m\u001b[0;34m\u001b[0m\u001b[0;34m\u001b[0m\u001b[0m\n\u001b[0m",
            "\u001b[0;31mTypeError\u001b[0m: soma_todos_numeros() takes 3 positional arguments but 4 were given"
          ]
        }
      ]
    },
    {
      "cell_type": "markdown",
      "metadata": {
        "id": "HfoiiJYVudUJ"
      },
      "source": [
        "Mas perceba que continuo com erro caso envie parâmetros a mais, então, podemos utilizar o ```*args``` para resolver esse problema."
      ]
    },
    {
      "cell_type": "markdown",
      "metadata": {
        "id": "rWozNKLJu6n5"
      },
      "source": [
        "## Entendendo o ```*args```"
      ]
    },
    {
      "cell_type": "code",
      "metadata": {
        "id": "XTWL26-8uciW"
      },
      "source": [
        "def soma_todos_numeros(*args):\n",
        "  print(args)\n",
        "\n",
        "soma_todos_numeros()"
      ],
      "execution_count": null,
      "outputs": []
    },
    {
      "cell_type": "code",
      "metadata": {
        "colab": {
          "base_uri": "https://localhost:8080/"
        },
        "id": "Rwq9jcyWvBjR",
        "outputId": "6fb38e02-a408-4cce-f541-7f76b031a475"
      },
      "source": [
        "def soma_todos_numeros(*args):\n",
        "  print(args)\n",
        "\n",
        "soma_todos_numeros(1)"
      ],
      "execution_count": null,
      "outputs": [
        {
          "output_type": "stream",
          "text": [
            "()\n"
          ],
          "name": "stdout"
        }
      ]
    },
    {
      "cell_type": "code",
      "metadata": {
        "colab": {
          "base_uri": "https://localhost:8080/"
        },
        "id": "RTQdyh38vF2o",
        "outputId": "c2c54621-7a7b-4726-ac29-dd25e1f214d6"
      },
      "source": [
        "def soma_todos_numeros(*args):\n",
        "  print(args)\n",
        "\n",
        "soma_todos_numeros(2, 3)"
      ],
      "execution_count": null,
      "outputs": [
        {
          "output_type": "stream",
          "text": [
            "(2, 3)\n"
          ],
          "name": "stdout"
        }
      ]
    },
    {
      "cell_type": "code",
      "metadata": {
        "colab": {
          "base_uri": "https://localhost:8080/"
        },
        "id": "NuN_kiAyvHMw",
        "outputId": "868009a1-7f3c-435a-9cb7-ad9bb6f018eb"
      },
      "source": [
        "def soma_todos_numeros(*args):\n",
        "  print(args)\n",
        "\n",
        "soma_todos_numeros(3, 4, 5)"
      ],
      "execution_count": null,
      "outputs": [
        {
          "output_type": "stream",
          "text": [
            "(3, 4, 5)\n"
          ],
          "name": "stdout"
        }
      ]
    },
    {
      "cell_type": "markdown",
      "metadata": {
        "id": "LmaAuSNWvMnG"
      },
      "source": [
        "Note que em nenhum dos casos obtivemos erros, pois o ```*args``` serve para quando não sabemos quantos argumentos serão passados, devolvendo esses argumentos agrupados em uma tupla ( o que podemos notar pelos parênteses)."
      ]
    },
    {
      "cell_type": "markdown",
      "metadata": {
        "id": "axV77kp9wBlM"
      },
      "source": [
        "Agora vamos somar todos esses números que recebermos como argumentos no ```*args```:"
      ]
    },
    {
      "cell_type": "code",
      "metadata": {
        "colab": {
          "base_uri": "https://localhost:8080/"
        },
        "id": "UCmBTI0gvLjT",
        "outputId": "d69f0953-4c94-447e-83d3-74916b16d842"
      },
      "source": [
        "def soma_todos_numeros(*args):\n",
        "  total = 0\n",
        "  for numero in args:\n",
        "    total += numero\n",
        "  return total\n",
        "\n",
        "print(soma_todos_numeros())"
      ],
      "execution_count": null,
      "outputs": [
        {
          "output_type": "stream",
          "text": [
            "0\n"
          ],
          "name": "stdout"
        }
      ]
    },
    {
      "cell_type": "code",
      "metadata": {
        "colab": {
          "base_uri": "https://localhost:8080/"
        },
        "id": "lNAkup4nwXYz",
        "outputId": "13c49928-60e6-4997-b058-98d9b65dc023"
      },
      "source": [
        "def soma_todos_numeros(*args):\n",
        "  total = 0\n",
        "  for numero in args:\n",
        "    total += numero\n",
        "  return total\n",
        "\n",
        "print(soma_todos_numeros(3, 4, 5, 6))"
      ],
      "execution_count": null,
      "outputs": [
        {
          "output_type": "stream",
          "text": [
            "18\n"
          ],
          "name": "stdout"
        }
      ]
    },
    {
      "cell_type": "code",
      "metadata": {
        "colab": {
          "base_uri": "https://localhost:8080/"
        },
        "id": "dcp425shwbjl",
        "outputId": "c607ac0d-f3c6-43ff-ea15-732883eea208"
      },
      "source": [
        "def soma_todos_numeros(*args):\n",
        "  total = 0\n",
        "  for numero in args:\n",
        "    total += numero\n",
        "  return total\n",
        "\n",
        "print(soma_todos_numeros(3, 4))"
      ],
      "execution_count": null,
      "outputs": [
        {
          "output_type": "stream",
          "text": [
            "7\n"
          ],
          "name": "stdout"
        }
      ]
    },
    {
      "cell_type": "markdown",
      "metadata": {
        "id": "8C7T5DNUwe4y"
      },
      "source": [
        "ou de uma forma refatorada:"
      ]
    },
    {
      "cell_type": "code",
      "metadata": {
        "colab": {
          "base_uri": "https://localhost:8080/"
        },
        "id": "SPuKDLcpwdPq",
        "outputId": "59d1bf5b-6a8e-46f9-b05a-480b349abd24"
      },
      "source": [
        "def soma_todos_numeros(*args):\n",
        "  return sum(args)\n",
        "\n",
        "print(soma_todos_numeros(3, 4, 5, 6))"
      ],
      "execution_count": null,
      "outputs": [
        {
          "output_type": "stream",
          "text": [
            "18\n"
          ],
          "name": "stdout"
        }
      ]
    },
    {
      "cell_type": "markdown",
      "metadata": {
        "id": "6ZzNbDo9wtr4"
      },
      "source": [
        "Mas temos que ficar atentos ao tipo de dado, por exemplo:"
      ]
    },
    {
      "cell_type": "code",
      "metadata": {
        "colab": {
          "base_uri": "https://localhost:8080/",
          "height": 300
        },
        "id": "4V8VDoRZwoPR",
        "outputId": "74f4f054-6fe2-4e3b-eeaa-13dd890c8d2c"
      },
      "source": [
        "def soma_todos_numeros(*args):\n",
        "  return sum(args)\n",
        "\n",
        "print(soma_todos_numeros('a'))"
      ],
      "execution_count": null,
      "outputs": [
        {
          "output_type": "error",
          "ename": "TypeError",
          "evalue": "ignored",
          "traceback": [
            "\u001b[0;31m---------------------------------------------------------------------------\u001b[0m",
            "\u001b[0;31mTypeError\u001b[0m                                 Traceback (most recent call last)",
            "\u001b[0;32m<ipython-input-19-e6f20b74a3e0>\u001b[0m in \u001b[0;36m<module>\u001b[0;34m()\u001b[0m\n\u001b[1;32m      2\u001b[0m   \u001b[0;32mreturn\u001b[0m \u001b[0msum\u001b[0m\u001b[0;34m(\u001b[0m\u001b[0margs\u001b[0m\u001b[0;34m)\u001b[0m\u001b[0;34m\u001b[0m\u001b[0;34m\u001b[0m\u001b[0m\n\u001b[1;32m      3\u001b[0m \u001b[0;34m\u001b[0m\u001b[0m\n\u001b[0;32m----> 4\u001b[0;31m \u001b[0mprint\u001b[0m\u001b[0;34m(\u001b[0m\u001b[0msoma_todos_numeros\u001b[0m\u001b[0;34m(\u001b[0m\u001b[0;34m'a'\u001b[0m\u001b[0;34m)\u001b[0m\u001b[0;34m)\u001b[0m\u001b[0;34m\u001b[0m\u001b[0;34m\u001b[0m\u001b[0m\n\u001b[0m",
            "\u001b[0;32m<ipython-input-19-e6f20b74a3e0>\u001b[0m in \u001b[0;36msoma_todos_numeros\u001b[0;34m(*args)\u001b[0m\n\u001b[1;32m      1\u001b[0m \u001b[0;32mdef\u001b[0m \u001b[0msoma_todos_numeros\u001b[0m\u001b[0;34m(\u001b[0m\u001b[0;34m*\u001b[0m\u001b[0margs\u001b[0m\u001b[0;34m)\u001b[0m\u001b[0;34m:\u001b[0m\u001b[0;34m\u001b[0m\u001b[0;34m\u001b[0m\u001b[0m\n\u001b[0;32m----> 2\u001b[0;31m   \u001b[0;32mreturn\u001b[0m \u001b[0msum\u001b[0m\u001b[0;34m(\u001b[0m\u001b[0margs\u001b[0m\u001b[0;34m)\u001b[0m\u001b[0;34m\u001b[0m\u001b[0;34m\u001b[0m\u001b[0m\n\u001b[0m\u001b[1;32m      3\u001b[0m \u001b[0;34m\u001b[0m\u001b[0m\n\u001b[1;32m      4\u001b[0m \u001b[0mprint\u001b[0m\u001b[0;34m(\u001b[0m\u001b[0msoma_todos_numeros\u001b[0m\u001b[0;34m(\u001b[0m\u001b[0;34m'a'\u001b[0m\u001b[0;34m)\u001b[0m\u001b[0;34m)\u001b[0m\u001b[0;34m\u001b[0m\u001b[0;34m\u001b[0m\u001b[0m\n",
            "\u001b[0;31mTypeError\u001b[0m: unsupported operand type(s) for +: 'int' and 'str'"
          ]
        }
      ]
    },
    {
      "cell_type": "markdown",
      "metadata": {
        "id": "v_ypqWpWw1U6"
      },
      "source": [
        "Nessa caso não foi possível executar pois passamos uma string como argumento, e não é possível retornar a soma de um valor que não seja inteiro ou real."
      ]
    },
    {
      "cell_type": "markdown",
      "metadata": {
        "id": "OTOTXnGKxFQn"
      },
      "source": [
        "### Uma função não precisa apenas ter o ```*args```, por exemplo:"
      ]
    },
    {
      "cell_type": "code",
      "metadata": {
        "colab": {
          "base_uri": "https://localhost:8080/"
        },
        "id": "KLlhMl3xw0pc",
        "outputId": "5a03041b-105d-467e-ea16-1062b93e3a8c"
      },
      "source": [
        "def soma_todos_numeros(nome, email, *args):\n",
        "  return sum(args)\n",
        "\n",
        "print(soma_todos_numeros('Angelina', 'Jolie'))"
      ],
      "execution_count": null,
      "outputs": [
        {
          "output_type": "stream",
          "text": [
            "0\n"
          ],
          "name": "stdout"
        }
      ]
    },
    {
      "cell_type": "code",
      "metadata": {
        "colab": {
          "base_uri": "https://localhost:8080/"
        },
        "id": "o0u-VoB3xY8B",
        "outputId": "d7ff9a5a-0679-4390-9db4-e9e4aa29b8be"
      },
      "source": [
        "def soma_todos_numeros(nome, email, *args):\n",
        "  return sum(args)\n",
        "\n",
        "print(soma_todos_numeros('Angelina', 'Jolie', 3))"
      ],
      "execution_count": null,
      "outputs": [
        {
          "output_type": "stream",
          "text": [
            "3\n"
          ],
          "name": "stdout"
        }
      ]
    },
    {
      "cell_type": "code",
      "metadata": {
        "colab": {
          "base_uri": "https://localhost:8080/"
        },
        "id": "p6yEZWuuxbf8",
        "outputId": "f41e5f66-4bf2-43dc-d655-c3ca6ffe5f2e"
      },
      "source": [
        "def soma_todos_numeros(nome, email, *args):\n",
        "  return sum(args)\n",
        "\n",
        "print(soma_todos_numeros('Angelina', 'Jolie', 3, 5, 9, 7))"
      ],
      "execution_count": null,
      "outputs": [
        {
          "output_type": "stream",
          "text": [
            "24\n"
          ],
          "name": "stdout"
        }
      ]
    },
    {
      "cell_type": "markdown",
      "metadata": {
        "id": "F8HSnMmhzEvR"
      },
      "source": [
        "## Outro exemplo de utilização do ```*args```."
      ]
    },
    {
      "cell_type": "code",
      "metadata": {
        "id": "r2B9nHo_xeqP",
        "colab": {
          "base_uri": "https://localhost:8080/"
        },
        "outputId": "aafce065-901f-461d-d3f8-bf0ea9ee90ec"
      },
      "source": [
        "def verifica_info(*args):\n",
        "  if 'Geek' in args and 'University' in args:\n",
        "    return 'Bem-vindo Geek'\n",
        "  else:\n",
        "    return 'Eu não tenho certeza de quem você é...'\n",
        "\n",
        "\n",
        "print(verifica_info())"
      ],
      "execution_count": 1,
      "outputs": [
        {
          "output_type": "stream",
          "text": [
            "Eu não tenho certeza de quem você é...\n"
          ],
          "name": "stdout"
        }
      ]
    },
    {
      "cell_type": "code",
      "metadata": {
        "colab": {
          "base_uri": "https://localhost:8080/"
        },
        "id": "3NgOxdT-GX7a",
        "outputId": "f91f921f-9042-4468-93d2-6349871fbd7d"
      },
      "source": [
        "def verifica_info(*args):\n",
        "  if 'Geek' in args and 'University' in args:\n",
        "    return 'Bem-vindo Geek'\n",
        "  else:\n",
        "    return 'Eu não tenho certeza de quem você é...'\n",
        "\n",
        "\n",
        "print(verifica_info(1, True, 'University', 'Geek'))"
      ],
      "execution_count": 2,
      "outputs": [
        {
          "output_type": "stream",
          "text": [
            "Bem-vindo Geek\n"
          ],
          "name": "stdout"
        }
      ]
    },
    {
      "cell_type": "code",
      "metadata": {
        "colab": {
          "base_uri": "https://localhost:8080/"
        },
        "id": "kIM4v3j3GfhN",
        "outputId": "141a91d4-274c-493c-a920-d30a934a556e"
      },
      "source": [
        "def verifica_info(*args):\n",
        "  if 'Geek' in args and 'University' in args:\n",
        "    return 'Bem-vindo Geek'\n",
        "  else:\n",
        "    return 'Eu não tenho certeza de quem você é...'\n",
        "\n",
        "\n",
        "print(verifica_info(1, 4.5, 'University'))"
      ],
      "execution_count": 4,
      "outputs": [
        {
          "output_type": "stream",
          "text": [
            "Eu não tenho certeza de quem você é...\n"
          ],
          "name": "stdout"
        }
      ]
    },
    {
      "cell_type": "markdown",
      "metadata": {
        "id": "Zu96C_jQJy7p"
      },
      "source": [
        "## Outros exemplos"
      ]
    },
    {
      "cell_type": "code",
      "metadata": {
        "colab": {
          "base_uri": "https://localhost:8080/"
        },
        "id": "9lYyTz9pGh1y",
        "outputId": "9902f76d-f38b-4efd-9987-0b281faee529"
      },
      "source": [
        "def soma_todos_numeros(*args):\n",
        "  return sum(args)\n",
        "\n",
        "\n",
        "print(soma_todos_numeros())"
      ],
      "execution_count": 5,
      "outputs": [
        {
          "output_type": "stream",
          "text": [
            "0\n"
          ],
          "name": "stdout"
        }
      ]
    },
    {
      "cell_type": "markdown",
      "metadata": {
        "id": "qQqCc4mTJ90g"
      },
      "source": [
        "Nós já fizemos esse exemplo mas e se nós tivermos uma lista, podemos passar o valor dela para o ```*args```?"
      ]
    },
    {
      "cell_type": "code",
      "metadata": {
        "colab": {
          "base_uri": "https://localhost:8080/",
          "height": 317
        },
        "id": "zyrz-TbyJ8-s",
        "outputId": "a6188646-5846-468f-b74c-9bab37322e0a"
      },
      "source": [
        "def soma_todos_numeros(*args):\n",
        "  return sum(args)\n",
        "\n",
        "\n",
        "numeros = [1, 2, 3, 4, 5]\n",
        "\n",
        "print(soma_todos_numeros(numeros))"
      ],
      "execution_count": 8,
      "outputs": [
        {
          "output_type": "error",
          "ename": "TypeError",
          "evalue": "ignored",
          "traceback": [
            "\u001b[0;31m---------------------------------------------------------------------------\u001b[0m",
            "\u001b[0;31mTypeError\u001b[0m                                 Traceback (most recent call last)",
            "\u001b[0;32m<ipython-input-8-6f729142895a>\u001b[0m in \u001b[0;36m<module>\u001b[0;34m()\u001b[0m\n\u001b[1;32m      5\u001b[0m \u001b[0mnumeros\u001b[0m \u001b[0;34m=\u001b[0m \u001b[0;34m[\u001b[0m\u001b[0;36m1\u001b[0m\u001b[0;34m,\u001b[0m \u001b[0;36m2\u001b[0m\u001b[0;34m,\u001b[0m \u001b[0;36m3\u001b[0m\u001b[0;34m,\u001b[0m \u001b[0;36m4\u001b[0m\u001b[0;34m,\u001b[0m \u001b[0;36m5\u001b[0m\u001b[0;34m]\u001b[0m\u001b[0;34m\u001b[0m\u001b[0;34m\u001b[0m\u001b[0m\n\u001b[1;32m      6\u001b[0m \u001b[0;34m\u001b[0m\u001b[0m\n\u001b[0;32m----> 7\u001b[0;31m \u001b[0mprint\u001b[0m\u001b[0;34m(\u001b[0m\u001b[0msoma_todos_numeros\u001b[0m\u001b[0;34m(\u001b[0m\u001b[0mnumeros\u001b[0m\u001b[0;34m)\u001b[0m\u001b[0;34m)\u001b[0m\u001b[0;34m\u001b[0m\u001b[0;34m\u001b[0m\u001b[0m\n\u001b[0m",
            "\u001b[0;32m<ipython-input-8-6f729142895a>\u001b[0m in \u001b[0;36msoma_todos_numeros\u001b[0;34m(*args)\u001b[0m\n\u001b[1;32m      1\u001b[0m \u001b[0;32mdef\u001b[0m \u001b[0msoma_todos_numeros\u001b[0m\u001b[0;34m(\u001b[0m\u001b[0;34m*\u001b[0m\u001b[0margs\u001b[0m\u001b[0;34m)\u001b[0m\u001b[0;34m:\u001b[0m\u001b[0;34m\u001b[0m\u001b[0;34m\u001b[0m\u001b[0m\n\u001b[0;32m----> 2\u001b[0;31m   \u001b[0;32mreturn\u001b[0m \u001b[0msum\u001b[0m\u001b[0;34m(\u001b[0m\u001b[0margs\u001b[0m\u001b[0;34m)\u001b[0m\u001b[0;34m\u001b[0m\u001b[0;34m\u001b[0m\u001b[0m\n\u001b[0m\u001b[1;32m      3\u001b[0m \u001b[0;34m\u001b[0m\u001b[0m\n\u001b[1;32m      4\u001b[0m \u001b[0;34m\u001b[0m\u001b[0m\n\u001b[1;32m      5\u001b[0m \u001b[0mnumeros\u001b[0m \u001b[0;34m=\u001b[0m \u001b[0;34m[\u001b[0m\u001b[0;36m1\u001b[0m\u001b[0;34m,\u001b[0m \u001b[0;36m2\u001b[0m\u001b[0;34m,\u001b[0m \u001b[0;36m3\u001b[0m\u001b[0;34m,\u001b[0m \u001b[0;36m4\u001b[0m\u001b[0;34m,\u001b[0m \u001b[0;36m5\u001b[0m\u001b[0;34m]\u001b[0m\u001b[0;34m\u001b[0m\u001b[0;34m\u001b[0m\u001b[0m\n",
            "\u001b[0;31mTypeError\u001b[0m: unsupported operand type(s) for +: 'int' and 'list'"
          ]
        }
      ]
    },
    {
      "cell_type": "markdown",
      "metadata": {
        "id": "Rgio047FKOs0"
      },
      "source": [
        "Como pudemos ver, obtivemos um ```TypeError``` pois, embora o ```*args``` suporte recebimento de listas o ```sum(args)``` não suporta listas. Então o que podemos fazer para resolver esse problema?"
      ]
    },
    {
      "cell_type": "markdown",
      "metadata": {
        "id": "Ry1ataAFKyjq"
      },
      "source": [
        "### Desempacotador"
      ]
    },
    {
      "cell_type": "code",
      "metadata": {
        "colab": {
          "base_uri": "https://localhost:8080/"
        },
        "id": "2ZwPnCXbKN4d",
        "outputId": "8e0742dc-1cca-4b54-b29e-c5efd1f7d407"
      },
      "source": [
        "def soma_todos_numeros(*args):\n",
        "  return sum(args)\n",
        "\n",
        "\n",
        "numeros = [1, 2, 3, 4, 5]\n",
        "\n",
        "num1, num2, num3, num4, num5 = numeros\n",
        "\n",
        "print(soma_todos_numeros(num1, num2, num3, num4, num5))"
      ],
      "execution_count": 9,
      "outputs": [
        {
          "output_type": "stream",
          "text": [
            "15\n"
          ],
          "name": "stdout"
        }
      ]
    },
    {
      "cell_type": "markdown",
      "metadata": {
        "id": "T7yc5PnaLDvm"
      },
      "source": [
        "Embora tenha funcionado, não é a forma mais intuitiva, até porque existe uma forma do Python fazer esse desempacotamento automaticamente:"
      ]
    },
    {
      "cell_type": "code",
      "metadata": {
        "colab": {
          "base_uri": "https://localhost:8080/"
        },
        "id": "H-4h5XohLCDV",
        "outputId": "4a98e958-1a78-4399-fbdc-89489870fbd1"
      },
      "source": [
        "def soma_todos_numeros(*args):\n",
        "  return sum(args)\n",
        "\n",
        "\n",
        "numeros = [1, 2, 3, 4, 5]\n",
        "\n",
        "print(soma_todos_numeros(*numeros))"
      ],
      "execution_count": 10,
      "outputs": [
        {
          "output_type": "stream",
          "text": [
            "15\n"
          ],
          "name": "stdout"
        }
      ]
    },
    {
      "cell_type": "markdown",
      "metadata": {
        "id": "quvHnAdfLRwW"
      },
      "source": [
        "Veja que funcionou da mesma forma, de uma forma bem mais simplificada.  \n",
        "  \n",
        "OBS: O asterísco serve para que informemos ao Python que estamos passando como argumentos uma coleção de dados, dessa forma, ele saberá que precisará antes desempacotar estes dados.  \n",
        "Ps: esse desempacotamento também funciona pra outros tipos de coleções:"
      ]
    },
    {
      "cell_type": "code",
      "metadata": {
        "colab": {
          "base_uri": "https://localhost:8080/"
        },
        "id": "mxxBzsNfLRAD",
        "outputId": "5cef8c74-4e6a-443c-834e-80754d6902ca"
      },
      "source": [
        "def soma_todos_numeros(*args):\n",
        "  return sum(args)\n",
        "\n",
        "\n",
        "numeros = (1, 2, 3, 4, 5)\n",
        "\n",
        "print(soma_todos_numeros(*numeros))"
      ],
      "execution_count": 11,
      "outputs": [
        {
          "output_type": "stream",
          "text": [
            "15\n"
          ],
          "name": "stdout"
        }
      ]
    },
    {
      "cell_type": "code",
      "metadata": {
        "colab": {
          "base_uri": "https://localhost:8080/"
        },
        "id": "orpEccX6L2ac",
        "outputId": "fd8d155e-c6d4-4149-e62a-5de87c6dc808"
      },
      "source": [
        "def soma_todos_numeros(*args):\n",
        "  return sum(args)\n",
        "\n",
        "\n",
        "numeros = {1, 2, 3, 4, 5}\n",
        "\n",
        "print(soma_todos_numeros(*numeros))"
      ],
      "execution_count": 12,
      "outputs": [
        {
          "output_type": "stream",
          "text": [
            "15\n"
          ],
          "name": "stdout"
        }
      ]
    },
    {
      "cell_type": "code",
      "metadata": {
        "id": "NQpPKFI6L7st"
      },
      "source": [
        ""
      ],
      "execution_count": null,
      "outputs": []
    }
  ]
}