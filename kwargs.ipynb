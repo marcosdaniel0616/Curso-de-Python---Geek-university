{
  "nbformat": 4,
  "nbformat_minor": 0,
  "metadata": {
    "colab": {
      "name": "kwargs.ipynb",
      "provenance": [],
      "collapsed_sections": [],
      "authorship_tag": "ABX9TyOP0Nzm2RU63MX9jEcicLM0",
      "include_colab_link": true
    },
    "kernelspec": {
      "name": "python3",
      "display_name": "Python 3"
    },
    "language_info": {
      "name": "python"
    }
  },
  "cells": [
    {
      "cell_type": "markdown",
      "metadata": {
        "id": "view-in-github",
        "colab_type": "text"
      },
      "source": [
        "<a href=\"https://colab.research.google.com/github/marcosdaniel0616/Curso-de-Python---Geek-university/blob/master/kwargs.ipynb\" target=\"_parent\"><img src=\"https://colab.research.google.com/assets/colab-badge.svg\" alt=\"Open In Colab\"/></a>"
      ]
    },
    {
      "cell_type": "markdown",
      "metadata": {
        "id": "BJkzIzuOTvy5"
      },
      "source": [
        "# **kwargs\n",
        "  \n",
        "Poderíamos chamar este parâmetro de **xis, mas por convenção chamamos de ```kwargs```\n",
        "  \n",
        "Este é só mais um parâmetro mas diferente do ```*args``` que coloca os valores extras em uma tupla, o ```**kwargs``` exige que usemos parâmetros nomeados, e transforma estes parâmetros extras em um dicionário."
      ]
    },
    {
      "cell_type": "markdown",
      "metadata": {
        "id": "3GeKY9SBVC1h"
      },
      "source": [
        "## Exemplo:"
      ]
    },
    {
      "cell_type": "code",
      "metadata": {
        "colab": {
          "base_uri": "https://localhost:8080/"
        },
        "id": "vOnZwIkBTr-o",
        "outputId": "0cab0b6d-582a-4ee0-c7f6-01fc3d3bd5ee"
      },
      "source": [
        "def cores_favoritas(**kwargs):\n",
        "  print(kwargs)\n",
        "\n",
        "\n",
        "cores_favoritas(marcos='verde', julia='amarelo', fernanda='azul', vanessa='branco')"
      ],
      "execution_count": null,
      "outputs": [
        {
          "output_type": "stream",
          "text": [
            "{'marcos': 'verde', 'julia': 'amarelo', 'fernanda': 'azul', 'vanessa': 'branco'}\n"
          ],
          "name": "stdout"
        }
      ]
    },
    {
      "cell_type": "markdown",
      "metadata": {
        "id": "i5n6L6Q8VkhJ"
      },
      "source": [
        "Podemos ver que os valores recebidos foram passados para dicionários. Vamos ver mais coisas que podemos fazer com os **kwargs."
      ]
    },
    {
      "cell_type": "code",
      "metadata": {
        "colab": {
          "base_uri": "https://localhost:8080/"
        },
        "id": "PQQyM7IdVVm_",
        "outputId": "b0451ae0-820f-4e09-ad25-324f998e04d6"
      },
      "source": [
        "def cores_favoritas(**kwargs):\n",
        "  for pessoa, cor in kwargs.items():\n",
        "    print(f'A cor favorita de {pessoa} é {cor}')\n",
        "\n",
        "\n",
        "cores_favoritas(marcos='verde', julia='amarelo', fernanda='azul', vanessa='branco')"
      ],
      "execution_count": null,
      "outputs": [
        {
          "output_type": "stream",
          "text": [
            "A cor favorita de marcos é verde\n",
            "A cor favorita de julia é amarelo\n",
            "A cor favorita de fernanda é azul\n",
            "A cor favorita de vanessa é branco\n"
          ],
          "name": "stdout"
        }
      ]
    },
    {
      "cell_type": "markdown",
      "metadata": {
        "id": "TZXkruJJWCXk"
      },
      "source": [
        "viu que funcionou corretamente o uso de ```for```??  \n",
        "Uma coisa que não ficou tão legal é que o nome das pessoas ficou em letras minúsculas, mas podemos resolver isso!!"
      ]
    },
    {
      "cell_type": "code",
      "metadata": {
        "colab": {
          "base_uri": "https://localhost:8080/"
        },
        "id": "WLEYFT3DV3vb",
        "outputId": "01f6880d-6b56-4088-9dbb-a0ea9de637ed"
      },
      "source": [
        "  def cores_favoritas(**kwargs):\n",
        "    for pessoa, cor in kwargs.items():\n",
        "      print(f'A cor favorita de {pessoa.title()} é {cor}')\n",
        "\n",
        "\n",
        "cores_favoritas(marcos='verde', julia='amarelo', fernanda='azul', vanessa='branco')"
      ],
      "execution_count": null,
      "outputs": [
        {
          "output_type": "stream",
          "text": [
            "A cor favorita de Marcos é verde\n",
            "A cor favorita de Julia é amarelo\n",
            "A cor favorita de Fernanda é azul\n",
            "A cor favorita de Vanessa é branco\n"
          ],
          "name": "stdout"
        }
      ]
    },
    {
      "cell_type": "markdown",
      "metadata": {
        "id": "jX37GeSBWcYf"
      },
      "source": [
        "OBS: Os parâmetros **args e **kwargs não obrigatórios."
      ]
    },
    {
      "cell_type": "code",
      "metadata": {
        "id": "mNfyczbiWOUB"
      },
      "source": [
        "   def cores_favoritas(**kwargs):\n",
        "    for pessoa, cor in kwargs.items():\n",
        "      print(f'A cor favorita de {pessoa.title()} é {cor}')\n",
        "\n",
        "\n",
        "cores_favoritas()"
      ],
      "execution_count": null,
      "outputs": []
    },
    {
      "cell_type": "code",
      "metadata": {
        "colab": {
          "base_uri": "https://localhost:8080/"
        },
        "id": "gjDl-sehWpBu",
        "outputId": "988398c6-bee2-4634-8a23-b3c74826018c"
      },
      "source": [
        "  def cores_favoritas(**kwargs):\n",
        "    for pessoa, cor in kwargs.items():\n",
        "      print(f'A cor favorita de {pessoa.title()} é {cor}')\n",
        "\n",
        "\n",
        "cores_favoritas(marcos='verde')"
      ],
      "execution_count": null,
      "outputs": [
        {
          "output_type": "stream",
          "text": [
            "A cor favorita de Marcos é verde\n"
          ],
          "name": "stdout"
        }
      ]
    },
    {
      "cell_type": "markdown",
      "metadata": {
        "id": "7vtV-wqiWtdw"
      },
      "source": [
        "## Exemplo mais complexo:"
      ]
    },
    {
      "cell_type": "code",
      "metadata": {
        "colab": {
          "base_uri": "https://localhost:8080/"
        },
        "id": "lWFyj-isWq7d",
        "outputId": "5233edbb-450f-41c2-d845-843234619428"
      },
      "source": [
        "def cumprimento_especial(**kwargs):\n",
        "  if 'geek' in kwargs and kwargs['geek'] == 'Python':\n",
        "    return 'Você recebeu um cumprimento Pythônico Geek!'\n",
        "  elif 'geek' in kwargs:\n",
        "    return f'{kwargs[\"Geek\"]} Geek!'\n",
        "  else:\n",
        "    return 'Não tenho certeza de quem você é...'\n",
        "\n",
        "\n",
        "print(cumprimento_especial())"
      ],
      "execution_count": null,
      "outputs": [
        {
          "output_type": "stream",
          "text": [
            "Não tenho certeza de quem você é...\n"
          ],
          "name": "stdout"
        }
      ]
    },
    {
      "cell_type": "code",
      "metadata": {
        "colab": {
          "base_uri": "https://localhost:8080/"
        },
        "id": "W3vTiSLyXLUY",
        "outputId": "b9530ae6-f40a-4010-9522-b8060185c90d"
      },
      "source": [
        "def cumprimento_especial(**kwargs):\n",
        "  if 'geek' in kwargs and kwargs['geek'] == 'Python':\n",
        "    return 'Você recebeu um cumprimento Pythônico Geek!'\n",
        "  elif 'geek' in kwargs:\n",
        "    return f'{kwargs[\"Geek\"]} Geek!'\n",
        "  else:\n",
        "    return 'Não tenho certeza de quem você é...'\n",
        "\n",
        "\n",
        "print(cumprimento_especial(geek='Python'))"
      ],
      "execution_count": null,
      "outputs": [
        {
          "output_type": "stream",
          "text": [
            "Você recebeu um cumprimento Pythônico Geek!\n"
          ],
          "name": "stdout"
        }
      ]
    },
    {
      "cell_type": "code",
      "metadata": {
        "colab": {
          "base_uri": "https://localhost:8080/"
        },
        "id": "8GUi-5gRX2rz",
        "outputId": "253a5143-d872-4d4d-9475-bcc977a8c4dc"
      },
      "source": [
        "def cumprimento_especial(**kwargs):\n",
        "  if 'geek' in kwargs and kwargs['geek'] == 'Python':\n",
        "    return 'Você recebeu um cumprimento Pythônico Geek!'\n",
        "  elif 'geek' in kwargs:\n",
        "    return f'{kwargs[\"geek\"]} Geek!'\n",
        "  else:\n",
        "    return 'Não tenho certeza de quem você é...'\n",
        "\n",
        "\n",
        "print(cumprimento_especial(geek='Oi'))"
      ],
      "execution_count": null,
      "outputs": [
        {
          "output_type": "stream",
          "text": [
            "Oi Geek!\n"
          ],
          "name": "stdout"
        }
      ]
    },
    {
      "cell_type": "code",
      "metadata": {
        "colab": {
          "base_uri": "https://localhost:8080/"
        },
        "id": "SKeQcLSKX5rZ",
        "outputId": "e1be7778-42ef-4657-8224-c14f518a563b"
      },
      "source": [
        "def cumprimento_especial(**kwargs):\n",
        "  if 'geek' in kwargs and kwargs['geek'] == 'Python':\n",
        "    return 'Você recebeu um cumprimento Pythônico Geek!'\n",
        "  elif 'geek' in kwargs:\n",
        "    return f'{kwargs[\"geek\"]} Geek!'\n",
        "  else:\n",
        "    return 'Não tenho certeza de quem você é...'\n",
        "\n",
        "\n",
        "print(cumprimento_especial(geek='especial'))"
      ],
      "execution_count": null,
      "outputs": [
        {
          "output_type": "stream",
          "text": [
            "especial Geek!\n"
          ],
          "name": "stdout"
        }
      ]
    },
    {
      "cell_type": "markdown",
      "metadata": {
        "id": "LnittQTMZbyx"
      },
      "source": [
        "### Nas nossas funções, podemos ter (OBRIGATORIAMENTE NESTA ORDEM):\n",
        "- Parâmetros obrigatórios\n",
        "- *args\n",
        "- Parâmetros default (não obrigatórios);\n",
        "- **kwargs"
      ]
    },
    {
      "cell_type": "code",
      "metadata": {
        "colab": {
          "base_uri": "https://localhost:8080/"
        },
        "id": "TchViYHrY_ty",
        "outputId": "6143f08b-2dad-4b63-e879-eb15f885ab53"
      },
      "source": [
        "def minha_funcao(nome, idade, *args, solteiro=False, **kwargs):\n",
        "  print(f'{nome} tem {idade} anos')\n",
        "  if solteiro:\n",
        "    print('Solteiro')\n",
        "  else:\n",
        "    print('Casado')\n",
        "  print(kwargs)\n",
        "\n",
        "\n",
        "minha_funcao('Julia', 8)"
      ],
      "execution_count": null,
      "outputs": [
        {
          "output_type": "stream",
          "text": [
            "Julia tem 8 anos\n",
            "Casado\n",
            "{}\n"
          ],
          "name": "stdout"
        }
      ]
    },
    {
      "cell_type": "code",
      "metadata": {
        "colab": {
          "base_uri": "https://localhost:8080/"
        },
        "id": "VUTtPpghaW19",
        "outputId": "2e938cfd-dded-4006-e09d-a6103336d3a2"
      },
      "source": [
        "def minha_funcao(nome, idade, *args, solteiro=False, **kwargs):\n",
        "  print(f'{nome} tem {idade} anos')\n",
        "  if solteiro:\n",
        "    print('Solteiro')\n",
        "  else:\n",
        "    print('Casado')\n",
        "  print(kwargs)\n",
        "\n",
        "\n",
        "minha_funcao('Felicity', 4, 5, 3, solteiro=True)"
      ],
      "execution_count": null,
      "outputs": [
        {
          "output_type": "stream",
          "text": [
            "Felicity tem 4 anos\n",
            "Solteiro\n",
            "{}\n"
          ],
          "name": "stdout"
        }
      ]
    },
    {
      "cell_type": "code",
      "metadata": {
        "colab": {
          "base_uri": "https://localhost:8080/"
        },
        "id": "azzN6EMvas0t",
        "outputId": "b43b1db8-a4da-4eaa-e833-868aec2f98c9"
      },
      "source": [
        "def minha_funcao(nome, idade, *args, solteiro=False, **kwargs):\n",
        "  print(f'{nome} tem {idade} anos')\n",
        "  if solteiro:\n",
        "    print('Solteiro')\n",
        "  else:\n",
        "    print('Casado')\n",
        "  print(kwargs)\n",
        "\n",
        "\n",
        "minha_funcao('Felipe', 34, eu='Não', voce='Vai',)"
      ],
      "execution_count": null,
      "outputs": [
        {
          "output_type": "stream",
          "text": [
            "Felipe tem 34 anos\n",
            "Casado\n",
            "{'eu': 'Não', 'voce': 'Vai'}\n"
          ],
          "name": "stdout"
        }
      ]
    },
    {
      "cell_type": "code",
      "metadata": {
        "colab": {
          "base_uri": "https://localhost:8080/"
        },
        "id": "XJlLYHSla1Of",
        "outputId": "13fd3f1f-59ce-4a69-ec6f-63791fa968ba"
      },
      "source": [
        "def minha_funcao(nome, idade, *args, solteiro=False, **kwargs):\n",
        "  print(f'{nome} tem {idade} anos')\n",
        "  if solteiro:\n",
        "    print('Solteiro')\n",
        "  else:\n",
        "    print('Casado')\n",
        "  print(kwargs)\n",
        "\n",
        "\n",
        "minha_funcao('Carla', 9, 4, 3, java=False, python=True)"
      ],
      "execution_count": null,
      "outputs": [
        {
          "output_type": "stream",
          "text": [
            "Carla tem 9 anos\n",
            "Casado\n",
            "{'java': False, 'python': True}\n"
          ],
          "name": "stdout"
        }
      ]
    },
    {
      "cell_type": "markdown",
      "metadata": {
        "id": "8qYbAivWboLE"
      },
      "source": [
        "## Agora vamos entender por que é importante manter essa ordem dos parâmetros na declaração"
      ]
    },
    {
      "cell_type": "markdown",
      "metadata": {
        "id": "flC-V6E_d7Ae"
      },
      "source": [
        "Função com a ordem correta de parâmetros:"
      ]
    },
    {
      "cell_type": "code",
      "metadata": {
        "id": "2uaFlZZDa98V"
      },
      "source": [
        "def mostra_info(a, b, *args, instrutor='Geek', **kwargs):\n",
        "  return [a, b, args, intrutor, kwargs]\n",
        "\n",
        "\n",
        "print(mostra_info(1, 2, 3, sobrenome='University,', cargo='Instrutor', ))"
      ],
      "execution_count": null,
      "outputs": []
    },
    {
      "cell_type": "markdown",
      "metadata": {
        "id": "jfzs-xvOd5JU"
      },
      "source": [
        "Função com a ordem errade de parâmetros:"
      ]
    },
    {
      "cell_type": "code",
      "metadata": {
        "colab": {
          "base_uri": "https://localhost:8080/"
        },
        "id": "uXYmHbIFchmg",
        "outputId": "75a084cb-6bfd-4dc1-df75-437c170fea3e"
      },
      "source": [
        "def mostra_info(a, b, instrutor='Geek', *args, **kwargs):\n",
        "  return [a, b, args, instrutor, kwargs]\n",
        "\n",
        "\n",
        "print(mostra_info(1, 2, 3, sobrenome='University,', cargo='Instrutor', ))"
      ],
      "execution_count": null,
      "outputs": [
        {
          "output_type": "stream",
          "text": [
            "[1, 2, (), 3, {'sobrenome': 'University,', 'cargo': 'Instrutor'}]\n"
          ],
          "name": "stdout"
        }
      ]
    },
    {
      "cell_type": "markdown",
      "metadata": {
        "id": "f3WXPGoEeye7"
      },
      "source": [
        "Por conta dessa ordem incorreta, nosso *args que deveria receber o valor ```3``` acabou ficando vazio."
      ]
    },
    {
      "cell_type": "markdown",
      "metadata": {
        "id": "_ILhNXkafRT0"
      },
      "source": [
        "## Desempacotar com kwargs"
      ]
    },
    {
      "cell_type": "code",
      "metadata": {
        "id": "8KMrL7vFeLi3",
        "colab": {
          "base_uri": "https://localhost:8080/"
        },
        "outputId": "0f87f4bc-0a29-4edb-c5c5-0c39958884d7"
      },
      "source": [
        "def mostra_nomes(**kwargs):\n",
        "   return f\"{kwargs['nome']} {kwargs['sobrenome']}\"\n",
        "\n",
        "\n",
        "nomes = {'nome': 'Felicity', 'sobrenome': 'Jones'}\n",
        "\n",
        "print(mostra_nomes(**nomes))"
      ],
      "execution_count": 14,
      "outputs": [
        {
          "output_type": "stream",
          "text": [
            "Felicity Jones\n"
          ],
          "name": "stdout"
        }
      ]
    },
    {
      "cell_type": "markdown",
      "metadata": {
        "id": "uktuDWdi55Iz"
      },
      "source": [
        "Assim como no Args nós passamos o \"*\" antes do nome da variável, aqui no kwargs utilizamos os dois asteríscos. (não vou digitar por causa do MarkDown haha)"
      ]
    },
    {
      "cell_type": "code",
      "metadata": {
        "colab": {
          "base_uri": "https://localhost:8080/"
        },
        "id": "5GxmSUto4cri",
        "outputId": "57679d08-cd3b-44e5-a2e3-c30cf00d35da"
      },
      "source": [
        "def soma_multiplos_numeros(a, b, c):\n",
        "  print(a + b + c)\n",
        "\n",
        "\n",
        "soma_multiplos_numeros(1, 2, 3)"
      ],
      "execution_count": 15,
      "outputs": [
        {
          "output_type": "stream",
          "text": [
            "6\n"
          ],
          "name": "stdout"
        }
      ]
    },
    {
      "cell_type": "markdown",
      "metadata": {
        "id": "Nss62-rd6_I-"
      },
      "source": [
        "Desempacotando como outros tipos de coleções:"
      ]
    },
    {
      "cell_type": "code",
      "metadata": {
        "colab": {
          "base_uri": "https://localhost:8080/"
        },
        "id": "fM1qmroK6vga",
        "outputId": "a941b187-8a4a-4c2f-c688-feebdb8f2081"
      },
      "source": [
        "def soma_multiplos_numeros(a, b, c):\n",
        "  print(a + b + c)\n",
        "\n",
        "\n",
        "lista = [1, 2, 3]\n",
        "tupla = (1, 2, 3)\n",
        "conjunto = {1, 2, 3}\n",
        "\n",
        "soma_multiplos_numeros(*lista)\n",
        "soma_multiplos_numeros(*tupla)\n",
        "soma_multiplos_numeros(*conjunto)"
      ],
      "execution_count": 16,
      "outputs": [
        {
          "output_type": "stream",
          "text": [
            "6\n",
            "6\n",
            "6\n"
          ],
          "name": "stdout"
        }
      ]
    },
    {
      "cell_type": "markdown",
      "metadata": {
        "id": "Q-ah2WUU7XUG"
      },
      "source": [
        "Até ai nós já aprendemos, mas e como dicionário?"
      ]
    },
    {
      "cell_type": "code",
      "metadata": {
        "colab": {
          "base_uri": "https://localhost:8080/"
        },
        "id": "Qab6EWU67Woh",
        "outputId": "95861be0-d291-40f1-e060-4c2715e0a73e"
      },
      "source": [
        "def soma_multiplos_numeros(a, b, c):\n",
        "  print(a + b + c)\n",
        "\n",
        "\n",
        "dicionario = dict(a=1, b=2, c= 3)\n",
        "\n",
        "soma_multiplos_numeros(**dicionario)"
      ],
      "execution_count": 20,
      "outputs": [
        {
          "output_type": "stream",
          "text": [
            "6\n"
          ],
          "name": "stdout"
        }
      ]
    },
    {
      "cell_type": "markdown",
      "metadata": {
        "id": "QudcG1Ss7nzu"
      },
      "source": [
        "Basta acrescentarmos dois ateríscos ao invés de um e os valores do dicionário serão passados como parâmetro. MAS TOME CUIDADO.\n",
        "## OBS: Os nomes da chave do dicionário devem ser os mesmos dos do parâmetros da função!"
      ]
    },
    {
      "cell_type": "code",
      "metadata": {
        "colab": {
          "base_uri": "https://localhost:8080/",
          "height": 198
        },
        "id": "WtkyzzLs7j0o",
        "outputId": "fb60adba-a2ea-4e4f-f186-4f2d292c15fd"
      },
      "source": [
        "def soma_multiplos_numeros(a, b, c):\n",
        "  print(a + b + c)\n",
        "\n",
        "\n",
        "dicionario = dict(d=1, e=2, f= 3)\n",
        "\n",
        "soma_multiplos_numeros(**dicionario)"
      ],
      "execution_count": 21,
      "outputs": [
        {
          "output_type": "error",
          "ename": "TypeError",
          "evalue": "ignored",
          "traceback": [
            "\u001b[0;31m---------------------------------------------------------------------------\u001b[0m",
            "\u001b[0;31mTypeError\u001b[0m                                 Traceback (most recent call last)",
            "\u001b[0;32m<ipython-input-21-803572273f1c>\u001b[0m in \u001b[0;36m<module>\u001b[0;34m()\u001b[0m\n\u001b[1;32m      5\u001b[0m \u001b[0mdicionario\u001b[0m \u001b[0;34m=\u001b[0m \u001b[0mdict\u001b[0m\u001b[0;34m(\u001b[0m\u001b[0md\u001b[0m\u001b[0;34m=\u001b[0m\u001b[0;36m1\u001b[0m\u001b[0;34m,\u001b[0m \u001b[0me\u001b[0m\u001b[0;34m=\u001b[0m\u001b[0;36m2\u001b[0m\u001b[0;34m,\u001b[0m \u001b[0mf\u001b[0m\u001b[0;34m=\u001b[0m \u001b[0;36m3\u001b[0m\u001b[0;34m)\u001b[0m\u001b[0;34m\u001b[0m\u001b[0;34m\u001b[0m\u001b[0m\n\u001b[1;32m      6\u001b[0m \u001b[0;34m\u001b[0m\u001b[0m\n\u001b[0;32m----> 7\u001b[0;31m \u001b[0msoma_multiplos_numeros\u001b[0m\u001b[0;34m(\u001b[0m\u001b[0;34m**\u001b[0m\u001b[0mdicionario\u001b[0m\u001b[0;34m)\u001b[0m\u001b[0;34m\u001b[0m\u001b[0;34m\u001b[0m\u001b[0m\n\u001b[0m",
            "\u001b[0;31mTypeError\u001b[0m: soma_multiplos_numeros() got an unexpected keyword argument 'd'"
          ]
        }
      ]
    },
    {
      "cell_type": "code",
      "metadata": {
        "id": "u-q9aK7e8GI3"
      },
      "source": [
        ""
      ],
      "execution_count": null,
      "outputs": []
    }
  ]
}