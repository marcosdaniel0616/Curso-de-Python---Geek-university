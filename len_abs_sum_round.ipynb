{
  "nbformat": 4,
  "nbformat_minor": 0,
  "metadata": {
    "colab": {
      "name": "len-abs-sum-round.ipynb",
      "provenance": [],
      "authorship_tag": "ABX9TyNkC6/ZdTOfsq8j1OG2IsWT",
      "include_colab_link": true
    },
    "kernelspec": {
      "name": "python3",
      "display_name": "Python 3"
    },
    "language_info": {
      "name": "python"
    }
  },
  "cells": [
    {
      "cell_type": "markdown",
      "metadata": {
        "id": "view-in-github",
        "colab_type": "text"
      },
      "source": [
        "<a href=\"https://colab.research.google.com/github/marcosdaniel0616/Curso-de-Python---Geek-university/blob/master/len_abs_sum_round.ipynb\" target=\"_parent\"><img src=\"https://colab.research.google.com/assets/colab-badge.svg\" alt=\"Open In Colab\"/></a>"
      ]
    },
    {
      "cell_type": "markdown",
      "metadata": {
        "id": "9T5fFmd_dOte"
      },
      "source": [
        "# Len, Abs, Sum, Round\n",
        "\n",
        "## Len\n",
        "len() -> Retorna o tamanho (ou seja, número de itens) de um iterável.\n",
        "\n",
        "## ABS\n",
        "abs() -> Retorna o valor absoluto de um número inteiro ou real. De forma básica seria o seu valor real sem o sinal.\n",
        "\n",
        "## Sum\n",
        "sum() -> Recebe como parâmetro um iterável, podendo receber um valor inicial, e retorna a soma total dos elementos, incluindo o valor inicial.  \n",
        "OBS: O valor inicial default é 0.\n",
        "\n",
        "## Round\n",
        "round() -> Retorna um número arredondado para n digito de precisão após a casa decimal. Se a precisão não for informada retorna o inteiro mais próximo pra entrada."
      ]
    },
    {
      "cell_type": "markdown",
      "metadata": {
        "id": "q6dAZOmvdjvs"
      },
      "source": [
        "## Só pra revisar:"
      ]
    },
    {
      "cell_type": "code",
      "metadata": {
        "colab": {
          "base_uri": "https://localhost:8080/"
        },
        "id": "sxE_StHVdKPO",
        "outputId": "c9d34da0-dea2-4832-a7c8-51380abe12de"
      },
      "source": [
        "print(len('Geek University'))\n",
        "\n",
        "print(len([1, 2, 3, 4, 5]))\n",
        "\n",
        "print(len((1, 2, 3, 4, 5)))\n",
        "\n",
        "print(len({1, 2, 3, 4, 5}))\n",
        "\n",
        "print(len({'a': 1,'b': 2,'c': 3,'d': 4,'e': 5}))\n",
        "\n",
        "print(len(range(0, 10)))"
      ],
      "execution_count": 4,
      "outputs": [
        {
          "output_type": "stream",
          "text": [
            "15\n",
            "5\n",
            "5\n",
            "5\n",
            "5\n",
            "10\n"
          ],
          "name": "stdout"
        }
      ]
    },
    {
      "cell_type": "markdown",
      "metadata": {
        "id": "-_YtzmJ3eDgd"
      },
      "source": [
        "## Por debaixo dos panos, quando utilizamos a função len(), o python faz o seguinte:"
      ]
    },
    {
      "cell_type": "markdown",
      "metadata": {
        "id": "oiGJROSQeUVm"
      },
      "source": [
        "### Dunder len"
      ]
    },
    {
      "cell_type": "code",
      "metadata": {
        "colab": {
          "base_uri": "https://localhost:8080/"
        },
        "id": "PZRlwyHIdp0C",
        "outputId": "1fde57e5-7325-41ac-c5f1-9caefedfd774"
      },
      "source": [
        "print('Geek University'.__len__())\n"
      ],
      "execution_count": 6,
      "outputs": [
        {
          "output_type": "stream",
          "text": [
            "15\n"
          ],
          "name": "stdout"
        }
      ]
    },
    {
      "cell_type": "markdown",
      "metadata": {
        "id": "0-jngjowenz9"
      },
      "source": [
        "## Exemplos ABS:"
      ]
    },
    {
      "cell_type": "code",
      "metadata": {
        "colab": {
          "base_uri": "https://localhost:8080/"
        },
        "id": "aaURKJK3eN4v",
        "outputId": "c36a82af-e419-4fac-e9ee-940f42ea9e6b"
      },
      "source": [
        "print(abs(-5))\n",
        "print(abs(5))\n",
        "print(abs(3.14))\n",
        "print(abs(-3.14))"
      ],
      "execution_count": 7,
      "outputs": [
        {
          "output_type": "stream",
          "text": [
            "5\n",
            "5\n",
            "3.14\n",
            "3.14\n"
          ],
          "name": "stdout"
        }
      ]
    },
    {
      "cell_type": "markdown",
      "metadata": {
        "id": "ay_dPy6Ee2uH"
      },
      "source": [
        "OBS: Não podemos utilizar o Abs com uma string."
      ]
    },
    {
      "cell_type": "markdown",
      "metadata": {
        "id": "UtsTsr-HfWkP"
      },
      "source": [
        "## Exemplos sum():"
      ]
    },
    {
      "cell_type": "code",
      "metadata": {
        "colab": {
          "base_uri": "https://localhost:8080/"
        },
        "id": "bOVQyBlOexFE",
        "outputId": "1731f701-d9ff-4e8f-d86b-205b63177900"
      },
      "source": [
        "print(sum([1, 2, 3, 4, 5]))\n",
        "\n",
        "print(sum([1, 2, 3, 4, 5], 5))\n",
        "\n",
        "print(sum([1, 2, 3, 4, 5], -5))\n",
        "\n",
        "print(sum([3.145, 5.678]))\n",
        "\n",
        "print(sum((1, 2, 3, 4, 5)))\n",
        "\n",
        "print(sum({1, 2, 3, 4, 5}))\n",
        "\n",
        "print(sum({'a': 1,'b': 2,'c': 3,'d': 4,'e': 5}.values()))\n"
      ],
      "execution_count": 14,
      "outputs": [
        {
          "output_type": "stream",
          "text": [
            "15\n",
            "20\n",
            "10\n",
            "8.823\n",
            "15\n",
            "15\n",
            "15\n"
          ],
          "name": "stdout"
        }
      ]
    },
    {
      "cell_type": "markdown",
      "metadata": {
        "id": "hcDjXDH_giiS"
      },
      "source": [
        "### OBS: O sum() também não funciona com strings."
      ]
    },
    {
      "cell_type": "markdown",
      "metadata": {
        "id": "rvlyhEfjg4Si"
      },
      "source": [
        "## Exemplos Round():"
      ]
    },
    {
      "cell_type": "code",
      "metadata": {
        "colab": {
          "base_uri": "https://localhost:8080/"
        },
        "id": "HlUNfxqLfaI6",
        "outputId": "26b87012-0f67-40d5-fae5-f5c3d26c52cd"
      },
      "source": [
        "print(round(10.2))\n",
        "\n",
        "print(round(10.5))\n",
        "\n",
        "print(round(10.6))\n",
        "\n",
        "print(round(10.21212121, 2))\n",
        "\n",
        "print(round(10.219999999), 2)"
      ],
      "execution_count": 17,
      "outputs": [
        {
          "output_type": "stream",
          "text": [
            "10\n",
            "10\n",
            "11\n",
            "10.21\n",
            "10 2\n"
          ],
          "name": "stdout"
        }
      ]
    },
    {
      "cell_type": "code",
      "metadata": {
        "id": "XZbhTGpohB6N"
      },
      "source": [
        ""
      ],
      "execution_count": null,
      "outputs": []
    }
  ]
}