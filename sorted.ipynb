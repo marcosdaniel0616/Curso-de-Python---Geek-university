{
  "nbformat": 4,
  "nbformat_minor": 0,
  "metadata": {
    "colab": {
      "name": "sorted.ipynb",
      "provenance": [],
      "collapsed_sections": [],
      "authorship_tag": "ABX9TyNA0x6lJ5U37aDhyCy6OkCn",
      "include_colab_link": true
    },
    "kernelspec": {
      "name": "python3",
      "display_name": "Python 3"
    },
    "language_info": {
      "name": "python"
    }
  },
  "cells": [
    {
      "cell_type": "markdown",
      "metadata": {
        "id": "view-in-github",
        "colab_type": "text"
      },
      "source": [
        "<a href=\"https://colab.research.google.com/github/marcosdaniel0616/Curso-de-Python---Geek-university/blob/master/sorted.ipynb\" target=\"_parent\"><img src=\"https://colab.research.google.com/assets/colab-badge.svg\" alt=\"Open In Colab\"/></a>"
      ]
    },
    {
      "cell_type": "markdown",
      "metadata": {
        "id": "dVbFyVGvE71Z"
      },
      "source": [
        "# Sorted\n",
        "\n",
        "OBS: Não confunda, apesar do nome, com a função sort(), que já estudamos em listas. O sort() só funciona em listas.  \n",
        "  \n",
        "Podemos utilizar o sorted() com qualquer iterável.  \n",
        "  \n",
        "Como o próprio nome diz, sorted() serve para ordenar."
      ]
    },
    {
      "cell_type": "markdown",
      "metadata": {
        "id": "cr4SF0KUFhUU"
      },
      "source": [
        "## Exemplo:"
      ]
    },
    {
      "cell_type": "code",
      "metadata": {
        "colab": {
          "base_uri": "https://localhost:8080/"
        },
        "id": "ceO7kDpEE5A2",
        "outputId": "3f2e6c02-896a-4e85-c437-167c5a896a58"
      },
      "source": [
        "numeros = [6, 1, 8, 2]\n",
        "print(numeros)\n",
        "\n",
        "print(sorted(numeros))  # Ordenar do menor para o maior\n",
        "\n",
        "print(numeros)"
      ],
      "execution_count": null,
      "outputs": [
        {
          "output_type": "stream",
          "text": [
            "[6, 1, 8, 2]\n",
            "[1, 2, 6, 8]\n",
            "[6, 1, 8, 2]\n"
          ],
          "name": "stdout"
        }
      ]
    },
    {
      "cell_type": "markdown",
      "metadata": {
        "id": "wU6__UM-FuLu"
      },
      "source": [
        "Já podemos notar de forma clara a diferença do sorted para com o sort(), pois o sort altera a lista, o sorted mantém a lista como estava mudando-a somente naquele momento."
      ]
    },
    {
      "cell_type": "markdown",
      "metadata": {
        "id": "P5M9n6hQF82M"
      },
      "source": [
        "### OBS: O sorted SEMPRE retorna uma lista com os elementos do iterável ordenados."
      ]
    },
    {
      "cell_type": "code",
      "metadata": {
        "colab": {
          "base_uri": "https://localhost:8080/"
        },
        "id": "kVN_dQe5Fk-J",
        "outputId": "2981e0b5-571b-4fad-b150-031d45c02c8b"
      },
      "source": [
        "numeros = (6, 1, 8, 2)\n",
        "print(numeros)\n",
        "\n",
        "print(sorted(numeros))  # Ordenar do menor para o maior\n",
        "\n",
        "print(numeros)"
      ],
      "execution_count": null,
      "outputs": [
        {
          "output_type": "stream",
          "text": [
            "(6, 1, 8, 2)\n",
            "[1, 2, 6, 8]\n",
            "(6, 1, 8, 2)\n"
          ],
          "name": "stdout"
        }
      ]
    },
    {
      "cell_type": "markdown",
      "metadata": {
        "id": "1aet_PcoGHv7"
      },
      "source": [
        "Como pudemos ver, funciona normalmente com a tupla, executando-a como se ela fosse uma lista já que não alteramos a lista principal, exibimos uma \"cópia\" dela porém ordenada."
      ]
    },
    {
      "cell_type": "markdown",
      "metadata": {
        "id": "04v1tw6qGaOX"
      },
      "source": [
        "## Adicionando parâmetros ao sorted():"
      ]
    },
    {
      "cell_type": "code",
      "metadata": {
        "colab": {
          "base_uri": "https://localhost:8080/"
        },
        "id": "Tg5z9m2UGHD6",
        "outputId": "cec8bd63-eb47-4907-ceeb-fa497b7b52ef"
      },
      "source": [
        "numeros = [6, 1, 8, 2]\n",
        "\n",
        "print(sorted(numeros, reverse=True))  # Ordena do maior para o menor\n"
      ],
      "execution_count": null,
      "outputs": [
        {
          "output_type": "stream",
          "text": [
            "[8, 6, 2, 1]\n"
          ],
          "name": "stdout"
        }
      ]
    },
    {
      "cell_type": "markdown",
      "metadata": {
        "id": "T6ce0haZGr_N"
      },
      "source": [
        "utilizando o reverse True, nós alteramos como a lista será mostrada, mostrando-a do maior elemento até o menor."
      ]
    },
    {
      "cell_type": "markdown",
      "metadata": {
        "id": "qlXqrtydG3lT"
      },
      "source": [
        "## Podemos utilizar o sorted() para coisas mais complexas:\n",
        "### Ordenando pelo username - Ordem alfabética"
      ]
    },
    {
      "cell_type": "code",
      "metadata": {
        "id": "nzCXFWH5GpYJ",
        "colab": {
          "base_uri": "https://localhost:8080/"
        },
        "outputId": "2abe323d-e52e-4180-ad38-c94b4a96a95c"
      },
      "source": [
        "usuarios = [ {'username': 'Samuel','tweets': ['Eu adoro bolos', 'Eu adoro pizzas']},\n",
        "            {'username': 'Carla','tweets': ['Eu amo meu gato']},\n",
        "            {'username': 'Jeff','tweets': []},\n",
        "            {'username': 'Bob123','tweets': []},\n",
        "            {'username': 'doggo','tweets': ['Eu gosto de cachorros', 'Vou sair hoje']},\n",
        "            {'username': 'gal','tweets': [], 'cor': 'Preto', 'musica': 'Rock'}\n",
        "            ]\n",
        "\n",
        "print(usuarios)\n",
        "\n",
        "print(sorted(usuarios, key=lambda usuario: usuario['username']))"
      ],
      "execution_count": 5,
      "outputs": [
        {
          "output_type": "stream",
          "text": [
            "[{'username': 'Samuel', 'tweets': ['Eu adoro bolos', 'Eu adoro pizzas']}, {'username': 'Carla', 'tweets': ['Eu amo meu gato']}, {'username': 'Jeff', 'tweets': []}, {'username': 'Bob123', 'tweets': []}, {'username': 'doggo', 'tweets': ['Eu gosto de cachorros', 'Vou sair hoje']}, {'username': 'gal', 'tweets': [], 'cor': 'Preto', 'musica': 'Rock'}]\n",
            "[{'username': 'Bob123', 'tweets': []}, {'username': 'Carla', 'tweets': ['Eu amo meu gato']}, {'username': 'Jeff', 'tweets': []}, {'username': 'Samuel', 'tweets': ['Eu adoro bolos', 'Eu adoro pizzas']}, {'username': 'doggo', 'tweets': ['Eu gosto de cachorros', 'Vou sair hoje']}, {'username': 'gal', 'tweets': [], 'cor': 'Preto', 'musica': 'Rock'}]\n"
          ],
          "name": "stdout"
        }
      ]
    },
    {
      "cell_type": "markdown",
      "metadata": {
        "id": "MDdZ8diEG3N1"
      },
      "source": [
        "### Ordenando pelo número de tweets"
      ]
    },
    {
      "cell_type": "code",
      "metadata": {
        "colab": {
          "base_uri": "https://localhost:8080/"
        },
        "id": "6i23iUYrFScY",
        "outputId": "8a12b00a-ad5f-4ee0-ad52-02bcf2991cdc"
      },
      "source": [
        " usuarios = [ {'username': 'Samuel','tweets': ['Eu adoro bolos', 'Eu adoro pizzas']},\n",
        "            {'username': 'Carla','tweets': ['Eu amo meu gato']},\n",
        "            {'username': 'Jeff','tweets': []},\n",
        "            {'username': 'Bob123','tweets': []},\n",
        "            {'username': 'doggo','tweets': ['Eu gosto de cachorros', 'Vou sair hoje']},\n",
        "            {'username': 'gal','tweets': [], 'cor': 'Preto', 'musica': 'Rock'}\n",
        "            ]\n",
        "\n",
        "print(usuarios)\n",
        "\n",
        "print(sorted(usuarios, key=lambda usuario: len(usuario['tweets'])))"
      ],
      "execution_count": 7,
      "outputs": [
        {
          "output_type": "stream",
          "text": [
            "[{'username': 'Samuel', 'tweets': ['Eu adoro bolos', 'Eu adoro pizzas']}, {'username': 'Carla', 'tweets': ['Eu amo meu gato']}, {'username': 'Jeff', 'tweets': []}, {'username': 'Bob123', 'tweets': []}, {'username': 'doggo', 'tweets': ['Eu gosto de cachorros', 'Vou sair hoje']}, {'username': 'gal', 'tweets': [], 'cor': 'Preto', 'musica': 'Rock'}]\n",
            "[{'username': 'Jeff', 'tweets': []}, {'username': 'Bob123', 'tweets': []}, {'username': 'gal', 'tweets': [], 'cor': 'Preto', 'musica': 'Rock'}, {'username': 'Carla', 'tweets': ['Eu amo meu gato']}, {'username': 'Samuel', 'tweets': ['Eu adoro bolos', 'Eu adoro pizzas']}, {'username': 'doggo', 'tweets': ['Eu gosto de cachorros', 'Vou sair hoje']}]\n"
          ],
          "name": "stdout"
        }
      ]
    },
    {
      "cell_type": "markdown",
      "metadata": {
        "id": "HhbDzY7XHMTQ"
      },
      "source": [
        "## Ultimo exemplo"
      ]
    },
    {
      "cell_type": "markdown",
      "metadata": {
        "id": "qJF5N5iRHtF2"
      },
      "source": [
        "### Ordenar da música mais tocada para a menos tocada"
      ]
    },
    {
      "cell_type": "code",
      "metadata": {
        "colab": {
          "base_uri": "https://localhost:8080/"
        },
        "id": "UqCpxRa7G_dA",
        "outputId": "f74b8de9-de09-4730-8225-ed39b448d7d9"
      },
      "source": [
        "musicas = [\n",
        "           {'titulo': 'Thunderstruck', 'tocou': 3},\n",
        "           {'titulo': 'Dead skin mask', 'tocou': 2},\n",
        "           {'titulo': 'Back in black', 'tocou': 4},\n",
        "           {'titulo': 'too old rock in roll', 'tocou': 32},\n",
        "]\n",
        "\n",
        "print(sorted(musicas, key=lambda musica: musica['tocou'], reverse=True))"
      ],
      "execution_count": 10,
      "outputs": [
        {
          "output_type": "stream",
          "text": [
            "[{'titulo': 'too old rock in roll', 'tocou': 32}, {'titulo': 'Back in black', 'tocou': 4}, {'titulo': 'Thunderstruck', 'tocou': 3}, {'titulo': 'Dead skin mask', 'tocou': 2}]\n"
          ],
          "name": "stdout"
        }
      ]
    },
    {
      "cell_type": "markdown",
      "metadata": {
        "id": "8Ewn_mwpHyeA"
      },
      "source": [
        "### Ordenar da música menos tocada para a mais tocada"
      ]
    },
    {
      "cell_type": "code",
      "metadata": {
        "colab": {
          "base_uri": "https://localhost:8080/"
        },
        "id": "pWueIr3AHjxS",
        "outputId": "7bd24b72-dcc6-466e-c326-4fc80477855e"
      },
      "source": [
        "musicas = [\n",
        "           {'titulo': 'Thunderstruck', 'tocou': 3},\n",
        "           {'titulo': 'Dead skin mask', 'tocou': 2},\n",
        "           {'titulo': 'Back in black', 'tocou': 4},\n",
        "           {'titulo': 'too old rock in roll', 'tocou': 32},\n",
        "]\n",
        "\n",
        "print(sorted(musicas, key=lambda musica: musica['tocou']))"
      ],
      "execution_count": 11,
      "outputs": [
        {
          "output_type": "stream",
          "text": [
            "[{'titulo': 'Dead skin mask', 'tocou': 2}, {'titulo': 'Thunderstruck', 'tocou': 3}, {'titulo': 'Back in black', 'tocou': 4}, {'titulo': 'too old rock in roll', 'tocou': 32}]\n"
          ],
          "name": "stdout"
        }
      ]
    },
    {
      "cell_type": "code",
      "metadata": {
        "id": "DPWOxr_4H88C"
      },
      "source": [
        ""
      ],
      "execution_count": null,
      "outputs": []
    }
  ]
}