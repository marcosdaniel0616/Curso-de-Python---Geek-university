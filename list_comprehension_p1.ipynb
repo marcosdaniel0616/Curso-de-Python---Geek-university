{
  "nbformat": 4,
  "nbformat_minor": 0,
  "metadata": {
    "colab": {
      "name": "list_comprehension_p1.ipynb",
      "provenance": [],
      "collapsed_sections": [],
      "authorship_tag": "ABX9TyPgfxhyxNCkK8rfilp/kjDT",
      "include_colab_link": true
    },
    "kernelspec": {
      "name": "python3",
      "display_name": "Python 3"
    },
    "language_info": {
      "name": "python"
    }
  },
  "cells": [
    {
      "cell_type": "markdown",
      "metadata": {
        "id": "view-in-github",
        "colab_type": "text"
      },
      "source": [
        "<a href=\"https://colab.research.google.com/github/marcosdaniel0616/Curso-de-Python---Geek-university/blob/master/list_comprehension_p1.ipynb\" target=\"_parent\"><img src=\"https://colab.research.google.com/assets/colab-badge.svg\" alt=\"Open In Colab\"/></a>"
      ]
    },
    {
      "cell_type": "markdown",
      "metadata": {
        "id": "gaDKR0AxukEI"
      },
      "source": [
        "# List Comprehension\n",
        "  \n",
        "- utilizando list comprehension nós podemos gerar novas listas com dados processados a partir de outro iterável"
      ]
    },
    {
      "cell_type": "markdown",
      "metadata": {
        "id": "n9UHxp43u1qM"
      },
      "source": [
        "## Sintaxe da List Comprehension:  \n",
        "```[dado for dado in iteravel]```"
      ]
    },
    {
      "cell_type": "markdown",
      "metadata": {
        "id": "daKPcwf5vF-c"
      },
      "source": [
        "## Exemplos:"
      ]
    },
    {
      "cell_type": "code",
      "metadata": {
        "colab": {
          "base_uri": "https://localhost:8080/"
        },
        "id": "xCD3NloGt64w",
        "outputId": "1e2d9800-24c2-4d41-f6a0-e7bb74b447a3"
      },
      "source": [
        "numeros = [1, 2, 3, 4, 5]\n",
        "\n",
        "resultado = [numero * 10 for numero in numeros]\n",
        "\n",
        "print(resultado)"
      ],
      "execution_count": 14,
      "outputs": [
        {
          "output_type": "stream",
          "text": [
            "[10, 20, 30, 40, 50]\n"
          ],
          "name": "stdout"
        }
      ]
    },
    {
      "cell_type": "markdown",
      "metadata": {
        "id": "e_nuT01-vRGJ"
      },
      "source": [
        "note que o: ```[dado for dado in iteravel]``` tem a mesma estrutura de: ```[numero * 10 for numero in numeros]```"
      ]
    },
    {
      "cell_type": "markdown",
      "metadata": {
        "id": "jpWfiLaww2UO"
      },
      "source": [
        "Para entender melhor o que está acontecendo devemos dividir a expressão em duas partes.  \n",
        "  \n",
        "- A primeira parte: ```for numero in numeros```,\n",
        "- E a segunda parte: ```numero * 10```.  \n",
        "  \n",
        "A segunda parte vem antes e ela se refere ao resultado que a list comprehension retornará, já a primeira parte, vem depois e se refere a lógica.  \n",
        "O resultado será retornado em uma lista."
      ]
    },
    {
      "cell_type": "markdown",
      "metadata": {
        "id": "i3Gpw5BBxg7C"
      },
      "source": [
        "## Outro exemplo:"
      ]
    },
    {
      "cell_type": "code",
      "metadata": {
        "colab": {
          "base_uri": "https://localhost:8080/"
        },
        "id": "kQToWsCFvPCk",
        "outputId": "b826de72-7ced-49ef-c92b-b267d4e113b8"
      },
      "source": [
        "numeros = [1, 2, 3, 4, 5]\n",
        "\n",
        "resultado = [numero / 2 for numero in numeros]\n",
        "\n",
        "print(resultado)"
      ],
      "execution_count": 15,
      "outputs": [
        {
          "output_type": "stream",
          "text": [
            "[0.5, 1.0, 1.5, 2.0, 2.5]\n"
          ],
          "name": "stdout"
        }
      ]
    },
    {
      "cell_type": "markdown",
      "metadata": {
        "id": "AaF135Lgx0JL"
      },
      "source": [
        "## Agora exemplo do list comprehension com uma função:"
      ]
    },
    {
      "cell_type": "code",
      "metadata": {
        "colab": {
          "base_uri": "https://localhost:8080/"
        },
        "id": "_1SID5tSxmnl",
        "outputId": "a02fa452-6360-41df-d782-3d878b23e577"
      },
      "source": [
        "numeros = [1, 2, 3, 4, 5]\n",
        "\n",
        "def quadrado(valor):\n",
        "  return valor * valor\n",
        "\n",
        "\n",
        "resultado = [quadrado(numero) for numero in numeros]\n",
        "\n",
        "print(resultado)"
      ],
      "execution_count": 17,
      "outputs": [
        {
          "output_type": "stream",
          "text": [
            "[1, 4, 9, 16, 25]\n"
          ],
          "name": "stdout"
        }
      ]
    },
    {
      "cell_type": "markdown",
      "metadata": {
        "id": "SoGZETZbyHgT"
      },
      "source": [
        "agora vamos separar por partes novamente, a primeira parte é a lógica:  \n",
        "```for numero in numeros``` ou seja, executaremos a primeira parte tantas vezes quanto a quantidade de numeros na função numeros.  \n",
        "a segunda parte é o resultado: ```quadrado(numero)``` já nessa parte, é executada a função quadrado, passando como argumento os números de acordo com a ordem."
      ]
    },
    {
      "cell_type": "markdown",
      "metadata": {
        "id": "SPKu5ebWy12q"
      },
      "source": [
        "## List Comprehension vs Loop"
      ]
    },
    {
      "cell_type": "markdown",
      "metadata": {
        "id": "bsr5SQeAy55P"
      },
      "source": [
        "### Loop:"
      ]
    },
    {
      "cell_type": "code",
      "metadata": {
        "colab": {
          "base_uri": "https://localhost:8080/"
        },
        "id": "tlpDny1WyEaH",
        "outputId": "305d1e70-d103-4908-fb2c-e8e94409f526"
      },
      "source": [
        "numeros = [1, 2, 3, 4, 5]\n",
        "\n",
        "numeros_dobrados = []\n",
        "for numero in numeros:\n",
        "  numeros_dobrados.append(numero * 2)\n",
        "\n",
        "\n",
        "print(numeros_dobrados)"
      ],
      "execution_count": 21,
      "outputs": [
        {
          "output_type": "stream",
          "text": [
            "[2, 4, 6, 8, 10]\n"
          ],
          "name": "stdout"
        }
      ]
    },
    {
      "cell_type": "markdown",
      "metadata": {
        "id": "Idk9sPtIzZyd"
      },
      "source": [
        "### List Comprehension"
      ]
    },
    {
      "cell_type": "code",
      "metadata": {
        "colab": {
          "base_uri": "https://localhost:8080/"
        },
        "id": "xOotfmMqzGIk",
        "outputId": "ac3865c3-bdb2-4448-ad5c-235b7dda92f0"
      },
      "source": [
        "numeros = [1, 2, 3, 4, 5]\n",
        "\n",
        "print([numero * 2 for numero in numeros])"
      ],
      "execution_count": 22,
      "outputs": [
        {
          "output_type": "stream",
          "text": [
            "[2, 4, 6, 8, 10]\n"
          ],
          "name": "stdout"
        }
      ]
    },
    {
      "cell_type": "markdown",
      "metadata": {
        "id": "5W9-r-6I0xoo"
      },
      "source": [
        "## Ou refatorando esses dois códigos"
      ]
    },
    {
      "cell_type": "markdown",
      "metadata": {
        "id": "R4kjfKi201XK"
      },
      "source": [
        "### Loop:"
      ]
    },
    {
      "cell_type": "code",
      "metadata": {
        "colab": {
          "base_uri": "https://localhost:8080/"
        },
        "id": "TqUJOmH0zgaE",
        "outputId": "73ba4942-438b-4b6f-b646-8f90f2b7293a"
      },
      "source": [
        "numeros_dobrados = []\n",
        "for numero in [1, 2, 3, 4, 5]:\n",
        "  numeros_dobrados.append(numero * 2)\n",
        "\n",
        "\n",
        "print(numeros_dobrados)"
      ],
      "execution_count": 23,
      "outputs": [
        {
          "output_type": "stream",
          "text": [
            "[2, 4, 6, 8, 10]\n"
          ],
          "name": "stdout"
        }
      ]
    },
    {
      "cell_type": "markdown",
      "metadata": {
        "id": "UdiuN7z308PK"
      },
      "source": [
        "### List Comprehension:"
      ]
    },
    {
      "cell_type": "code",
      "metadata": {
        "colab": {
          "base_uri": "https://localhost:8080/"
        },
        "id": "rC52KOE4062g",
        "outputId": "71395c40-e66a-4000-f4d6-6cb3065935e2"
      },
      "source": [
        "print([numero * 2 for numero in [1, 2, 3, 4, 5]])"
      ],
      "execution_count": 24,
      "outputs": [
        {
          "output_type": "stream",
          "text": [
            "[2, 4, 6, 8, 10]\n"
          ],
          "name": "stdout"
        }
      ]
    },
    {
      "cell_type": "markdown",
      "metadata": {
        "id": "1FRHF9lA1ga4"
      },
      "source": [
        "## Outros exemplos:\n",
        "## Exemplo 1:"
      ]
    },
    {
      "cell_type": "code",
      "metadata": {
        "colab": {
          "base_uri": "https://localhost:8080/"
        },
        "id": "Ai5ASgSV1J8i",
        "outputId": "9d8f840c-1fbb-4f87-d8c6-f36aa0da6570"
      },
      "source": [
        "nome = 'Geek University'\n",
        "\n",
        "print([letra.upper() for letra in nome])"
      ],
      "execution_count": 25,
      "outputs": [
        {
          "output_type": "stream",
          "text": [
            "['G', 'E', 'E', 'K', ' ', 'U', 'N', 'I', 'V', 'E', 'R', 'S', 'I', 'T', 'Y']\n"
          ],
          "name": "stdout"
        }
      ]
    },
    {
      "cell_type": "code",
      "metadata": {
        "colab": {
          "base_uri": "https://localhost:8080/"
        },
        "id": "6O8kgO8K1p9x",
        "outputId": "3ceaf1f5-5bfa-4eb9-eaa8-896c9ca6d9f4"
      },
      "source": [
        "nome = 'Geek university'\n",
        "\n",
        "for indice, letra in enumerate(nome):\n",
        "  print(f'{indice}: {letra.upper()}')"
      ],
      "execution_count": 41,
      "outputs": [
        {
          "output_type": "stream",
          "text": [
            "0: G\n",
            "1: E\n",
            "2: E\n",
            "3: K\n",
            "4:  \n",
            "5: U\n",
            "6: N\n",
            "7: I\n",
            "8: V\n",
            "9: E\n",
            "10: R\n",
            "11: S\n",
            "12: I\n",
            "13: T\n",
            "14: Y\n"
          ],
          "name": "stdout"
        }
      ]
    },
    {
      "cell_type": "markdown",
      "metadata": {
        "id": "AC4osfIn3lUP"
      },
      "source": [
        "Mostrando letra e índice."
      ]
    },
    {
      "cell_type": "code",
      "metadata": {
        "colab": {
          "base_uri": "https://localhost:8080/"
        },
        "id": "o-EdPuMm2_WL",
        "outputId": "0adbb3fc-ed78-4793-f498-ed88ab8a87c6"
      },
      "source": [
        "nome = 'Geek university'\n",
        "\n",
        "print([(indice, letra.upper()) for indice, letra in enumerate(nome)])"
      ],
      "execution_count": 50,
      "outputs": [
        {
          "output_type": "stream",
          "text": [
            "[(0, 'G'), (1, 'E'), (2, 'E'), (3, 'K'), (4, ' '), (5, 'U'), (6, 'N'), (7, 'I'), (8, 'V'), (9, 'E'), (10, 'R'), (11, 'S'), (12, 'I'), (13, 'T'), (14, 'Y')]\n"
          ],
          "name": "stdout"
        }
      ]
    },
    {
      "cell_type": "markdown",
      "metadata": {
        "id": "dZMdVjM53v7r"
      },
      "source": [
        "ao mostrar mais de um argumento no list comprehension utilizamos o parênteses ()."
      ]
    },
    {
      "cell_type": "markdown",
      "metadata": {
        "id": "TXbRrcYn38d3"
      },
      "source": [
        "## Exemplo 2"
      ]
    },
    {
      "cell_type": "code",
      "metadata": {
        "colab": {
          "base_uri": "https://localhost:8080/"
        },
        "id": "SO2QkdaM3SmI",
        "outputId": "81d749ce-f178-49c3-d51d-d0c977be88e5"
      },
      "source": [
        "amigos = ['maria', 'julia', 'pedro', 'guilherme', 'vanessa']\n",
        "\n",
        "def caixa_alta(nome):\n",
        "  nome = nome.replace(nome[0], nome[0].upper())\n",
        "  return nome\n",
        "\n",
        "print([caixa_alta(amigo) for amigo in amigos])"
      ],
      "execution_count": 57,
      "outputs": [
        {
          "output_type": "stream",
          "text": [
            "['Maria', 'Julia', 'Pedro', 'Guilherme', 'Vanessa']\n"
          ],
          "name": "stdout"
        }
      ]
    },
    {
      "cell_type": "markdown",
      "metadata": {
        "id": "83-0Vkc249rR"
      },
      "source": [
        "## Exemplo 3"
      ]
    },
    {
      "cell_type": "code",
      "metadata": {
        "colab": {
          "base_uri": "https://localhost:8080/"
        },
        "id": "WbNRhgRG4GGb",
        "outputId": "27e9ffd0-e2fd-42c6-e7fd-f98bc0263d22"
      },
      "source": [
        "print([numero * 3 for numero in range(1, 10)])"
      ],
      "execution_count": 60,
      "outputs": [
        {
          "output_type": "stream",
          "text": [
            "[3, 6, 9, 12, 15, 18, 21, 24, 27]\n"
          ],
          "name": "stdout"
        }
      ]
    },
    {
      "cell_type": "markdown",
      "metadata": {
        "id": "8RI_Wwp65LSq"
      },
      "source": [
        "## Exemplo 4"
      ]
    },
    {
      "cell_type": "code",
      "metadata": {
        "colab": {
          "base_uri": "https://localhost:8080/"
        },
        "id": "0YX1k1_85D3r",
        "outputId": "96e28628-f98b-47da-bacf-9cac13b0607a"
      },
      "source": [
        "print([bool(valor) for valor in [0, [], '', True, 1, 3.14]])"
      ],
      "execution_count": 62,
      "outputs": [
        {
          "output_type": "stream",
          "text": [
            "[False, False, False, True, True, True]\n"
          ],
          "name": "stdout"
        }
      ]
    },
    {
      "cell_type": "markdown",
      "metadata": {
        "id": "5IZOzPzg5Zvd"
      },
      "source": [
        "## Exemplo 5"
      ]
    },
    {
      "cell_type": "code",
      "metadata": {
        "colab": {
          "base_uri": "https://localhost:8080/"
        },
        "id": "XqFbNnnu5TZb",
        "outputId": "6c9908b7-cf7b-4f50-ac79-ce7641b2ab1d"
      },
      "source": [
        "print([str(numero) for numero in [1, 2, 3, 4, 5]])"
      ],
      "execution_count": 63,
      "outputs": [
        {
          "output_type": "stream",
          "text": [
            "['1', '2', '3', '4', '5']\n"
          ],
          "name": "stdout"
        }
      ]
    },
    {
      "cell_type": "code",
      "metadata": {
        "id": "raIbumGM5ekQ"
      },
      "source": [
        ""
      ],
      "execution_count": null,
      "outputs": []
    }
  ]
}