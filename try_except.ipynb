{
  "nbformat": 4,
  "nbformat_minor": 0,
  "metadata": {
    "colab": {
      "name": "try_except.ipynb",
      "provenance": [],
      "authorship_tag": "ABX9TyPxAt0ExmIcK1Vk+7KfMZl4",
      "include_colab_link": true
    },
    "kernelspec": {
      "name": "python3",
      "display_name": "Python 3"
    },
    "language_info": {
      "name": "python"
    }
  },
  "cells": [
    {
      "cell_type": "markdown",
      "metadata": {
        "id": "view-in-github",
        "colab_type": "text"
      },
      "source": [
        "<a href=\"https://colab.research.google.com/github/marcosdaniel0616/Curso-de-Python---Geek-university/blob/master/try_except.ipynb\" target=\"_parent\"><img src=\"https://colab.research.google.com/assets/colab-badge.svg\" alt=\"Open In Colab\"/></a>"
      ]
    },
    {
      "cell_type": "markdown",
      "metadata": {
        "id": "F8rhFQhYLkvP"
      },
      "source": [
        "# O bloco try/except\n",
        "  \n",
        "Utilizamos o bloco try/except para tratar erros que podem ocorrer no caso do código. Prevenindo assim que o programa pare de funcionar e o usuário receba mensagens de erro inesperados.\n",
        "  \n",
        "A forma geral mais simples é:\n",
        "\n",
        "```\n",
        "try:\n",
        "  //execução problemática\n",
        "except:\n",
        "  //o que deve ser feito em caso de problema\n",
        "```\n",
        "\n"
      ]
    },
    {
      "cell_type": "code",
      "metadata": {
        "colab": {
          "base_uri": "https://localhost:8080/",
          "height": 129
        },
        "id": "lUwTnqA-Kkao",
        "outputId": "16aad186-9b2d-48c6-d023-f1a72ed54a80"
      },
      "source": [
        "None = 1"
      ],
      "execution_count": 1,
      "outputs": [
        {
          "output_type": "error",
          "ename": "SyntaxError",
          "evalue": "ignored",
          "traceback": [
            "\u001b[0;36m  File \u001b[0;32m\"<ipython-input-1-d03f602a0186>\"\u001b[0;36m, line \u001b[0;32m1\u001b[0m\n\u001b[0;31m    None = 1\u001b[0m\n\u001b[0m            ^\u001b[0m\n\u001b[0;31mSyntaxError\u001b[0m\u001b[0;31m:\u001b[0m can't assign to keyword\n"
          ]
        }
      ]
    },
    {
      "cell_type": "markdown",
      "metadata": {
        "id": "BRyYIgJdMx27"
      },
      "source": [
        "Como pudemos ver, esse código deu um erro e isso não é um problema enquanto estamos desenvolvendo mas se um código de erro assim é passado para o usuário, o programa perde a credibilidade e o usuário pode parar de utilizar nosso programa. Não só isso, mas isso também deixa nosso programa mais expostos para crackers."
      ]
    },
    {
      "cell_type": "markdown",
      "metadata": {
        "id": "vbiTAic8NQn3"
      },
      "source": [
        "# Exemplo 1 - Tratando erro genérico:"
      ]
    },
    {
      "cell_type": "code",
      "metadata": {
        "colab": {
          "base_uri": "https://localhost:8080/"
        },
        "id": "SiZ9nUIQMxNN",
        "outputId": "c7db3b3e-a8f3-4a2d-8a74-3f9e44e6bcfa"
      },
      "source": [
        "try:\n",
        "  geek()\n",
        "except:\n",
        "  print('Deu algum problema!')\n"
      ],
      "execution_count": 3,
      "outputs": [
        {
          "output_type": "stream",
          "text": [
            "Deu algum problema!\n"
          ],
          "name": "stdout"
        }
      ]
    },
    {
      "cell_type": "markdown",
      "metadata": {
        "id": "4B29AEbgNgmS"
      },
      "source": [
        "o try tenta executar o código mas como não definimos a função geek receberíamos um NameError, logo o bloco except será executado mostrando a mensagem \"Deu algum problema\"."
      ]
    },
    {
      "cell_type": "markdown",
      "metadata": {
        "id": "JACH_GT2OhOW"
      },
      "source": [
        "Essa forma de tratamento genérico não é a recomendada, por mais que trate o erro.\n",
        "  \n",
        "## OBS: Tratar erros de forma genérica não é a melhor forma de tratar erros. O ideal é SEMPRE tratar de forma específica."
      ]
    },
    {
      "cell_type": "markdown",
      "metadata": {
        "id": "A3IFoLXZPXma"
      },
      "source": [
        "## Exemplo 2 - Tratando um erro específico:"
      ]
    },
    {
      "cell_type": "code",
      "metadata": {
        "colab": {
          "base_uri": "https://localhost:8080/"
        },
        "id": "yw6j6HQ1NWyc",
        "outputId": "560748bf-4f99-494d-8c1e-adc59ccf5621"
      },
      "source": [
        "try:\n",
        "  geek()\n",
        "except NameError:\n",
        "  print('Você está utilizando uma função inexistente!')\n"
      ],
      "execution_count": 6,
      "outputs": [
        {
          "output_type": "stream",
          "text": [
            "Você está utilizando uma função inexistente!\n"
          ],
          "name": "stdout"
        }
      ]
    },
    {
      "cell_type": "code",
      "metadata": {
        "colab": {
          "base_uri": "https://localhost:8080/",
          "height": 214
        },
        "id": "7RS0-ij3PkAA",
        "outputId": "21e2ffc0-a478-4402-971a-3a8188e2f32a"
      },
      "source": [
        "try:\n",
        "  len(4)\n",
        "except NameError:\n",
        "  print('Você está utilizando uma função inexistente!')"
      ],
      "execution_count": 7,
      "outputs": [
        {
          "output_type": "error",
          "ename": "TypeError",
          "evalue": "ignored",
          "traceback": [
            "\u001b[0;31m---------------------------------------------------------------------------\u001b[0m",
            "\u001b[0;31mTypeError\u001b[0m                                 Traceback (most recent call last)",
            "\u001b[0;32m<ipython-input-7-68c990a03815>\u001b[0m in \u001b[0;36m<module>\u001b[0;34m()\u001b[0m\n\u001b[1;32m      1\u001b[0m \u001b[0;32mtry\u001b[0m\u001b[0;34m:\u001b[0m\u001b[0;34m\u001b[0m\u001b[0;34m\u001b[0m\u001b[0m\n\u001b[0;32m----> 2\u001b[0;31m   \u001b[0mlen\u001b[0m\u001b[0;34m(\u001b[0m\u001b[0;36m4\u001b[0m\u001b[0;34m)\u001b[0m\u001b[0;34m\u001b[0m\u001b[0;34m\u001b[0m\u001b[0m\n\u001b[0m\u001b[1;32m      3\u001b[0m \u001b[0;32mexcept\u001b[0m \u001b[0mNameError\u001b[0m\u001b[0;34m:\u001b[0m\u001b[0;34m\u001b[0m\u001b[0;34m\u001b[0m\u001b[0m\n\u001b[1;32m      4\u001b[0m   \u001b[0mprint\u001b[0m\u001b[0;34m(\u001b[0m\u001b[0;34m'Você está utilizando uma função inexistente!'\u001b[0m\u001b[0;34m)\u001b[0m\u001b[0;34m\u001b[0m\u001b[0;34m\u001b[0m\u001b[0m\n",
            "\u001b[0;31mTypeError\u001b[0m: object of type 'int' has no len()"
          ]
        }
      ]
    },
    {
      "cell_type": "markdown",
      "metadata": {
        "id": "V1noeP-ZPulL"
      },
      "source": [
        "No primeiro código, except foi executado pois tentamos executar um NameError. Já na segunda, como o tipo de erro não era except, o bloco de Erro Try foi mostrado."
      ]
    },
    {
      "cell_type": "markdown",
      "metadata": {
        "id": "0f3tcB-OQbBz"
      },
      "source": [
        "## Exemplo 5 - Tratando um erro específico com detalhes do erro:\n",
        "Quando utilizamos o except, podemos botar um \"apelido\" no tipo de erro, e embora possa ser qualquer nome, por padrão utilizamos \"err\"."
      ]
    },
    {
      "cell_type": "code",
      "metadata": {
        "colab": {
          "base_uri": "https://localhost:8080/"
        },
        "id": "9tMO8LFFQPSG",
        "outputId": "173b6975-d8ca-4477-aade-c360725181d3"
      },
      "source": [
        "try:\n",
        "  len(4)\n",
        "except TypeError as err:\n",
        "  print(f'A aplicação gerou o seguinte erro: {err}')"
      ],
      "execution_count": 9,
      "outputs": [
        {
          "output_type": "stream",
          "text": [
            "A aplicação gerou o seguinte erro: object of type 'int' has no len()\n"
          ],
          "name": "stdout"
        }
      ]
    },
    {
      "cell_type": "markdown",
      "metadata": {
        "id": "_IOuGvu-RGC0"
      },
      "source": [
        "Geralmente não é interessante a gente passar essa mensagem pro usuário, mas algumas vezes podemos pegar esse tipo de mensagem e guardar no log."
      ]
    },
    {
      "cell_type": "markdown",
      "metadata": {
        "id": "qmPjglohRh6b"
      },
      "source": [
        "Existem casos, onde dependendo do tipo de execução, nós podemos ter diferentes tipos de erros.\n",
        "## Exemplo 5:\n",
        "Podemos executar diversos tratamentos de erro de uma só vez."
      ]
    },
    {
      "cell_type": "code",
      "metadata": {
        "colab": {
          "base_uri": "https://localhost:8080/"
        },
        "id": "bEdtiJaxQ-8V",
        "outputId": "600a5820-4526-48fc-ce15-fbcf60d7920b"
      },
      "source": [
        "try:\n",
        "  print(f'Geek'[9])\n",
        "except NameError as erra:\n",
        "  print(f'Deu NameError: {erra}')\n",
        "except TypeError as errb:\n",
        "  print(f'Deu TypeError: {errb}')\n",
        "except:\n",
        "  print(f'Deu um erro diferente')\n"
      ],
      "execution_count": 18,
      "outputs": [
        {
          "output_type": "stream",
          "text": [
            "Deu um erro diferente\n"
          ],
          "name": "stdout"
        }
      ]
    },
    {
      "cell_type": "markdown",
      "metadata": {
        "id": "7lBARSNSSSOc"
      },
      "source": [
        "o último except é quase um \"else\", para caso nem o try e nem os excepts anteriores funcionem."
      ]
    },
    {
      "cell_type": "markdown",
      "metadata": {
        "id": "G7DuzTwATDNl"
      },
      "source": [
        "Vamos criar uma função que também pode tratar erro:"
      ]
    },
    {
      "cell_type": "code",
      "metadata": {
        "colab": {
          "base_uri": "https://localhost:8080/",
          "height": 35
        },
        "id": "j9MXv74CR_BU",
        "outputId": "e293878b-f916-480a-9c87-62f5b5d5f70c"
      },
      "source": [
        "def pega_valor(dicionario, chave):\n",
        "  return dicionario[chave]\n",
        "\n",
        "dic = {\"nome\": \"Geek\"}\n",
        "\n",
        "pega_valor(dic, 'nome')"
      ],
      "execution_count": 23,
      "outputs": [
        {
          "output_type": "execute_result",
          "data": {
            "application/vnd.google.colaboratory.intrinsic+json": {
              "type": "string"
            },
            "text/plain": [
              "'Geek'"
            ]
          },
          "metadata": {
            "tags": []
          },
          "execution_count": 23
        }
      ]
    },
    {
      "cell_type": "markdown",
      "metadata": {
        "id": "peoqgsHmTtWv"
      },
      "source": [
        "Até ai tudo bem, pois o valor nome foi passado e ele é um valor que realmente está no dicionário, mas e se tentássemos passar um valor que não está no dicionário?"
      ]
    },
    {
      "cell_type": "code",
      "metadata": {
        "colab": {
          "base_uri": "https://localhost:8080/",
          "height": 316
        },
        "id": "npIphcLITSr2",
        "outputId": "340f40c7-3080-41d3-e53b-183427fd0cf0"
      },
      "source": [
        "def pega_valor(dicionario, chave):\n",
        "  return dicionario[chave]\n",
        "\n",
        "dic = {\"nome\": \"Geek\"}\n",
        "\n",
        "pega_valor(dic, 'game')"
      ],
      "execution_count": 25,
      "outputs": [
        {
          "output_type": "error",
          "ename": "KeyError",
          "evalue": "ignored",
          "traceback": [
            "\u001b[0;31m---------------------------------------------------------------------------\u001b[0m",
            "\u001b[0;31mKeyError\u001b[0m                                  Traceback (most recent call last)",
            "\u001b[0;32m<ipython-input-25-74a61f7571a9>\u001b[0m in \u001b[0;36m<module>\u001b[0;34m()\u001b[0m\n\u001b[1;32m      4\u001b[0m \u001b[0mdic\u001b[0m \u001b[0;34m=\u001b[0m \u001b[0;34m{\u001b[0m\u001b[0;34m\"nome\"\u001b[0m\u001b[0;34m:\u001b[0m \u001b[0;34m\"Geek\"\u001b[0m\u001b[0;34m}\u001b[0m\u001b[0;34m\u001b[0m\u001b[0;34m\u001b[0m\u001b[0m\n\u001b[1;32m      5\u001b[0m \u001b[0;34m\u001b[0m\u001b[0m\n\u001b[0;32m----> 6\u001b[0;31m \u001b[0mpega_valor\u001b[0m\u001b[0;34m(\u001b[0m\u001b[0mdic\u001b[0m\u001b[0;34m,\u001b[0m \u001b[0;34m'game'\u001b[0m\u001b[0;34m)\u001b[0m\u001b[0;34m\u001b[0m\u001b[0;34m\u001b[0m\u001b[0m\n\u001b[0m",
            "\u001b[0;32m<ipython-input-25-74a61f7571a9>\u001b[0m in \u001b[0;36mpega_valor\u001b[0;34m(dicionario, chave)\u001b[0m\n\u001b[1;32m      1\u001b[0m \u001b[0;32mdef\u001b[0m \u001b[0mpega_valor\u001b[0m\u001b[0;34m(\u001b[0m\u001b[0mdicionario\u001b[0m\u001b[0;34m,\u001b[0m \u001b[0mchave\u001b[0m\u001b[0;34m)\u001b[0m\u001b[0;34m:\u001b[0m\u001b[0;34m\u001b[0m\u001b[0;34m\u001b[0m\u001b[0m\n\u001b[0;32m----> 2\u001b[0;31m   \u001b[0;32mreturn\u001b[0m \u001b[0mdicionario\u001b[0m\u001b[0;34m[\u001b[0m\u001b[0mchave\u001b[0m\u001b[0;34m]\u001b[0m\u001b[0;34m\u001b[0m\u001b[0;34m\u001b[0m\u001b[0m\n\u001b[0m\u001b[1;32m      3\u001b[0m \u001b[0;34m\u001b[0m\u001b[0m\n\u001b[1;32m      4\u001b[0m \u001b[0mdic\u001b[0m \u001b[0;34m=\u001b[0m \u001b[0;34m{\u001b[0m\u001b[0;34m\"nome\"\u001b[0m\u001b[0;34m:\u001b[0m \u001b[0;34m\"Geek\"\u001b[0m\u001b[0;34m}\u001b[0m\u001b[0;34m\u001b[0m\u001b[0;34m\u001b[0m\u001b[0m\n\u001b[1;32m      5\u001b[0m \u001b[0;34m\u001b[0m\u001b[0m\n",
            "\u001b[0;31mKeyError\u001b[0m: 'game'"
          ]
        }
      ]
    },
    {
      "cell_type": "markdown",
      "metadata": {
        "id": "GNMhV7n1T3RG"
      },
      "source": [
        "Deu erro, o que podemos fazer então?"
      ]
    },
    {
      "cell_type": "code",
      "metadata": {
        "colab": {
          "base_uri": "https://localhost:8080/"
        },
        "id": "oxvv3YjST1q5",
        "outputId": "ff562f6c-1bd8-4bba-a7d6-aad8cf20f53f"
      },
      "source": [
        "def pega_valor(dicionario, chave):\n",
        "  try:\n",
        "    return dicionario[chave]\n",
        "  except KeyError:\n",
        "    return None\n",
        "  except TypeError:\n",
        "    return None\n",
        "\n",
        "dic = {\"nome\": \"Geek\"}\n",
        "\n",
        "print(pega_valor(7, 'nome'))"
      ],
      "execution_count": 31,
      "outputs": [
        {
          "output_type": "stream",
          "text": [
            "None\n"
          ],
          "name": "stdout"
        }
      ]
    },
    {
      "cell_type": "code",
      "metadata": {
        "colab": {
          "base_uri": "https://localhost:8080/"
        },
        "id": "LLZghI1vT_fc",
        "outputId": "7932ec24-ff9c-4f4b-c763-7d0fdb5c81f5"
      },
      "source": [
        "def pega_valor(dicionario, chave):\n",
        "  try:\n",
        "    return dicionario[chave]\n",
        "  except KeyError:\n",
        "    return None\n",
        "  except TypeError:\n",
        "    return None\n",
        "\n",
        "dic = {\"nome\": \"Geek\"}\n",
        "\n",
        "print(pega_valor(dic, 8))"
      ],
      "execution_count": 32,
      "outputs": [
        {
          "output_type": "stream",
          "text": [
            "None\n"
          ],
          "name": "stdout"
        }
      ]
    },
    {
      "cell_type": "code",
      "metadata": {
        "id": "mb_nVOIjUZYm"
      },
      "source": [
        ""
      ],
      "execution_count": null,
      "outputs": []
    }
  ]
}