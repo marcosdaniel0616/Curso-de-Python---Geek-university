{
  "nbformat": 4,
  "nbformat_minor": 0,
  "metadata": {
    "colab": {
      "name": "filter.ipynb",
      "provenance": [],
      "collapsed_sections": [],
      "authorship_tag": "ABX9TyOOOf1merafB5y/oeoOpUve",
      "include_colab_link": true
    },
    "kernelspec": {
      "name": "python3",
      "display_name": "Python 3"
    },
    "language_info": {
      "name": "python"
    }
  },
  "cells": [
    {
      "cell_type": "markdown",
      "metadata": {
        "id": "view-in-github",
        "colab_type": "text"
      },
      "source": [
        "<a href=\"https://colab.research.google.com/github/marcosdaniel0616/Curso-de-Python---Geek-university/blob/master/filter.ipynb\" target=\"_parent\"><img src=\"https://colab.research.google.com/assets/colab-badge.svg\" alt=\"Open In Colab\"/></a>"
      ]
    },
    {
      "cell_type": "markdown",
      "metadata": {
        "id": "TJ2VieuKbWvV"
      },
      "source": [
        "# Filter\n",
        "\n",
        "```filter()``` -> serve para filtrar dados de uma determinada coleção.\n",
        "\n"
      ]
    },
    {
      "cell_type": "markdown",
      "metadata": {
        "id": "N8g0w-IWp8K5"
      },
      "source": [
        "Agora imagine que temos uma coleção de valores e queremos filtrar somente os dados que estão acima da média desses valores.  \n",
        "Ex:"
      ]
    },
    {
      "cell_type": "code",
      "metadata": {
        "id": "TJLj_Q9GbXAs",
        "colab": {
          "base_uri": "https://localhost:8080/"
        },
        "outputId": "49c6171c-1d1b-421f-ddfa-4f5d0becdbea"
      },
      "source": [
        "valores = 1, 2, 3, 4, 5, 6\n",
        "\n",
        "media = sum(valores) / len(valores)\n",
        "\n",
        "print(media)"
      ],
      "execution_count": null,
      "outputs": [
        {
          "output_type": "stream",
          "text": [
            "3.5\n"
          ],
          "name": "stdout"
        }
      ]
    },
    {
      "cell_type": "markdown",
      "metadata": {
        "id": "O_svDs8WqpTI"
      },
      "source": [
        "Como podemos ver a média foi 3.5, então nós queremos pegar os números 4, 5 e 6 que são os números acima dessa média.  \n",
        "Também vamos utilizar algumas bibliotecas para nos auxiliar, nesse caso a biblioteca ```statistics```."
      ]
    },
    {
      "cell_type": "markdown",
      "metadata": {
        "id": "bLHyc0qurBHa"
      },
      "source": [
        "Biblioteca para trabalhar com dados estatísticos"
      ]
    },
    {
      "cell_type": "code",
      "metadata": {
        "id": "m_LStYjIqQNh"
      },
      "source": [
        "import statistics\n",
        "\n",
        "dados = [1.3, 2.7, 0.8, 4.1, 4.3, -0.1]"
      ],
      "execution_count": null,
      "outputs": []
    },
    {
      "cell_type": "markdown",
      "metadata": {
        "id": "oP6K_CkbrWPF"
      },
      "source": [
        "Pronto agora já importamos a biblioteca ```statistics``` e definimos os grupos de dados que usaremos para pegar a média, vamos utilizar uma função chamada ```mean``` da biblioteca ```statistics``` para pegar a média dos valores."
      ]
    },
    {
      "cell_type": "code",
      "metadata": {
        "colab": {
          "base_uri": "https://localhost:8080/"
        },
        "id": "yJr_HLNZrR6R",
        "outputId": "39e40301-d479-495d-cb59-972b8fef52cb"
      },
      "source": [
        "import statistics\n",
        "\n",
        "dados = [1.3, 2.7, 0.8, 4.1, 4.3, -0.1]\n",
        "\n",
        "media = statistics.mean(dados)\n",
        "print(media)"
      ],
      "execution_count": null,
      "outputs": [
        {
          "output_type": "stream",
          "text": [
            "2.183333333333333\n"
          ],
          "name": "stdout"
        }
      ]
    },
    {
      "cell_type": "markdown",
      "metadata": {
        "id": "cRpQqI9CtFYh"
      },
      "source": [
        "Veja que dessa forma nós também conseguimos pegar a média mas dessa vez de uma maneira mais simples.  \n",
        "Agora utilizaremos o ```filter``` para pegar os dados que estão acima da média."
      ]
    },
    {
      "cell_type": "markdown",
      "metadata": {
        "id": "kEVCxNUhtU7g"
      },
      "source": [
        "### OBS: Assim como a função ```map()```, a ```filter()``` recebe dois parâmetros, sendo eles: uma função e um iterável."
      ]
    },
    {
      "cell_type": "code",
      "metadata": {
        "colab": {
          "base_uri": "https://localhost:8080/"
        },
        "id": "-KwH4ObkrsAI",
        "outputId": "d97a90d6-f35a-425c-ad51-72288180f166"
      },
      "source": [
        "import statistics\n",
        "\n",
        "dados = [1.3, 2.7, 0.8, 4.1, 4.3, -0.1]\n",
        "\n",
        "media = statistics.mean(dados)\n",
        "\n",
        "resultado = filter(lambda dado: dado > media, dados)\n",
        "print(f'A média é {media}')\n",
        "print(f'Os valores maior que a média são: {list(resultado)}')"
      ],
      "execution_count": null,
      "outputs": [
        {
          "output_type": "stream",
          "text": [
            "A média é 2.183333333333333\n",
            "Os valores maior que a média são: [2.7, 4.1, 4.3]\n"
          ],
          "name": "stdout"
        }
      ]
    },
    {
      "cell_type": "markdown",
      "metadata": {
        "id": "CrtAUqfJHgqg"
      },
      "source": [
        "### OBS: Devemos lembrar que, assim como na função ```map()```, após serem utilizados os dados de ```filter()``` eles são excluídos da memória."
      ]
    },
    {
      "cell_type": "code",
      "metadata": {
        "id": "4-7GrfqyuIPR",
        "colab": {
          "base_uri": "https://localhost:8080/"
        },
        "outputId": "e895a556-bf01-4ea3-d13f-d4e4ce091e8c"
      },
      "source": [
        "import statistics\n",
        "\n",
        "dados = [1.3, 2.7, 0.8, 4.1, 4.3, -0.1]\n",
        "\n",
        "media = statistics.mean(dados)\n",
        "\n",
        "resultado = filter(lambda dado: dado > media, dados)\n",
        "\n",
        "print(type(resultado))"
      ],
      "execution_count": null,
      "outputs": [
        {
          "output_type": "stream",
          "text": [
            "<class 'filter'>\n"
          ],
          "name": "stdout"
        }
      ]
    },
    {
      "cell_type": "markdown",
      "metadata": {
        "id": "iUQ2PMTrIUJa"
      },
      "source": [
        "Como podemos ver, o tipo de dado do filter é um filter object!"
      ]
    },
    {
      "cell_type": "markdown",
      "metadata": {
        "id": "Gf_hZ1OUjDAH"
      },
      "source": [
        "Uma outra utilização do ```filter()``` é a remoção de dados faltantes.  \n",
        "## Exemplo 1:"
      ]
    },
    {
      "cell_type": "code",
      "metadata": {
        "id": "KvAnF7CKITdH",
        "colab": {
          "base_uri": "https://localhost:8080/"
        },
        "outputId": "cb05e87b-3f58-4342-c8f2-ae0cf2128572"
      },
      "source": [
        "paises = ['', 'Argentina', '', 'Brasil', 'Chile', '', 'Colômbia', '', 'Equador',\n",
        "          '', '', 'Venezuela']\n",
        "          \n",
        "print(paises)"
      ],
      "execution_count": null,
      "outputs": [
        {
          "output_type": "stream",
          "text": [
            "['', 'Argentina', '', 'Brasil', 'Chile', '', 'Colômbia', '', 'Equador', '', '', 'Venezuela']\n"
          ],
          "name": "stdout"
        }
      ]
    },
    {
      "cell_type": "markdown",
      "metadata": {
        "id": "_KZhB-uEjpWy"
      },
      "source": [
        "Como podemos ver, existem alguns países sem valores, ou seja, alguns dados na lista que estão sem valor e não é muito interessante fazer nenhum tipo de processamento de dados com esses dados faltantes pois irá distorcer o resultado final, então utilizamos filtros para removê-los. "
      ]
    },
    {
      "cell_type": "code",
      "metadata": {
        "id": "kHAok-Koj81W",
        "colab": {
          "base_uri": "https://localhost:8080/"
        },
        "outputId": "54f7c101-9d05-4502-d836-28acfa764110"
      },
      "source": [
        "paises = ['', 'Argentina', '', 'Brasil', 'Chile', '', 'Colômbia', '', 'Equador',\n",
        "          '', '', 'Venezuela']\n",
        "\n",
        "resultado = filter(None, paises)\n",
        "\n",
        "print(list(resultado))"
      ],
      "execution_count": null,
      "outputs": [
        {
          "output_type": "stream",
          "text": [
            "['Argentina', 'Brasil', 'Chile', 'Colômbia', 'Equador', 'Venezuela']\n"
          ],
          "name": "stdout"
        }
      ]
    },
    {
      "cell_type": "markdown",
      "metadata": {
        "id": "3AOgRl0lu0qq"
      },
      "source": [
        "Veja que fácil! :D  \n",
        "De uma forma simples e fácil nós filtramos os países, removendo aqueles que estavam vazios."
      ]
    },
    {
      "cell_type": "markdown",
      "metadata": {
        "id": "qXTwRXdRvIG4"
      },
      "source": [
        "Dessa forma é fácil e já resolve o problema mas vamos tentar remover com ```lambda``` para ver outra forma?\n",
        "## Exemplo 2:"
      ]
    },
    {
      "cell_type": "code",
      "metadata": {
        "id": "g0Bdg_AokBRT",
        "colab": {
          "base_uri": "https://localhost:8080/"
        },
        "outputId": "9c00cc58-7caa-4a36-e821-deacf64db40d"
      },
      "source": [
        "paises = ['', 'Argentina', '', 'Brasil', 'Chile', '', 'Colômbia', '', 'Equador',\n",
        "          '', '', 'Venezuela']\n",
        "\n",
        "resultado = filter(lambda pais: len(pais) > 0, paises)\n",
        "\n",
        "print(list(resultado))"
      ],
      "execution_count": null,
      "outputs": [
        {
          "output_type": "stream",
          "text": [
            "['Argentina', 'Brasil', 'Chile', 'Colômbia', 'Equador', 'Venezuela']\n"
          ],
          "name": "stdout"
        }
      ]
    },
    {
      "cell_type": "markdown",
      "metadata": {
        "id": "gxcLCzZYv530"
      },
      "source": [
        "Ambos funcionaram, mas o de cima é mais como dá pra perceber o exemplo de cima é mais simples e limpo."
      ]
    },
    {
      "cell_type": "markdown",
      "metadata": {
        "id": "p1bmw0ivxRH5"
      },
      "source": [
        "### OBS: Temos que tomar cuidado pois caso estivermos fazendo uma operação Booleana o ```0``` será considerado ```False```."
      ]
    },
    {
      "cell_type": "markdown",
      "metadata": {
        "id": "GsDKUve8xw_7"
      },
      "source": [
        "## Diferença entre ```map``` e o ```filter```\n",
        "a diferença entre eles é:  \n",
        "map() -> recebe dois parâmetros, uma função e um iterável e retorna um objeto mapeando a função para cada objeto do iterável.  \n",
        "  \n",
        "filter() -> recebe dois parâmetros, uma função e um iterável e retorna um objeto filtrando apenas os elementos de acordo com a função."
      ]
    },
    {
      "cell_type": "markdown",
      "metadata": {
        "id": "mgZPM5VQyZah"
      },
      "source": [
        "## Exemplo mais complexo:"
      ]
    },
    {
      "cell_type": "markdown",
      "metadata": {
        "id": "TIBdV_6A0RAb"
      },
      "source": [
        "Suponhamos que agora estamos em uma entrevista de emprego e eles nos passaram uma base de dados:"
      ]
    },
    {
      "cell_type": "code",
      "metadata": {
        "colab": {
          "base_uri": "https://localhost:8080/"
        },
        "id": "NUScR7zhv5Eb",
        "outputId": "2618ff60-ad1f-4d7d-cf7e-893d266cce99"
      },
      "source": [
        "usuarios = [ {'username': 'Samuel','tweets': ['Eu adoro bolos', 'Eu adoro pizzas']},\n",
        "            {'username': 'Carla','tweets': ['Eu amo meu gato']},\n",
        "            {'username': 'Jeff','tweets': []},\n",
        "            {'username': 'Bob123','tweets': []},\n",
        "            {'username': 'doggo','tweets': ['Eu gosto de cachorros', 'Vou sair hoje']},\n",
        "            {'username': 'gal','tweets': []}\n",
        "            ]"
      ],
      "execution_count": null,
      "outputs": [
        {
          "output_type": "stream",
          "text": [
            "[{'username': 'Samuel', 'tweets': ['Eu adoro bolos', 'Eu adoro pizzas']}, {'username': 'Carla', 'tweets': ['Eu amo meu gato']}, {'username': 'Jeff', 'tweets': []}, {'username': 'Bob123', 'tweets': []}, {'username': 'doggo', 'tweets': ['Eu gosto de cachorros', 'Vou sair hoje']}, {'username': 'gal', 'tweets': []}]\n"
          ],
          "name": "stdout"
        }
      ]
    },
    {
      "cell_type": "markdown",
      "metadata": {
        "id": "LT1j_El40W-k"
      },
      "source": [
        "E qual o nosso objetivo? Nosso objetivo é filtrar os usuários inativos. Vamos ver como fazer isso:"
      ]
    },
    {
      "cell_type": "markdown",
      "metadata": {
        "id": "FKxODfPb2DZC"
      },
      "source": [
        "## Forma 1"
      ]
    },
    {
      "cell_type": "code",
      "metadata": {
        "colab": {
          "base_uri": "https://localhost:8080/"
        },
        "id": "mGw3ZHNyy9_V",
        "outputId": "0524c3f2-88c0-41d0-db6b-ac4cd1850467"
      },
      "source": [
        "usuarios = [ {'username': 'Samuel','tweets': ['Eu adoro bolos', 'Eu adoro pizzas']},\n",
        "            {'username': 'Carla','tweets': ['Eu amo meu gato']},\n",
        "            {'username': 'Jeff','tweets': []},\n",
        "            {'username': 'Bob123','tweets': []},\n",
        "            {'username': 'doggo','tweets': ['Eu gosto de cachorros', 'Vou sair hoje']},\n",
        "            {'username': 'gal','tweets': []}\n",
        "            ]\n",
        "\n",
        "inativos = filter(lambda usuario: len(usuario['tweets']) == 0, usuarios )\n",
        "\n",
        "print(list(inativos))"
      ],
      "execution_count": null,
      "outputs": [
        {
          "output_type": "stream",
          "text": [
            "[{'username': 'Jeff', 'tweets': []}, {'username': 'Bob123', 'tweets': []}, {'username': 'gal', 'tweets': []}]\n"
          ],
          "name": "stdout"
        }
      ]
    },
    {
      "cell_type": "markdown",
      "metadata": {
        "id": "2FYVwvc22FCW"
      },
      "source": [
        "## Forma 2"
      ]
    },
    {
      "cell_type": "code",
      "metadata": {
        "id": "s7UwlwWh0o8q",
        "colab": {
          "base_uri": "https://localhost:8080/"
        },
        "outputId": "d6419c00-7707-48a5-911d-4d2ed6ff1b0c"
      },
      "source": [
        "usuarios = [ {'username': 'Samuel','tweets': ['Eu adoro bolos', 'Eu adoro pizzas']},\n",
        "            {'username': 'Carla','tweets': ['Eu amo meu gato']},\n",
        "            {'username': 'Jeff','tweets': []},\n",
        "            {'username': 'Bob123','tweets': []},\n",
        "            {'username': 'doggo','tweets': ['Eu gosto de cachorros', 'Vou sair hoje']},\n",
        "            {'username': 'gal','tweets': []}\n",
        "            ]\n",
        "\n",
        "inativos = filter(lambda usuario: not usuario['tweets'], usuarios )\n",
        "\n",
        "print(list(inativos))"
      ],
      "execution_count": null,
      "outputs": [
        {
          "output_type": "stream",
          "text": [
            "[{'username': 'Jeff', 'tweets': []}, {'username': 'Bob123', 'tweets': []}, {'username': 'gal', 'tweets': []}]\n"
          ],
          "name": "stdout"
        }
      ]
    },
    {
      "cell_type": "markdown",
      "metadata": {
        "id": "mXMR-GiSyYxx"
      },
      "source": [
        "## Combinar ```filter()``` e ```map()```:"
      ]
    },
    {
      "cell_type": "code",
      "metadata": {
        "id": "_s3TZQDc2OPI"
      },
      "source": [
        "nomes = ['Vanessa', 'Ana', 'Maria']"
      ],
      "execution_count": null,
      "outputs": []
    },
    {
      "cell_type": "markdown",
      "metadata": {
        "id": "tocov9Lxymb7"
      },
      "source": [
        "Nosso objetivo é criar uma lista contendo 'Sua instrutora é ' + nome.  \n",
        "Desde que cada nome tenha menos de 5 caracteres."
      ]
    },
    {
      "cell_type": "code",
      "metadata": {
        "colab": {
          "base_uri": "https://localhost:8080/"
        },
        "id": "OrJ2PAgpylWX",
        "outputId": "7aa73219-98e6-4ccc-fb75-21e31eff7e75"
      },
      "source": [
        "nomes = ['Vanessa', 'Ana', 'Maria']\n",
        "\n",
        "lista = list(map(lambda nome: f'Sua instrutora é {nome}', filter(lambda nome: len(nome) < 5, nomes)))\n",
        "\n",
        "print(lista)"
      ],
      "execution_count": null,
      "outputs": [
        {
          "output_type": "stream",
          "text": [
            "['Sua instrutora é Ana']\n"
          ],
          "name": "stdout"
        }
      ]
    },
    {
      "cell_type": "markdown",
      "metadata": {
        "id": "IYs_q6HIzfgk"
      },
      "source": [
        "Foi mostrado apenas o nome Ana já que é o nome com menos de 5 caracteres."
      ]
    },
    {
      "cell_type": "code",
      "metadata": {
        "id": "LKR-NNYgzR3V"
      },
      "source": [
        ""
      ],
      "execution_count": null,
      "outputs": []
    }
  ]
}