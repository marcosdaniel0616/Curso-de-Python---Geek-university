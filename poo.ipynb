{
  "nbformat": 4,
  "nbformat_minor": 0,
  "metadata": {
    "colab": {
      "name": "poo.ipynb",
      "provenance": [],
      "authorship_tag": "ABX9TyOQJk0cztX+kkb4poWzaBbJ",
      "include_colab_link": true
    },
    "kernelspec": {
      "name": "python3",
      "display_name": "Python 3"
    },
    "language_info": {
      "name": "python"
    }
  },
  "cells": [
    {
      "cell_type": "markdown",
      "metadata": {
        "id": "view-in-github",
        "colab_type": "text"
      },
      "source": [
        "<a href=\"https://colab.research.google.com/github/marcosdaniel0616/Curso-de-Python---Geek-university/blob/master/poo.ipynb\" target=\"_parent\"><img src=\"https://colab.research.google.com/assets/colab-badge.svg\" alt=\"Open In Colab\"/></a>"
      ]
    },
    {
      "cell_type": "markdown",
      "metadata": {
        "id": "yGuJafN8tCqg"
      },
      "source": [
        "# Programação orientada a objetos - POO\n",
        "- Poo é um paradigma de programação que utiliza de mapeamento de objetos do mundo real para modelos computacionais.\n",
        "- Paradigma de programação é a forma/metodologia utilizada para pensar/desenvolver sistemas.\n",
        "\n",
        "Principais elementos da Orientação a objetos.\n",
        "- Classe -> Modelo do objeto do mundo real sendo representado computacionalmente\n",
        "- Atributo -> Características do objeto\n",
        "- Método -> Comportamento do objeto\n",
        "- Construtor -> Método especial utilizado para criar os objetos;\n",
        "- Objeto -> Instância da classe."
      ]
    },
    {
      "cell_type": "code",
      "metadata": {
        "colab": {
          "base_uri": "https://localhost:8080/",
          "height": 283
        },
        "id": "7RLYHIOdtxa2",
        "outputId": "2e8378cf-a0f5-406a-9cb7-f4127e646659"
      },
      "source": [
        "numero = 10\n",
        "\n",
        "print(numero)\n",
        "print(type(numero))\n",
        "\n",
        "nome = 'Marcos'\n",
        "print(nome)\n",
        "print(type(nome))\n",
        "\n",
        "class produto:\n",
        "  pass\n",
        "\n",
        "ps4 = produto()\n",
        "\n",
        "print(ps4)\n",
        "print(type(ps4))"
      ],
      "execution_count": 6,
      "outputs": [
        {
          "output_type": "stream",
          "text": [
            "10\n",
            "<class 'int'>\n",
            "Marcos\n",
            "<class 'str'>\n"
          ],
          "name": "stdout"
        },
        {
          "output_type": "error",
          "ename": "TypeError",
          "evalue": "ignored",
          "traceback": [
            "\u001b[0;31m---------------------------------------------------------------------------\u001b[0m",
            "\u001b[0;31mTypeError\u001b[0m                                 Traceback (most recent call last)",
            "\u001b[0;32m<ipython-input-6-9f600d345410>\u001b[0m in \u001b[0;36m<module>\u001b[0;34m()\u001b[0m\n\u001b[1;32m     13\u001b[0m \u001b[0mps4\u001b[0m \u001b[0;34m=\u001b[0m \u001b[0mproduto\u001b[0m\u001b[0;34m(\u001b[0m\u001b[0;34m)\u001b[0m\u001b[0;34m\u001b[0m\u001b[0;34m\u001b[0m\u001b[0m\n\u001b[1;32m     14\u001b[0m \u001b[0;34m\u001b[0m\u001b[0m\n\u001b[0;32m---> 15\u001b[0;31m \u001b[0mprint\u001b[0m\u001b[0;34m(\u001b[0m\u001b[0mps4\u001b[0m\u001b[0;34m(\u001b[0m\u001b[0;34m)\u001b[0m\u001b[0;34m)\u001b[0m\u001b[0;34m\u001b[0m\u001b[0;34m\u001b[0m\u001b[0m\n\u001b[0m\u001b[1;32m     16\u001b[0m \u001b[0mprint\u001b[0m\u001b[0;34m(\u001b[0m\u001b[0mtype\u001b[0m\u001b[0;34m(\u001b[0m\u001b[0mps4\u001b[0m\u001b[0;34m)\u001b[0m\u001b[0;34m)\u001b[0m\u001b[0;34m\u001b[0m\u001b[0;34m\u001b[0m\u001b[0m\n",
            "\u001b[0;31mTypeError\u001b[0m: 'produto' object is not callable"
          ]
        }
      ]
    },
    {
      "cell_type": "code",
      "metadata": {
        "id": "YeHq47BCt756"
      },
      "source": [
        ""
      ],
      "execution_count": null,
      "outputs": []
    }
  ]
}