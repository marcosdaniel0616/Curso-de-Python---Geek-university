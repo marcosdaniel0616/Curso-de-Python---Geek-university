{
  "nbformat": 4,
  "nbformat_minor": 0,
  "metadata": {
    "colab": {
      "name": "docstrings.ipynb",
      "provenance": [],
      "collapsed_sections": [],
      "authorship_tag": "ABX9TyMETPkIj9BAyUtOUw8g2twX",
      "include_colab_link": true
    },
    "kernelspec": {
      "name": "python3",
      "display_name": "Python 3"
    },
    "language_info": {
      "name": "python"
    }
  },
  "cells": [
    {
      "cell_type": "markdown",
      "metadata": {
        "id": "view-in-github",
        "colab_type": "text"
      },
      "source": [
        "<a href=\"https://colab.research.google.com/github/marcosdaniel0616/Curso-de-Python---Geek-university/blob/master/docstrings.ipynb\" target=\"_parent\"><img src=\"https://colab.research.google.com/assets/colab-badge.svg\" alt=\"Open In Colab\"/></a>"
      ]
    },
    {
      "cell_type": "markdown",
      "metadata": {
        "id": "WDOeDS0QNOPg"
      },
      "source": [
        "# Documentando funções com Docstrings\n",
        "Por que precisamos documentar uma função? Isso serve para que quando venhamos fazer uma manutenção naquele código nós venhamos a saber facilmente o objetivo dela e o que aquela função faz. (ou mesmo para outras pessoas que vão olhar nosso código)"
      ]
    },
    {
      "cell_type": "code",
      "metadata": {
        "colab": {
          "base_uri": "https://localhost:8080/"
        },
        "id": "rz65PwKDNA1P",
        "outputId": "ad362045-99c4-4250-9548-2840ca158a17"
      },
      "source": [
        "help(print)"
      ],
      "execution_count": 4,
      "outputs": [
        {
          "output_type": "stream",
          "text": [
            "Help on built-in function print in module builtins:\n",
            "\n",
            "print(...)\n",
            "    print(value, ..., sep=' ', end='\\n', file=sys.stdout, flush=False)\n",
            "    \n",
            "    Prints the values to a stream, or to sys.stdout by default.\n",
            "    Optional keyword arguments:\n",
            "    file:  a file-like object (stream); defaults to the current sys.stdout.\n",
            "    sep:   string inserted between values, default a space.\n",
            "    end:   string appended after the last value, default a newline.\n",
            "    flush: whether to forcibly flush the stream.\n",
            "\n"
          ],
          "name": "stdout"
        }
      ]
    },
    {
      "cell_type": "markdown",
      "metadata": {
        "id": "vsGfvmdLS4bt"
      },
      "source": [
        "Essa é a documentação do método print, então já podemos ter como exemplos de documentações, as funções built-in do Python para entedermos como elas funcionam."
      ]
    },
    {
      "cell_type": "markdown",
      "metadata": {
        "id": "BFmnHuDiTPHo"
      },
      "source": [
        "## Exemplos:"
      ]
    },
    {
      "cell_type": "code",
      "metadata": {
        "colab": {
          "base_uri": "https://localhost:8080/"
        },
        "id": "mz-qJcz0OHqJ",
        "outputId": "f3b404b3-d6ed-42f5-a75f-49892c762ad8"
      },
      "source": [
        "def diz_oi():\n",
        "  \"\"\"Uma função simples que retorna a string oi!\"\"\"\n",
        "  return 'oi'\n",
        "\n",
        "\n",
        "help(diz_oi)"
      ],
      "execution_count": 11,
      "outputs": [
        {
          "output_type": "stream",
          "text": [
            "Help on function diz_oi in module __main__:\n",
            "\n",
            "diz_oi()\n",
            "    Uma função simples que retorna a string oi!\n",
            "\n"
          ],
          "name": "stdout"
        }
      ]
    },
    {
      "cell_type": "markdown",
      "metadata": {
        "id": "kYdTmvj8TjeU"
      },
      "source": [
        "Note que nós criamos a documentação dessa função e utilizamos o ```help(diz_oi)``` para fazer acesso a essa documentação."
      ]
    },
    {
      "cell_type": "markdown",
      "metadata": {
        "id": "CHperuKpT3Fu"
      },
      "source": [
        "outra forma de mostrar essa documentação:"
      ]
    },
    {
      "cell_type": "code",
      "metadata": {
        "colab": {
          "base_uri": "https://localhost:8080/"
        },
        "id": "deddpSvbTaSb",
        "outputId": "a313e549-95de-4c61-c8e4-03338cef54a2"
      },
      "source": [
        "def diz_oi():\n",
        "  \"\"\"Uma função simples que retorna a string oi!\"\"\"\n",
        "  return 'oi'\n",
        "\n",
        "\n",
        "print(diz_oi.__doc__)"
      ],
      "execution_count": 12,
      "outputs": [
        {
          "output_type": "stream",
          "text": [
            "Uma função simples que retorna a string oi!\n"
          ],
          "name": "stdout"
        }
      ]
    },
    {
      "cell_type": "markdown",
      "metadata": {
        "id": "Is1mUsJ8UDy_"
      },
      "source": [
        "Nesse caso utilizamos o ```print(diz_oi.__doc__)``` para mostrar a documentação.  \n",
        "  \n",
        "Também podemos acessar a documentação de métodos built-in utilizando o __doc__, veja:"
      ]
    },
    {
      "cell_type": "code",
      "metadata": {
        "colab": {
          "base_uri": "https://localhost:8080/"
        },
        "id": "B_Db3FgzUBIv",
        "outputId": "2a3a24cd-06bf-43da-ec02-761d23f97642"
      },
      "source": [
        "print(print.__doc__)"
      ],
      "execution_count": 14,
      "outputs": [
        {
          "output_type": "stream",
          "text": [
            "print(value, ..., sep=' ', end='\\n', file=sys.stdout, flush=False)\n",
            "\n",
            "Prints the values to a stream, or to sys.stdout by default.\n",
            "Optional keyword arguments:\n",
            "file:  a file-like object (stream); defaults to the current sys.stdout.\n",
            "sep:   string inserted between values, default a space.\n",
            "end:   string appended after the last value, default a newline.\n",
            "flush: whether to forcibly flush the stream.\n"
          ],
          "name": "stdout"
        }
      ]
    },
    {
      "cell_type": "markdown",
      "metadata": {
        "id": "WygcL6CMUzOe"
      },
      "source": [
        "## Outro exemplo:"
      ]
    },
    {
      "cell_type": "code",
      "metadata": {
        "colab": {
          "base_uri": "https://localhost:8080/"
        },
        "id": "IUA5ZqXfUgLT",
        "outputId": "23a347be-8c81-4cce-9ef1-858fb518d2cb"
      },
      "source": [
        "def exponencial(numero, potencia=2):\n",
        "  \"\"\"\n",
        "  Função que retorna por padrão o quadrado de um 'numero' ou o 'numero' elevado \n",
        "  à 'potencia' informada.\n",
        "  :param numero: Número que desejamos gerar o exponencial.\n",
        "  :param potencia: Potência que queremos gerar o exponencial. Por padrão é 2.\n",
        "  :return: retorna o exponencial de 'numero' por 'potencia'.\n",
        "  \"\"\"\n",
        "  return numero ** potencia\n",
        "\n",
        "print(exponencial.__doc__)"
      ],
      "execution_count": 19,
      "outputs": [
        {
          "output_type": "stream",
          "text": [
            "\n",
            "  Função que retorna por padrão o quadrado de um 'numero' ou o 'numero' elevado \n",
            "  à 'potencia' informada.\n",
            "  :param numero: Número que desejamos gerar o exponencial.\n",
            "  :param potencia: Potência que queremos gerar o exponencial. Por padrão é 2.\n",
            "  :return: retorna o exponencial de 'numero' por 'potencia'.\n",
            "  \n"
          ],
          "name": "stdout"
        }
      ]
    },
    {
      "cell_type": "code",
      "metadata": {
        "id": "s62NKBD7Vf6v"
      },
      "source": [
        ""
      ],
      "execution_count": null,
      "outputs": []
    }
  ]
}