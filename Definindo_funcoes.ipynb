{
  "nbformat": 4,
  "nbformat_minor": 0,
  "metadata": {
    "colab": {
      "name": "Definindo_funcoes.ipynb",
      "provenance": [],
      "authorship_tag": "ABX9TyNUN475pG2g+fmIw9Mw2IyC",
      "include_colab_link": true
    },
    "kernelspec": {
      "name": "python3",
      "display_name": "Python 3"
    },
    "language_info": {
      "name": "python"
    }
  },
  "cells": [
    {
      "cell_type": "markdown",
      "metadata": {
        "id": "view-in-github",
        "colab_type": "text"
      },
      "source": [
        "<a href=\"https://colab.research.google.com/github/marcosdaniel0616/Curso-de-Python---Geek-university/blob/master/Definindo_funcoes.ipynb\" target=\"_parent\"><img src=\"https://colab.research.google.com/assets/colab-badge.svg\" alt=\"Open In Colab\"/></a>"
      ]
    },
    {
      "cell_type": "markdown",
      "metadata": {
        "id": "WmtdOz29kNW3"
      },
      "source": [
        "# Definindo Funções\n",
        "\n",
        "- Funções são pequenos partes de código que realizam tarefas especifícas \n",
        "- Elas podem, ou não, receber entradas de dado e retornar uma saída de dados.\n",
        "- Muito utéis para executar procedimentos similares, repetidas vezes;\n",
        "\n",
        "*OBS*: Se você escrever uma função que realiza várias tarefas, é bom fazer uma verificação para que a função seja simplificada\n",
        "\n"
      ]
    },
    {
      "cell_type": "markdown",
      "metadata": {
        "id": "dyqEs43Jlm4X"
      },
      "source": [
        "Já utilizamos várias funções desde o início do curso, por exemplo:  \n",
        "- print()\n",
        "- len()\n",
        "- max()\n",
        "- min()\n",
        "- count()\n",
        "- e muitas outras;\n",
        "\n",
        "---"
      ]
    },
    {
      "cell_type": "markdown",
      "metadata": {
        "id": "aN7bzHu7l3Rx"
      },
      "source": [
        "## Exemplo de utilização de funções:\n",
        "### Utilizando a função integrada (Built-in)\n",
        "\n",
        "- print()"
      ]
    },
    {
      "cell_type": "code",
      "metadata": {
        "colab": {
          "base_uri": "https://localhost:8080/"
        },
        "id": "uBc-iohhgXcF",
        "outputId": "b45754c7-1389-46aa-f160-652564ea4b8c"
      },
      "source": [
        "cores = ['verde', 'amarelo', 'azul', 'branco']\n",
        "\n",
        "# Utilizando a função integrada (Built-in)\n",
        "print(cores)"
      ],
      "execution_count": 3,
      "outputs": [
        {
          "output_type": "stream",
          "text": [
            "['verde', 'amarelo', 'azul', 'branco']\n"
          ],
          "name": "stdout"
        }
      ]
    },
    {
      "cell_type": "code",
      "metadata": {
        "colab": {
          "base_uri": "https://localhost:8080/"
        },
        "id": "1BxN30esmKt4",
        "outputId": "f95c457f-97d6-466d-a5b3-a4ab61e9ae84"
      },
      "source": [
        "curso = 'Programação em Python: Essencial'\n",
        "\n",
        "print(curso)"
      ],
      "execution_count": 5,
      "outputs": [
        {
          "output_type": "stream",
          "text": [
            "Programação em Python: Essencial\n"
          ],
          "name": "stdout"
        }
      ]
    },
    {
      "cell_type": "markdown",
      "metadata": {
        "id": "LFNasVQKnBkM"
      },
      "source": [
        "## Outra função integrada:\n",
        "- append()"
      ]
    },
    {
      "cell_type": "code",
      "metadata": {
        "colab": {
          "base_uri": "https://localhost:8080/"
        },
        "id": "UGuQ9tSgmnW6",
        "outputId": "0ed8fcf6-d9cb-4ee3-c6f7-917007b92214"
      },
      "source": [
        "cores = ['verde', 'amarelo', 'azul', 'branco']\n",
        "\n",
        "print(cores)\n",
        "\n",
        "cores.append('roxo')\n",
        "print(cores)"
      ],
      "execution_count": 6,
      "outputs": [
        {
          "output_type": "stream",
          "text": [
            "['verde', 'amarelo', 'azul', 'branco']\n",
            "['verde', 'amarelo', 'azul', 'branco', 'roxo']\n"
          ],
          "name": "stdout"
        }
      ]
    },
    {
      "cell_type": "code",
      "metadata": {
        "colab": {
          "base_uri": "https://localhost:8080/",
          "height": 215
        },
        "id": "lwAy3uAxnPPN",
        "outputId": "f1683443-8e24-46de-f2d1-a0ea73e825f9"
      },
      "source": [
        "curso = 'Programação em Python: Essencial'\n",
        "\n",
        "\n",
        "curso.append('Mais dados...') # attributeError\n",
        "print(curso)"
      ],
      "execution_count": 7,
      "outputs": [
        {
          "output_type": "error",
          "ename": "AttributeError",
          "evalue": "ignored",
          "traceback": [
            "\u001b[0;31m---------------------------------------------------------------------------\u001b[0m",
            "\u001b[0;31mAttributeError\u001b[0m                            Traceback (most recent call last)",
            "\u001b[0;32m<ipython-input-7-0497c851cb92>\u001b[0m in \u001b[0;36m<module>\u001b[0;34m()\u001b[0m\n\u001b[1;32m      2\u001b[0m \u001b[0;34m\u001b[0m\u001b[0m\n\u001b[1;32m      3\u001b[0m \u001b[0;34m\u001b[0m\u001b[0m\n\u001b[0;32m----> 4\u001b[0;31m \u001b[0mcurso\u001b[0m\u001b[0;34m.\u001b[0m\u001b[0mappend\u001b[0m\u001b[0;34m(\u001b[0m\u001b[0;34m'Mais dados...'\u001b[0m\u001b[0;34m)\u001b[0m \u001b[0;31m# attributeError\u001b[0m\u001b[0;34m\u001b[0m\u001b[0;34m\u001b[0m\u001b[0m\n\u001b[0m\u001b[1;32m      5\u001b[0m \u001b[0mprint\u001b[0m\u001b[0;34m(\u001b[0m\u001b[0mcurso\u001b[0m\u001b[0;34m)\u001b[0m\u001b[0;34m\u001b[0m\u001b[0;34m\u001b[0m\u001b[0m\n",
            "\u001b[0;31mAttributeError\u001b[0m: 'str' object has no attribute 'append'"
          ]
        }
      ]
    },
    {
      "cell_type": "markdown",
      "metadata": {
        "id": "V08EnUPjnhzJ"
      },
      "source": [
        "Esse erro deve-se ao fato de que uma string não pode receber o método append, que é exclusivo de coleções.\n"
      ]
    },
    {
      "cell_type": "markdown",
      "metadata": {
        "id": "-qy2WxU3n1jg"
      },
      "source": [
        "Como pudemos ver anteriormente, algumas funções recebem dados de entrada, \n",
        "  \n",
        "por exemplo:  o print() recebe o dado que você quer mostrar, o append() recebe o dado que você quer adicionar."
      ]
    },
    {
      "cell_type": "markdown",
      "metadata": {
        "id": "PqyITObPoRFx"
      },
      "source": [
        "Mas algumas funções não recebem entrada, por exemplo:\n",
        "- clear()"
      ]
    },
    {
      "cell_type": "code",
      "metadata": {
        "colab": {
          "base_uri": "https://localhost:8080/"
        },
        "id": "2eTf8zhsnhFy",
        "outputId": "36d200ac-8cdb-4513-bd3a-4ab786a43b27"
      },
      "source": [
        "cores = ['verde', 'amarelo', 'azul', 'branco']\n",
        "\n",
        "cores.clear()\n",
        "print(cores)"
      ],
      "execution_count": 8,
      "outputs": [
        {
          "output_type": "stream",
          "text": [
            "[]\n"
          ],
          "name": "stdout"
        }
      ]
    },
    {
      "cell_type": "markdown",
      "metadata": {
        "id": "gv2KUiZ3oYz7"
      },
      "source": [
        "Como pudemos ver, o clear não recebe entradas e ele serve para limparmos o valor da lista."
      ]
    },
    {
      "cell_type": "markdown",
      "metadata": {
        "id": "aWmuWhzbozrv"
      },
      "source": [
        "Essas Funções integradas (Built-in) servem para não precisarmos repetir código e para facilitar nosso uso de funções, pois uma vez que já estão integradas e implementadas, só precisamos chama-las.  \n",
        "  \n",
        "Isso faz parte de um princípio chamado: DRY - Don't Repeat Yourself - Não repita você mesmo - Não repita seu código\n",
        "\n",
        "---"
      ]
    },
    {
      "cell_type": "markdown",
      "metadata": {
        "id": "_Mft0Qa1pkhE"
      },
      "source": [
        "Mas então...\n",
        "## Como definir funções?\n",
        "Em Python, a forma geral de definir uma função é:  \n",
        "\n",
        "\n",
        "```\n",
        "def nome_da_funcao(parametros_de_entrada:\n",
        "    bloco_da_funcao\n",
        "```\n",
        "\n",
        "Onde:\n",
        "\n",
        "nome_da_funcao -> SEMPRE, com letras minúsculas, e se for nome composto, separado por underline (Snake Case)  \n",
        "  \n",
        "parametros_de_entrada -> São opcionais, onde tendo mais de um, cada um separado por vírgula, podendo ser opcionais ou não;  \n",
        "  \n",
        "bloco_da_funcao -> Também chamado de corpo da função ou implementação, é onde o processamento da função acontece, nesse bloco pode ter ou não retorno da função.  \n",
        "  \n",
        "OBS: veja que para definir uma função, utilizamos a palavra reservada 'def' informando ao Python que estamos definindo uma função. Também abrimos o bloco de código com o já conhecido dois pontos : que é utilizado em Python para definir códigos\n",
        "\n",
        "---"
      ]
    },
    {
      "cell_type": "markdown",
      "metadata": {
        "id": "imrBBvdHrmaj"
      },
      "source": [
        "## Definindo a primeira função"
      ]
    },
    {
      "cell_type": "code",
      "metadata": {
        "id": "r5TYeEe3oi6V"
      },
      "source": [
        "def diz_oi():\n",
        "  print('oi')"
      ],
      "execution_count": 11,
      "outputs": []
    },
    {
      "cell_type": "markdown",
      "metadata": {
        "id": "BKMOLPlKr3Yt"
      },
      "source": [
        "OBS:  \n",
        "  \n",
        "- 1 - Veja que, dentro das nossas funções podemos utilizar outras funções;\n",
        "- 2 - Veja que nossa função só executa uma tarefa, ou seja, a única coisa que ela faz é dizer oi;\n",
        "- 3 - Veja que essa função não recebe nenhum parâmetro de entrada;\n",
        "- 4 - Veja que esta função não retorna nada."
      ]
    },
    {
      "cell_type": "markdown",
      "metadata": {
        "id": "1DWkTF1qsfDg"
      },
      "source": [
        "## Utilizando funções\n",
        "### Chamada de execução"
      ]
    },
    {
      "cell_type": "code",
      "metadata": {
        "colab": {
          "base_uri": "https://localhost:8080/"
        },
        "id": "HQj4qja5rwCb",
        "outputId": "8c658dd1-e56c-4d8e-b0dd-c67de2b066b2"
      },
      "source": [
        "def diz_oi():\n",
        "  print('oi')\n",
        "\n",
        "diz_oi()"
      ],
      "execution_count": 12,
      "outputs": [
        {
          "output_type": "stream",
          "text": [
            "oi\n"
          ],
          "name": "stdout"
        }
      ]
    },
    {
      "cell_type": "markdown",
      "metadata": {
        "id": "Cro5uKkpstDQ"
      },
      "source": [
        "OBS: Note que eu abri e fechei parênteses para chamar a função\n",
        "\n",
        "\n",
        "```\n",
        "diz_oi()\n",
        "```\n",
        "\n",
        "pois se eu não utilizar os parênteses nada acontece. Ex:\n"
      ]
    },
    {
      "cell_type": "code",
      "metadata": {
        "colab": {
          "base_uri": "https://localhost:8080/"
        },
        "id": "nRj3IawCsp80",
        "outputId": "7c723ef2-27b2-4dd9-d71d-537ebbed7f4b"
      },
      "source": [
        "def diz_oi():\n",
        "  print('oi')\n",
        "\n",
        "diz_oi"
      ],
      "execution_count": 13,
      "outputs": [
        {
          "output_type": "execute_result",
          "data": {
            "text/plain": [
              "<function __main__.diz_oi>"
            ]
          },
          "metadata": {
            "tags": []
          },
          "execution_count": 13
        }
      ]
    },
    {
      "cell_type": "markdown",
      "metadata": {
        "id": "jUeri2KDtAb4"
      },
      "source": [
        "Note que a função não funciona corretamente."
      ]
    },
    {
      "cell_type": "markdown",
      "metadata": {
        "id": "ensw0aebtevw"
      },
      "source": [
        "## Exemplo 2"
      ]
    },
    {
      "cell_type": "code",
      "metadata": {
        "id": "_YwhsWUes-9C"
      },
      "source": [
        "def cantar_parabens():\n",
        "  print('Parabéns pra você')"
      ],
      "execution_count": null,
      "outputs": []
    }
  ]
}