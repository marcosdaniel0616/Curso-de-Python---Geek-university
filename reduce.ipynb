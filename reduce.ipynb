{
  "nbformat": 4,
  "nbformat_minor": 0,
  "metadata": {
    "colab": {
      "name": "reduce.ipynb",
      "provenance": [],
      "collapsed_sections": [],
      "authorship_tag": "ABX9TyOSt1ex0EzgSK2YUbKTShxM",
      "include_colab_link": true
    },
    "kernelspec": {
      "name": "python3",
      "display_name": "Python 3"
    },
    "language_info": {
      "name": "python"
    }
  },
  "cells": [
    {
      "cell_type": "markdown",
      "metadata": {
        "id": "view-in-github",
        "colab_type": "text"
      },
      "source": [
        "<a href=\"https://colab.research.google.com/github/marcosdaniel0616/Curso-de-Python---Geek-university/blob/master/reduce.ipynb\" target=\"_parent\"><img src=\"https://colab.research.google.com/assets/colab-badge.svg\" alt=\"Open In Colab\"/></a>"
      ]
    },
    {
      "cell_type": "markdown",
      "metadata": {
        "id": "zc6_zNKa1VKe"
      },
      "source": [
        "# Reduce\n",
        "\n",
        "OBS: A partir do python 3+ a função ```reduce()``` não é mais uma função integrada (built-in). Agora temos que importar e utilizar esta função a partir do módulo 'functools'.\n",
        "\n",
        "Guido Van Rossum: Utilize a função ```reduce()``` se você realmente precisar dela. Em todo caso 99% das vezes, um loop ```for``` é mais legível."
      ]
    },
    {
      "cell_type": "markdown",
      "metadata": {
        "id": "bz7lhIjK2Wzf"
      },
      "source": [
        "Para entender melhor o reduce().\n",
        "### Imagine que temos uma coleção de dados:\n",
        "\n",
        "dados = [a1, a2, a3, ... , an]\n",
        "\n",
        "### E você tem uma função que retorna dois parâmetros:\n",
        "\n",
        "```\n",
        "def funcao(x, y):\n",
        "  return x * y\n",
        "```\n",
        "\n",
        "Assim como o map e o filter, a função reduce recebe dois parâmetros: a função e o iterável."
      ]
    },
    {
      "cell_type": "markdown",
      "metadata": {
        "id": "4-kEk34X4igm"
      },
      "source": [
        "## Vamos utilizar a função reduce() para multiplicar todos os números de uma lista:"
      ]
    },
    {
      "cell_type": "code",
      "metadata": {
        "id": "jrpp1Opz0IoX"
      },
      "source": [
        "from functools import reduce\n",
        "\n",
        "dados = [2, 3, 4, 5, 7, 11, 13, 17, 19, 23, 29]"
      ],
      "execution_count": null,
      "outputs": []
    },
    {
      "cell_type": "markdown",
      "metadata": {
        "id": "ZmZ7J8GG4z35"
      },
      "source": [
        "### Lembrando que para utilizar o reduce() precisamos de uma função que receba dois parâmetros"
      ]
    },
    {
      "cell_type": "code",
      "metadata": {
        "colab": {
          "base_uri": "https://localhost:8080/"
        },
        "id": "AaLR3VWZ4zZv",
        "outputId": "d74210e0-b6a9-44bd-a985-13e8567b4797"
      },
      "source": [
        "from functools import reduce\n",
        "\n",
        "dados = [2, 3, 4, 5, 7, 11, 13, 17, 19, 23, 29]\n",
        "\n",
        "multi = lambda x, y: x * y\n",
        "\n",
        "res = reduce(multi, dados)\n",
        "\n",
        "print(res)"
      ],
      "execution_count": null,
      "outputs": [
        {
          "output_type": "stream",
          "text": [
            "24\n"
          ],
          "name": "stdout"
        }
      ]
    },
    {
      "cell_type": "markdown",
      "metadata": {
        "id": "pQf05pyy5Isl"
      },
      "source": [
        "O reduce é numérico , por isso não precisamos convertê-lo para lista."
      ]
    },
    {
      "cell_type": "markdown",
      "metadata": {
        "id": "8xVB6p8A5VZH"
      },
      "source": [
        "### Mas o que o reduce() faz?\n",
        "ele multiplica todos os valores da lista, por exemplo: 2 * 3 = 6 ->  \n",
        "6 * 4 = 24 ->  \n",
        "24 * 5 = 120 ->  \n",
        "E assim por diante.\n"
      ]
    },
    {
      "cell_type": "code",
      "metadata": {
        "id": "6WdyjZ5r5Hme"
      },
      "source": [
        ""
      ],
      "execution_count": null,
      "outputs": []
    }
  ]
}