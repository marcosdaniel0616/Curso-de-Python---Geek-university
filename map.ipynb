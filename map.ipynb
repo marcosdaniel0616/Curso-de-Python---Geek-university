{
  "nbformat": 4,
  "nbformat_minor": 0,
  "metadata": {
    "colab": {
      "name": "map.ipynb",
      "provenance": [],
      "collapsed_sections": [],
      "authorship_tag": "ABX9TyOFWNL7UzHPsIXBrEjHIMUd",
      "include_colab_link": true
    },
    "kernelspec": {
      "name": "python3",
      "display_name": "Python 3"
    },
    "language_info": {
      "name": "python"
    }
  },
  "cells": [
    {
      "cell_type": "markdown",
      "metadata": {
        "id": "view-in-github",
        "colab_type": "text"
      },
      "source": [
        "<a href=\"https://colab.research.google.com/github/marcosdaniel0616/Curso-de-Python---Geek-university/blob/master/map.ipynb\" target=\"_parent\"><img src=\"https://colab.research.google.com/assets/colab-badge.svg\" alt=\"Open In Colab\"/></a>"
      ]
    },
    {
      "cell_type": "markdown",
      "metadata": {
        "id": "mqNpVw3gZz_-"
      },
      "source": [
        "# Map\n",
        "  \n",
        "Com map, fazemos mapeamento de valores para função."
      ]
    },
    {
      "cell_type": "code",
      "metadata": {
        "colab": {
          "base_uri": "https://localhost:8080/"
        },
        "id": "DCaFe4suZpxC",
        "outputId": "f620b65f-6ea3-48a3-e6e4-dbd047d0dd02"
      },
      "source": [
        "import math\n",
        "\n",
        "def area(raio):\n",
        "  \"\"\"Calcule a área de um círculo com raio 'raio'.\"\"\"\n",
        "  return math.pi * (raio ** 2)\n",
        "\n",
        "print(area(2))\n",
        "print(area(5.3))\n"
      ],
      "execution_count": 3,
      "outputs": [
        {
          "output_type": "stream",
          "text": [
            "12.566370614359172\n",
            "88.24733763933729\n"
          ],
          "name": "stdout"
        }
      ]
    },
    {
      "cell_type": "markdown",
      "metadata": {
        "id": "VbdbrN9davpu"
      },
      "source": [
        "Até agora, nenhuma novidade, tudo certo.  \n",
        "Mas vamos imaginar que nós tivéssemos o seguinte:"
      ]
    },
    {
      "cell_type": "code",
      "metadata": {
        "id": "vatrVJenaXBY"
      },
      "source": [
        "import math\n",
        "\n",
        "def area(raio):\n",
        "  \"\"\"Calcule a área de um círculo com raio 'raio'.\"\"\"\n",
        "  return math.pi * (raio ** 2)\n",
        "\n",
        "\n",
        "raios = [2, 5, 7.1, 0.3, 10, 44]"
      ],
      "execution_count": 7,
      "outputs": []
    },
    {
      "cell_type": "markdown",
      "metadata": {
        "id": "lXLmW3TRbB5I"
      },
      "source": [
        "## Forma comum"
      ]
    },
    {
      "cell_type": "code",
      "metadata": {
        "colab": {
          "base_uri": "https://localhost:8080/"
        },
        "id": "80Ul7MPya5wU",
        "outputId": "cfd6a454-b0db-45a6-d6ab-56e042856b3c"
      },
      "source": [
        "import math\n",
        "\n",
        "def area(raio):\n",
        "  \"\"\"Calcule a área de um círculo com raio 'raio'.\"\"\"\n",
        "  return math.pi * (raio ** 2)\n",
        "\n",
        "raios = [2, 5, 7.1, 0.3, 10, 44]\n",
        "areas = []\n",
        "\n",
        "for r in raios:\n",
        "  areas.append((area(r)))\n",
        "\n",
        "print(areas)"
      ],
      "execution_count": 11,
      "outputs": [
        {
          "output_type": "stream",
          "text": [
            "[12.566370614359172, 78.53981633974483, 158.36768566746147, 0.2827433388230814, 314.1592653589793, 6082.12337734984]\n"
          ],
          "name": "stdout"
        }
      ]
    },
    {
      "cell_type": "markdown",
      "metadata": {
        "id": "MYzXI4AKbhGs"
      },
      "source": [
        "## Forma 2 - Map\n",
        "map é uma função que recebe 2 parâmetros, o primeiro a função, o segundo um iterável.  \n",
        "Retorna um Map Object"
      ]
    },
    {
      "cell_type": "code",
      "metadata": {
        "colab": {
          "base_uri": "https://localhost:8080/"
        },
        "id": "FtPd_lXPbJQK",
        "outputId": "cba06dcc-6bd8-49c1-bf62-a460a928ab19"
      },
      "source": [
        "import math\n",
        "\n",
        "def area(raio):\n",
        "  \"\"\"Calcule a área de um círculo com raio 'raio'.\"\"\"\n",
        "  return math.pi * (raio ** 2)\n",
        "\n",
        "raios = [2, 5, 7.1, 0.3, 10, 44]\n",
        "areas = []\n",
        "\n",
        "areas = map(area, raios)\n",
        "\n",
        "print(areas)\n",
        "print(type(areas))\n",
        "\n",
        "print(list(areas))"
      ],
      "execution_count": 19,
      "outputs": [
        {
          "output_type": "stream",
          "text": [
            "<map object at 0x7f236f71cf90>\n",
            "<class 'map'>\n",
            "[12.566370614359172, 78.53981633974483, 158.36768566746147, 0.2827433388230814, 314.1592653589793, 6082.12337734984]\n"
          ],
          "name": "stdout"
        }
      ]
    },
    {
      "cell_type": "markdown",
      "metadata": {
        "id": "ljsPfckIcm_7"
      },
      "source": [
        "# Parei em 10:30"
      ]
    },
    {
      "cell_type": "code",
      "metadata": {
        "id": "1UuhqRPbbmQ5"
      },
      "source": [
        ""
      ],
      "execution_count": null,
      "outputs": []
    }
  ]
}