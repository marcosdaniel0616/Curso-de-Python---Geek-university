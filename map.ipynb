{
  "nbformat": 4,
  "nbformat_minor": 0,
  "metadata": {
    "colab": {
      "name": "map.ipynb",
      "provenance": [],
      "collapsed_sections": [],
      "authorship_tag": "ABX9TyN4jqf3zw/Yf48GDemA8/gd",
      "include_colab_link": true
    },
    "kernelspec": {
      "name": "python3",
      "display_name": "Python 3"
    },
    "language_info": {
      "name": "python"
    }
  },
  "cells": [
    {
      "cell_type": "markdown",
      "metadata": {
        "id": "view-in-github",
        "colab_type": "text"
      },
      "source": [
        "<a href=\"https://colab.research.google.com/github/marcosdaniel0616/Curso-de-Python---Geek-university/blob/master/map.ipynb\" target=\"_parent\"><img src=\"https://colab.research.google.com/assets/colab-badge.svg\" alt=\"Open In Colab\"/></a>"
      ]
    },
    {
      "cell_type": "markdown",
      "metadata": {
        "id": "APV3zFiiY0FR"
      },
      "source": [
        "# Map\n",
        "\n",
        "Com map fazemos mapeamento de valores para função"
      ]
    },
    {
      "cell_type": "markdown",
      "metadata": {
        "id": "Yd9BnjdzZokc"
      },
      "source": [
        "PS: Não confundir ```map``` com os ```mapas``` que estudamos nas aulas de dicionários."
      ]
    },
    {
      "cell_type": "markdown",
      "metadata": {
        "id": "Km4cx5k5ZyMW"
      },
      "source": [
        "Imagine agora que temos uma função que calcula o raio de um círculo:"
      ]
    },
    {
      "cell_type": "code",
      "metadata": {
        "colab": {
          "base_uri": "https://localhost:8080/"
        },
        "id": "3LQKvq8qXZx5",
        "outputId": "b8479cef-53be-4311-9a5e-fac43ad74a02"
      },
      "source": [
        "import math\n",
        "\n",
        "def area(raio):\n",
        "  \"\"\"Calcula a área de um círculo com o raio 'r'.\"\"\"\n",
        "  return math.pi * (raio ** 2)\n",
        "\n",
        "\n",
        "print(area(2))"
      ],
      "execution_count": null,
      "outputs": [
        {
          "output_type": "stream",
          "text": [
            "12.566370614359172\n"
          ],
          "name": "stdout"
        }
      ]
    },
    {
      "cell_type": "code",
      "metadata": {
        "colab": {
          "base_uri": "https://localhost:8080/"
        },
        "id": "MgyczluuaPff",
        "outputId": "8ce33fcf-9639-4596-941a-dd251b747e7e"
      },
      "source": [
        "import math\n",
        "\n",
        "def area(raio):\n",
        "  \"\"\"Calcula a área de um círculo com o raio 'r'.\"\"\"\n",
        "  return math.pi * (raio ** 2)\n",
        "\n",
        "\n",
        "print(area(5.3))"
      ],
      "execution_count": null,
      "outputs": [
        {
          "output_type": "stream",
          "text": [
            "88.24733763933729\n"
          ],
          "name": "stdout"
        }
      ]
    },
    {
      "cell_type": "markdown",
      "metadata": {
        "id": "1b7A2xhVaukG"
      },
      "source": [
        "Até agora nenhuma novidade, nossa função tá funcionando perfeitamente.\n",
        "\n",
        "mas imagina agora que nós temos uma lista contendo os raios, de vários tipos, por exemplo:"
      ]
    },
    {
      "cell_type": "code",
      "metadata": {
        "id": "K1X-zlBPapAs"
      },
      "source": [
        "raios = [2, 5, 7.1, 0.3, 10, 44]"
      ],
      "execution_count": null,
      "outputs": []
    },
    {
      "cell_type": "markdown",
      "metadata": {
        "id": "OBjjDVTMbAMw"
      },
      "source": [
        "nós poderíamos resolver isso de várias formas.\n",
        "## Forma comum:"
      ]
    },
    {
      "cell_type": "code",
      "metadata": {
        "colab": {
          "base_uri": "https://localhost:8080/"
        },
        "id": "iwqisYVUbE9h",
        "outputId": "071d5278-fc93-4b30-ea76-72e0ccff4f9d"
      },
      "source": [
        "import math\n",
        "\n",
        "def area(raio):\n",
        "  \"\"\"Calcula a área de um círculo com o raio 'r'.\"\"\"\n",
        "  return math.pi * (raio ** 2)\n",
        "\n",
        "areas = []\n",
        "raios = [2, 5, 7.1, 0.3, 10, 44]\n",
        "\n",
        "for raio in raios:\n",
        "  areas.append((area(raio)))\n",
        "\n",
        "print(areas)"
      ],
      "execution_count": null,
      "outputs": [
        {
          "output_type": "stream",
          "text": [
            "[12.566370614359172, 78.53981633974483, 158.36768566746147, 0.2827433388230814, 314.1592653589793, 6082.12337734984]\n"
          ],
          "name": "stdout"
        }
      ]
    },
    {
      "cell_type": "markdown",
      "metadata": {
        "id": "UXLYaUcHbqsF"
      },
      "source": [
        "Agora vamos ver outra forma de resolver isso.\n",
        "## Forma 2 - Utilizando map\n",
        "Map é uma função que recebe dois parâmetros: O primeiro a função, o segundo um iterável."
      ]
    },
    {
      "cell_type": "code",
      "metadata": {
        "colab": {
          "base_uri": "https://localhost:8080/"
        },
        "id": "bvVN4QggbV-G",
        "outputId": "805a9bc8-5921-45a3-e5f0-c8cc535e8b09"
      },
      "source": [
        "import math\n",
        "\n",
        "def area(raio):\n",
        "  \"\"\"Calcula a área de um círculo com o raio 'r'.\"\"\"\n",
        "  return math.pi * (raio ** 2)\n",
        "\n",
        "areas = []\n",
        "raios = [2, 5, 7.1, 0.3, 10, 44]\n",
        "\n",
        "areas = map(area, raios)\n",
        "\n",
        "print(list(areas))"
      ],
      "execution_count": null,
      "outputs": [
        {
          "output_type": "stream",
          "text": [
            "[12.566370614359172, 78.53981633974483, 158.36768566746147, 0.2827433388230814, 314.1592653589793, 6082.12337734984]\n"
          ],
          "name": "stdout"
        }
      ]
    },
    {
      "cell_type": "markdown",
      "metadata": {
        "id": "vq4O_T98cT9n"
      },
      "source": [
        "vamos dissecar o map:\n",
        "```areas = map(area, raios)```. logo após definirmos a variável ```areas``` nós informamos que ela receberia o map: ``` = map( ``` dentro desse map, no primeiro parâmetro informamos a função ```area``` e no segundo parâmetro nós informamos os valores que seriam passados pra essa função ```raios)```.  \n",
        "Agora se pedirmos pra mostrar o tipo de dado que o areas se tornou, com o ```type()``` veremos que essa variável é do tipo map e para mostra-la precisamos de um ```list(areas)```. (ou converter pra tupla)."
      ]
    },
    {
      "cell_type": "markdown",
      "metadata": {
        "id": "IaoCnvxGd2u0"
      },
      "source": [
        "Nós também poderíamos ter feito dessa forma:"
      ]
    },
    {
      "cell_type": "code",
      "metadata": {
        "colab": {
          "base_uri": "https://localhost:8080/"
        },
        "id": "cY_79RM9b5u1",
        "outputId": "a802e135-f693-44dd-9f8f-680c55095744"
      },
      "source": [
        "import math\n",
        "\n",
        "def area(raio):\n",
        "  \"\"\"Calcula a área de um círculo com o raio 'r'.\"\"\"\n",
        "  return math.pi * (raio ** 2)\n",
        "\n",
        "areas = []\n",
        "raios = [2, 5, 7.1, 0.3, 10, 44]\n",
        "\n",
        "print(list(map(area, raios)))"
      ],
      "execution_count": null,
      "outputs": [
        {
          "output_type": "stream",
          "text": [
            "[12.566370614359172, 78.53981633974483, 158.36768566746147, 0.2827433388230814, 314.1592653589793, 6082.12337734984]\n"
          ],
          "name": "stdout"
        }
      ]
    },
    {
      "cell_type": "markdown",
      "metadata": {
        "id": "bUmFE5yfeBsi"
      },
      "source": [
        "dessa forma com apenas uma linha teríamos resolvido o problema."
      ]
    },
    {
      "cell_type": "markdown",
      "metadata": {
        "id": "wNrpH-tveKA5"
      },
      "source": [
        "### Só pra reiterar, o que o map tá fazendo?\n",
        "Ele pega todos os que passamos (no segundo argumento) e passa pra função (no primeiro argumento)."
      ]
    },
    {
      "cell_type": "markdown",
      "metadata": {
        "id": "LQLvLIkDekzY"
      },
      "source": [
        "Comumente a gente não passa uma função comum para o ```map``` normalmente passamos uma expressão ```lambda```. Vamos converter o que fizemos para ```lambda```.\n",
        "## Forma 3 - Map com Lambda"
      ]
    },
    {
      "cell_type": "code",
      "metadata": {
        "colab": {
          "base_uri": "https://localhost:8080/"
        },
        "id": "TTbiSw3Qd9-Q",
        "outputId": "e91c8501-d3d8-4432-fa00-dd616647a9fe"
      },
      "source": [
        "import math\n",
        "\n",
        "raios = [2, 5, 7.1, 0.3, 10, 44]\n",
        "\n",
        "print(list(map(lambda raio: math.pi * (raio ** 2), raios)))"
      ],
      "execution_count": null,
      "outputs": [
        {
          "output_type": "stream",
          "text": [
            "[12.566370614359172, 78.53981633974483, 158.36768566746147, 0.2827433388230814, 314.1592653589793, 6082.12337734984]\n"
          ],
          "name": "stdout"
        }
      ]
    },
    {
      "cell_type": "markdown",
      "metadata": {
        "id": "Hu3pppYsfVUk"
      },
      "source": [
        "Está funcionando exatamente como antes mas com bem menos linhas!  \n",
        "utilizando variáveis tem uma visualização melhor mas dessa forma temos uma grande diminuição de linhas. Ai vai da escolha."
      ]
    },
    {
      "cell_type": "markdown",
      "metadata": {
        "id": "U4ImRvO8f2jC"
      },
      "source": [
        "### OBS: Nós só podemos utilizar o resultado do map uma vez, depois ele é zerado!  \n",
        "Como assim? vamos ver:"
      ]
    },
    {
      "cell_type": "code",
      "metadata": {
        "colab": {
          "base_uri": "https://localhost:8080/"
        },
        "id": "A5VkOizyfQdy",
        "outputId": "f1b54199-4a32-4c2b-97da-d44115dcdbcd"
      },
      "source": [
        "import math\n",
        "\n",
        "def area(raio):\n",
        "  \"\"\"Calcula a área de um círculo com o raio 'r'.\"\"\"\n",
        "  return math.pi * (raio ** 2)\n",
        "\n",
        "areas = []\n",
        "raios = [2, 5, 7.1, 0.3, 10, 44]\n",
        "\n",
        "list(map(area, raios))\n",
        "list(map(area, raios))"
      ],
      "execution_count": null,
      "outputs": [
        {
          "output_type": "execute_result",
          "data": {
            "text/plain": [
              "[12.566370614359172,\n",
              " 78.53981633974483,\n",
              " 158.36768566746147,\n",
              " 0.2827433388230814,\n",
              " 314.1592653589793,\n",
              " 6082.12337734984]"
            ]
          },
          "metadata": {
            "tags": []
          },
          "execution_count": 25
        }
      ]
    },
    {
      "cell_type": "code",
      "metadata": {
        "colab": {
          "base_uri": "https://localhost:8080/"
        },
        "id": "IFMPI1c9g5fo",
        "outputId": "a5bd3d72-00ed-4ac7-c686-35f713fc7308"
      },
      "source": [
        "import math\n",
        "\n",
        "def area(raio):\n",
        "  \"\"\"Calcula a área de um círculo com o raio 'r'.\"\"\"\n",
        "  return math.pi * (raio ** 2)\n",
        "\n",
        "raios = [2, 5, 7.1, 0.3, 10, 44]\n",
        "areas = map(area, raios)\n",
        "\n",
        "for n in areas:\n",
        "  print(n)"
      ],
      "execution_count": null,
      "outputs": [
        {
          "output_type": "stream",
          "text": [
            "12.566370614359172\n",
            "78.53981633974483\n",
            "158.36768566746147\n",
            "0.2827433388230814\n",
            "314.1592653589793\n",
            "6082.12337734984\n"
          ],
          "name": "stdout"
        }
      ]
    },
    {
      "cell_type": "markdown",
      "metadata": {
        "id": "B6eFnhdhgRA0"
      },
      "source": [
        "Note que nós pedimos para o ```list(map())``` ser executado duas vezes mas ele foi executado apenas uma, por que isso? isso ocorre porque após você mostrar o list(map()) esse valor é excluído da memória.\n",
        "#### Ps: com o print esse valor não é excluído:"
      ]
    },
    {
      "cell_type": "code",
      "metadata": {
        "colab": {
          "base_uri": "https://localhost:8080/"
        },
        "id": "HwZVQHX_gEdv",
        "outputId": "f916c821-1854-44c2-da11-7bda7ffa65b2"
      },
      "source": [
        "import math\n",
        "\n",
        "def area(raio):\n",
        "  \"\"\"Calcula a área de um círculo com o raio 'r'.\"\"\"\n",
        "  return math.pi * (raio ** 2)\n",
        "\n",
        "areas = []\n",
        "raios = [2, 5, 7.1, 0.3, 10, 44]\n",
        "\n",
        "print(list(map(area, raios)))\n",
        "print(list(map(area, raios)))"
      ],
      "execution_count": null,
      "outputs": [
        {
          "output_type": "stream",
          "text": [
            "[12.566370614359172, 78.53981633974483, 158.36768566746147, 0.2827433388230814, 314.1592653589793, 6082.12337734984]\n",
            "[12.566370614359172, 78.53981633974483, 158.36768566746147, 0.2827433388230814, 314.1592653589793, 6082.12337734984]\n"
          ],
          "name": "stdout"
        }
      ]
    },
    {
      "cell_type": "markdown",
      "metadata": {
        "id": "rjk4JXyoUKJ3"
      },
      "source": [
        "## Mais um exemplo"
      ]
    },
    {
      "cell_type": "markdown",
      "metadata": {
        "id": "RPut2BKGUNZD"
      },
      "source": [
        "Vamos imaginar que temos uma lista de cidades e as temperaturas em graus célsius"
      ]
    },
    {
      "cell_type": "code",
      "metadata": {
        "id": "n2MwE6wVgrbL",
        "colab": {
          "base_uri": "https://localhost:8080/"
        },
        "outputId": "9f0338e4-3da2-45c4-d36d-457e92c4aa5c"
      },
      "source": [
        "cidades = [('Berlim', 29), ('Cairo', 36), ('Buenos Aires', 19), \n",
        "           ('Los Angeles', 26), ('Tokio', 27), ('Nova Iorque', 28),\n",
        "           ('Londres', 22)]\n"
      ],
      "execution_count": 1,
      "outputs": [
        {
          "output_type": "stream",
          "text": [
            "[('Berlim', 29), ('Cairo', 36), ('Buenos Aires', 19), ('Los Angeles', 26), ('Tokio', 27), ('Nova Iorque', 28), ('Londres', 22)]\n"
          ],
          "name": "stdout"
        }
      ]
    },
    {
      "cell_type": "markdown",
      "metadata": {
        "id": "lZOdNpbcXHhc"
      },
      "source": [
        "Essas são as nossas cidades e temperaturas. Agora imagine que alguém pediu para mostrar-mos essas cidades mas com grau em Fahrenheit.\n",
        "Fórmula: ```fahrenheit = 9/5 * celsius + 32```\n"
      ]
    },
    {
      "cell_type": "code",
      "metadata": {
        "colab": {
          "base_uri": "https://localhost:8080/"
        },
        "id": "uf6ELUf_XCP5",
        "outputId": "55cb11fb-03de-43cd-d6dd-96948c1db9b2"
      },
      "source": [
        "cidades = [('Berlim', 29), ('Cairo', 36), ('Buenos Aires', 19), \n",
        "           ('Los Angeles', 26), ('Tokio', 27), ('Nova Iorque', 28),\n",
        "           ('Londres', 22)]\n",
        "\n",
        "c_para_f = lambda dado: (dado[0], 9/5 * dado[1] + 32)\n",
        "\n",
        "print(list(map(c_para_f, cidades)))"
      ],
      "execution_count": 16,
      "outputs": [
        {
          "output_type": "stream",
          "text": [
            "[('Berlim', 84.2), ('Cairo', 96.8), ('Buenos Aires', 66.2), ('Los Angeles', 78.80000000000001), ('Tokio', 80.6), ('Nova Iorque', 82.4), ('Londres', 71.6)]\n"
          ],
          "name": "stdout"
        }
      ]
    },
    {
      "cell_type": "code",
      "metadata": {
        "id": "xDg5qQ1kYULr"
      },
      "source": [
        ""
      ],
      "execution_count": null,
      "outputs": []
    }
  ]
}