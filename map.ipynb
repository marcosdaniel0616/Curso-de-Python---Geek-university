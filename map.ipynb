{
  "nbformat": 4,
  "nbformat_minor": 0,
  "metadata": {
    "colab": {
      "name": "map.ipynb",
      "provenance": [],
      "collapsed_sections": [],
      "authorship_tag": "ABX9TyNCiQDW9cen13L+Tmj2D/Y+",
      "include_colab_link": true
    },
    "kernelspec": {
      "name": "python3",
      "display_name": "Python 3"
    },
    "language_info": {
      "name": "python"
    }
  },
  "cells": [
    {
      "cell_type": "markdown",
      "metadata": {
        "id": "view-in-github",
        "colab_type": "text"
      },
      "source": [
        "<a href=\"https://colab.research.google.com/github/marcosdaniel0616/Curso-de-Python---Geek-university/blob/master/map.ipynb\" target=\"_parent\"><img src=\"https://colab.research.google.com/assets/colab-badge.svg\" alt=\"Open In Colab\"/></a>"
      ]
    },
    {
      "cell_type": "markdown",
      "metadata": {
        "id": "mqNpVw3gZz_-"
      },
      "source": [
        "# Map\n",
        "  \n",
        "Com map, fazemos mapeamento de valores para função."
      ]
    },
    {
      "cell_type": "code",
      "metadata": {
        "colab": {
          "base_uri": "https://localhost:8080/"
        },
        "id": "DCaFe4suZpxC",
        "outputId": "f620b65f-6ea3-48a3-e6e4-dbd047d0dd02"
      },
      "source": [
        "import math\n",
        "\n",
        "def area(raio):\n",
        "  \"\"\"Calcule a área de um círculo com raio 'raio'.\"\"\"\n",
        "  return math.pi * (raio ** 2)\n",
        "\n",
        "print(area(2))\n",
        "print(area(5.3))\n"
      ],
      "execution_count": null,
      "outputs": [
        {
          "output_type": "stream",
          "text": [
            "12.566370614359172\n",
            "88.24733763933729\n"
          ],
          "name": "stdout"
        }
      ]
    },
    {
      "cell_type": "markdown",
      "metadata": {
        "id": "VbdbrN9davpu"
      },
      "source": [
        "Até agora, nenhuma novidade, tudo certo.  \n",
        "Mas vamos imaginar que nós tivéssemos o seguinte:"
      ]
    },
    {
      "cell_type": "code",
      "metadata": {
        "id": "vatrVJenaXBY"
      },
      "source": [
        "import math\n",
        "\n",
        "def area(raio):\n",
        "  \"\"\"Calcule a área de um círculo com raio 'raio'.\"\"\"\n",
        "  return math.pi * (raio ** 2)\n",
        "\n",
        "\n",
        "raios = [2, 5, 7.1, 0.3, 10, 44]"
      ],
      "execution_count": null,
      "outputs": []
    },
    {
      "cell_type": "markdown",
      "metadata": {
        "id": "lXLmW3TRbB5I"
      },
      "source": [
        "## Forma comum"
      ]
    },
    {
      "cell_type": "code",
      "metadata": {
        "colab": {
          "base_uri": "https://localhost:8080/"
        },
        "id": "80Ul7MPya5wU",
        "outputId": "cfd6a454-b0db-45a6-d6ab-56e042856b3c"
      },
      "source": [
        "import math\n",
        "\n",
        "def area(raio):\n",
        "  \"\"\"Calcule a área de um círculo com raio 'raio'.\"\"\"\n",
        "  return math.pi * (raio ** 2)\n",
        "\n",
        "raios = [2, 5, 7.1, 0.3, 10, 44]\n",
        "areas = []\n",
        "\n",
        "for r in raios:\n",
        "  areas.append((area(r)))\n",
        "\n",
        "print(areas)"
      ],
      "execution_count": null,
      "outputs": [
        {
          "output_type": "stream",
          "text": [
            "[12.566370614359172, 78.53981633974483, 158.36768566746147, 0.2827433388230814, 314.1592653589793, 6082.12337734984]\n"
          ],
          "name": "stdout"
        }
      ]
    },
    {
      "cell_type": "markdown",
      "metadata": {
        "id": "MYzXI4AKbhGs"
      },
      "source": [
        "## Forma 2 - Map\n",
        "map é uma função que recebe 2 parâmetros, o primeiro a função, o segundo um iterável.  \n",
        "Retorna um Map Object"
      ]
    },
    {
      "cell_type": "code",
      "metadata": {
        "colab": {
          "base_uri": "https://localhost:8080/"
        },
        "id": "FtPd_lXPbJQK",
        "outputId": "cba06dcc-6bd8-49c1-bf62-a460a928ab19"
      },
      "source": [
        "import math\n",
        "\n",
        "def area(raio):\n",
        "  \"\"\"Calcule a área de um círculo com raio 'raio'.\"\"\"\n",
        "  return math.pi * (raio ** 2)\n",
        "\n",
        "raios = [2, 5, 7.1, 0.3, 10, 44]\n",
        "areas = []\n",
        "\n",
        "areas = map(area, raios)\n",
        "\n",
        "print(areas)\n",
        "print(type(areas))\n",
        "\n",
        "print(list(areas))"
      ],
      "execution_count": null,
      "outputs": [
        {
          "output_type": "stream",
          "text": [
            "<map object at 0x7f236f71cf90>\n",
            "<class 'map'>\n",
            "[12.566370614359172, 78.53981633974483, 158.36768566746147, 0.2827433388230814, 314.1592653589793, 6082.12337734984]\n"
          ],
          "name": "stdout"
        }
      ]
    },
    {
      "cell_type": "markdown",
      "metadata": {
        "id": "MHOX79_ivyx2"
      },
      "source": [
        "## Forma 3 - Map com Lambda"
      ]
    },
    {
      "cell_type": "code",
      "metadata": {
        "id": "1UuhqRPbbmQ5",
        "colab": {
          "base_uri": "https://localhost:8080/"
        },
        "outputId": "9ccbe97b-bdc9-4ce5-b2b4-797718cbd319"
      },
      "source": [
        "import math\n",
        "\n",
        "raios = [2, 5, 7.1, 0.3, 10, 44]\n",
        "areas = []\n",
        "\n",
        "print(list(map(lambda r: math.pi * (r ** 2), raios)))"
      ],
      "execution_count": 3,
      "outputs": [
        {
          "output_type": "stream",
          "text": [
            "[12.566370614359172, 78.53981633974483, 158.36768566746147, 0.2827433388230814, 314.1592653589793, 6082.12337734984]\n"
          ],
          "name": "stdout"
        }
      ]
    },
    {
      "cell_type": "markdown",
      "metadata": {
        "id": "kcUHWeBMw3hy"
      },
      "source": [
        "O Map pode ser executado apenas uma vez, por exempo:"
      ]
    },
    {
      "cell_type": "code",
      "metadata": {
        "colab": {
          "base_uri": "https://localhost:8080/"
        },
        "id": "Js-YyZLowDoa",
        "outputId": "54d274fc-8c04-48eb-e164-6b1fc9f43951"
      },
      "source": [
        "import math\n",
        "\n",
        "def area(r):\n",
        "  return math.pi * (r ** 2)\n",
        "\n",
        "raios = [2, 4, 3.45]\n",
        "\n",
        "areas = map(area, raios)\n",
        "areas"
      ],
      "execution_count": 9,
      "outputs": [
        {
          "output_type": "execute_result",
          "data": {
            "text/plain": [
              "<map at 0x7fecc5bc3bd0>"
            ]
          },
          "metadata": {
            "tags": []
          },
          "execution_count": 9
        }
      ]
    },
    {
      "cell_type": "markdown",
      "metadata": {
        "id": "xBnR7PR-xQU_"
      },
      "source": [
        "Agora execute duas vezes o código abaixo"
      ]
    },
    {
      "cell_type": "code",
      "metadata": {
        "colab": {
          "base_uri": "https://localhost:8080/"
        },
        "id": "SslJpnYrxHod",
        "outputId": "d9493cb1-90dd-4d8d-e5c7-722eb0d4a481"
      },
      "source": [
        "list(areas)"
      ],
      "execution_count": 11,
      "outputs": [
        {
          "output_type": "execute_result",
          "data": {
            "text/plain": [
              "[]"
            ]
          },
          "metadata": {
            "tags": []
          },
          "execution_count": 11
        }
      ]
    },
    {
      "cell_type": "markdown",
      "metadata": {
        "id": "3LCnpei7xWnR"
      },
      "source": [
        "**OBS**: Note que após a primeira execução, se tentarmos executar denovo o valor estará zerado."
      ]
    },
    {
      "cell_type": "markdown",
      "metadata": {
        "id": "Ki2VM30dx--q"
      },
      "source": [
        "## Para fixar - Map\n",
        "### Temos dados iteráveis, ex:  \n"
      ]
    },
    {
      "cell_type": "code",
      "metadata": {
        "id": "4Gai565PxUf8"
      },
      "source": [
        "# dados: a1, a2, ..., an  "
      ],
      "execution_count": null,
      "outputs": []
    },
    {
      "cell_type": "markdown",
      "metadata": {
        "id": "ntePSGKEywYa"
      },
      "source": [
        "## Temos uma função, exemplo:"
      ]
    },
    {
      "cell_type": "code",
      "metadata": {
        "id": "Fxu7X_YUywB6"
      },
      "source": [
        "# função: f(x)"
      ],
      "execution_count": 12,
      "outputs": []
    },
    {
      "cell_type": "markdown",
      "metadata": {
        "id": "guXmq3_FzRg0"
      },
      "source": [
        "Utilizamos a função map(f, dados) onde map irá 'mapear' cada elemento do dado e aplicar a função, ex:"
      ]
    },
    {
      "cell_type": "code",
      "metadata": {
        "id": "6A-FNMDFzQb6"
      },
      "source": [
        "# O Map Object: f(a1), f(a2), f(...), f(an)"
      ],
      "execution_count": 13,
      "outputs": []
    },
    {
      "cell_type": "markdown",
      "metadata": {
        "id": "H5mqrtpYzkUB"
      },
      "source": [
        "## Mais um exemplo"
      ]
    },
    {
      "cell_type": "code",
      "metadata": {
        "colab": {
          "base_uri": "https://localhost:8080/"
        },
        "id": "4KDg4Y2BzhbL",
        "outputId": "76a48ea7-828a-4c79-9d44-9a700c31c177"
      },
      "source": [
        "cidades = [('Berlim', 29), ('Cairo', 36), ('Buenos Aires', 19), \n",
        "           ('Los Angeles', 26), ('Tokio', 27), ('Nova York', 28),\n",
        "           ('Londres', 22)] # Nome da cidade , Graus Celsius\n",
        "\n",
        "print(cidades)"
      ],
      "execution_count": 20,
      "outputs": [
        {
          "output_type": "stream",
          "text": [
            "[('Berlim', 29), ('Cairo', 36), ('Buenos Aires', 19), ('Los Angeles', 26), ('Tokio', 27), ('Nova York', 28), ('Londres', 22)]\n"
          ],
          "name": "stdout"
        }
      ]
    },
    {
      "cell_type": "markdown",
      "metadata": {
        "id": "EWwkAvlE0Pfk"
      },
      "source": [
        "Por algum motivo, alguém pediu para aplicarmos os graus em Fahrenheit em vez de Celsius.\n",
        "\n",
        "*Fórmula: f = 9/5 * c + 32*"
      ]
    },
    {
      "cell_type": "markdown",
      "metadata": {
        "id": "e61Ea1-80l_S"
      },
      "source": [
        "Vamos criar uma lambda para resolver isso\n",
        "### Lambda"
      ]
    },
    {
      "cell_type": "code",
      "metadata": {
        "id": "KioBeqJA0HqP"
      },
      "source": [
        "c_para_f = lambda dado: (dado[0], (9/5 * dado[1] + 32))"
      ],
      "execution_count": 22,
      "outputs": []
    },
    {
      "cell_type": "markdown",
      "metadata": {
        "id": "9cwV0_EH1FvR"
      },
      "source": [
        "Vamos imprimir já convertendo para map"
      ]
    },
    {
      "cell_type": "code",
      "metadata": {
        "colab": {
          "base_uri": "https://localhost:8080/"
        },
        "id": "5cBWmSxO03Eg",
        "outputId": "90d49a38-a235-4199-b76a-583b6b69a498"
      },
      "source": [
        "print(list(map(c_para_f, cidades)))"
      ],
      "execution_count": 24,
      "outputs": [
        {
          "output_type": "stream",
          "text": [
            "[('Berlim', 84.2), ('Cairo', 96.8), ('Buenos Aires', 66.2), ('Los Angeles', 78.80000000000001), ('Tokio', 80.6), ('Nova York', 82.4), ('Londres', 71.6)]\n"
          ],
          "name": "stdout"
        }
      ]
    },
    {
      "cell_type": "code",
      "metadata": {
        "id": "xdX4j73X1Nd2"
      },
      "source": [
        ""
      ],
      "execution_count": null,
      "outputs": []
    }
  ]
}