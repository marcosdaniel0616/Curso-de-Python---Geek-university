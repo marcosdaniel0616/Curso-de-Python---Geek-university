{
  "nbformat": 4,
  "nbformat_minor": 0,
  "metadata": {
    "colab": {
      "name": "funcoes_com_parametro_padrao.ipynb",
      "provenance": [],
      "collapsed_sections": [],
      "authorship_tag": "ABX9TyP1kf+n0Em/6Mi+nvbHOu6h",
      "include_colab_link": true
    },
    "kernelspec": {
      "name": "python3",
      "display_name": "Python 3"
    },
    "language_info": {
      "name": "python"
    }
  },
  "cells": [
    {
      "cell_type": "markdown",
      "metadata": {
        "id": "view-in-github",
        "colab_type": "text"
      },
      "source": [
        "<a href=\"https://colab.research.google.com/github/marcosdaniel0616/Curso-de-Python---Geek-university/blob/master/funcoes_com_parametro_padrao.ipynb\" target=\"_parent\"><img src=\"https://colab.research.google.com/assets/colab-badge.svg\" alt=\"Open In Colab\"/></a>"
      ]
    },
    {
      "cell_type": "markdown",
      "metadata": {
        "id": "-zgaJP6DVrvB"
      },
      "source": [
        "# Funções com Parâmetro Padrão (Default Paramters)\n",
        "- Funções onde a passagem de parâmetro seja opcional;"
      ]
    },
    {
      "cell_type": "markdown",
      "metadata": {
        "id": "1Tyk_FAJWjPK"
      },
      "source": [
        "## Exemplo onde a passagem de parâmetro seja opcional:"
      ]
    },
    {
      "cell_type": "code",
      "metadata": {
        "colab": {
          "base_uri": "https://localhost:8080/"
        },
        "id": "59_MrUwWVm7N",
        "outputId": "13ce9543-ccdc-45ea-b6b1-b64b990e66b8"
      },
      "source": [
        "print('Geek University')\n",
        "\n",
        "print()"
      ],
      "execution_count": null,
      "outputs": [
        {
          "output_type": "stream",
          "text": [
            "Geek University\n",
            "\n"
          ],
          "name": "stdout"
        }
      ]
    },
    {
      "cell_type": "markdown",
      "metadata": {
        "id": "GxfwZ3qnV9Sc"
      },
      "source": [
        "Note que a função ```print()``` tem parâmetro opcional mas não retorna nada, caso nenhuma entrada seja informada. "
      ]
    },
    {
      "cell_type": "markdown",
      "metadata": {
        "id": "F-A04jXwXNxD"
      },
      "source": [
        "## Exemplo de função com parãmetro obrigatória:"
      ]
    },
    {
      "cell_type": "code",
      "metadata": {
        "colab": {
          "base_uri": "https://localhost:8080/",
          "height": 214
        },
        "id": "MjrDpwABV5NY",
        "outputId": "0fb4b8c1-3b01-4d72-b485-f15d9a5b6333"
      },
      "source": [
        "def quadrado(numero):\n",
        "  return numero ** 2\n",
        "\n",
        "\n",
        "print(quadrado(3))\n",
        "print(quadrado())"
      ],
      "execution_count": null,
      "outputs": [
        {
          "output_type": "stream",
          "text": [
            "9\n"
          ],
          "name": "stdout"
        },
        {
          "output_type": "error",
          "ename": "TypeError",
          "evalue": "ignored",
          "traceback": [
            "\u001b[0;31m---------------------------------------------------------------------------\u001b[0m",
            "\u001b[0;31mTypeError\u001b[0m                                 Traceback (most recent call last)",
            "\u001b[0;32m<ipython-input-3-b049990d87e4>\u001b[0m in \u001b[0;36m<module>\u001b[0;34m()\u001b[0m\n\u001b[1;32m      4\u001b[0m \u001b[0;34m\u001b[0m\u001b[0m\n\u001b[1;32m      5\u001b[0m \u001b[0mprint\u001b[0m\u001b[0;34m(\u001b[0m\u001b[0mquadrado\u001b[0m\u001b[0;34m(\u001b[0m\u001b[0;36m3\u001b[0m\u001b[0;34m)\u001b[0m\u001b[0;34m)\u001b[0m\u001b[0;34m\u001b[0m\u001b[0;34m\u001b[0m\u001b[0m\n\u001b[0;32m----> 6\u001b[0;31m \u001b[0mprint\u001b[0m\u001b[0;34m(\u001b[0m\u001b[0mquadrado\u001b[0m\u001b[0;34m(\u001b[0m\u001b[0;34m)\u001b[0m\u001b[0;34m)\u001b[0m\u001b[0;34m\u001b[0m\u001b[0;34m\u001b[0m\u001b[0m\n\u001b[0m",
            "\u001b[0;31mTypeError\u001b[0m: quadrado() missing 1 required positional argument: 'numero'"
          ]
        }
      ]
    },
    {
      "cell_type": "markdown",
      "metadata": {
        "id": "nWCAyorqXRBk"
      },
      "source": [
        "Por eu não ter passado argumentos para a segunda chamada da função, obtive um TypeError.\n",
        "  \n",
        "---"
      ]
    },
    {
      "cell_type": "code",
      "metadata": {
        "colab": {
          "base_uri": "https://localhost:8080/"
        },
        "id": "-ZWG1BYkXIsr",
        "outputId": "1688c546-4ea2-4841-9aae-fad944868a60"
      },
      "source": [
        "def exponencial(numero, potencia):\n",
        "  return numero ** potencia\n",
        "\n",
        "\n",
        "print(exponencial(2, 3))\n",
        "print(exponencial(3, 2))"
      ],
      "execution_count": null,
      "outputs": [
        {
          "output_type": "stream",
          "text": [
            "8\n",
            "9\n"
          ],
          "name": "stdout"
        }
      ]
    },
    {
      "cell_type": "markdown",
      "metadata": {
        "id": "47dJAFktYSiS"
      },
      "source": [
        "Imagine que caso o usuário não informe o valor da potência, por padrão o número seja elevado ao quadrado?  \n",
        "Mas também permitindo-o a escolher o valor da potência, caso queira."
      ]
    },
    {
      "cell_type": "code",
      "metadata": {
        "colab": {
          "base_uri": "https://localhost:8080/"
        },
        "id": "3Q3iz5oWXooc",
        "outputId": "dd231b0f-fa72-45f3-9f2c-3133ed826fc9"
      },
      "source": [
        "def exponencial(numero, potencia=2):\n",
        "  return numero ** potencia\n",
        "\n",
        "\n",
        "print(exponencial(2, 3))\n",
        "print(exponencial(3))"
      ],
      "execution_count": null,
      "outputs": [
        {
          "output_type": "stream",
          "text": [
            "8\n",
            "9\n"
          ],
          "name": "stdout"
        }
      ]
    },
    {
      "cell_type": "markdown",
      "metadata": {
        "id": "t9qoGwgxY-F9"
      },
      "source": [
        "Dessa forma, caso o usuário informe apenas um valor, o valor da potência por padrão será 2.  \n",
        "Para manter um argumento como padrão para o parâmetro devemos fazer:  \n",
        "```def nome_da_funcao(parametro=valor_padrao):```  \n",
        "ou nesse caso ```def exponencial(numero, potencia=2):```, com isso o valor padrão do parâmetro potência será 2."
      ]
    },
    {
      "cell_type": "markdown",
      "metadata": {
        "id": "quXo7CEHWFt9"
      },
      "source": [
        "Mas caso eu quisesse que os dois valores se tornassem opcionais, isso também é possível, veja:"
      ]
    },
    {
      "cell_type": "code",
      "metadata": {
        "id": "wPRs-JgZYpsB",
        "colab": {
          "base_uri": "https://localhost:8080/"
        },
        "outputId": "3cf54e24-7886-495b-aa82-3f3334f35e54"
      },
      "source": [
        "def exponencial(numero=4, potencia=2):\n",
        "  return numero ** potencia\n",
        "\n",
        "\n",
        "print(exponencial())"
      ],
      "execution_count": null,
      "outputs": [
        {
          "output_type": "stream",
          "text": [
            "16\n"
          ],
          "name": "stdout"
        }
      ]
    },
    {
      "cell_type": "markdown",
      "metadata": {
        "id": "2mQonMagWXCd"
      },
      "source": [
        "Perceba que não informei nenhum parâmetro, e ainda assim a função foi executada sem erros, pois os dois parâmetros receberam argumentos padrão.\n",
        "\n",
        "---"
      ]
    },
    {
      "cell_type": "markdown",
      "metadata": {
        "id": "L2T90DM4XN1h"
      },
      "source": [
        "### OBS: Em funções, os parâmetros com valores default (padrão) DEVEM OBRIGATORIAMENTE estar ao final da declaração"
      ]
    },
    {
      "cell_type": "code",
      "metadata": {
        "colab": {
          "base_uri": "https://localhost:8080/",
          "height": 129
        },
        "id": "Lwot-XQjWTSX",
        "outputId": "084b957a-0529-485c-bd18-583ef513293a"
      },
      "source": [
        "def teste(num=2, potencia):\n",
        "  return num ** potencia\n",
        "\n",
        "\n",
        "print(teste(2, 3))"
      ],
      "execution_count": null,
      "outputs": [
        {
          "output_type": "error",
          "ename": "SyntaxError",
          "evalue": "ignored",
          "traceback": [
            "\u001b[0;36m  File \u001b[0;32m\"<ipython-input-3-232437ccaf8a>\"\u001b[0;36m, line \u001b[0;32m1\u001b[0m\n\u001b[0;31m    def teste(num=2, potencia):\u001b[0m\n\u001b[0m             ^\u001b[0m\n\u001b[0;31mSyntaxError\u001b[0m\u001b[0;31m:\u001b[0m non-default argument follows default argument\n"
          ]
        }
      ]
    },
    {
      "cell_type": "markdown",
      "metadata": {
        "id": "nwS_WVIkXiYM"
      },
      "source": [
        "O erro deve-se ao fato do parâmetro com o valor padrão não estar ao final da declaração"
      ]
    },
    {
      "cell_type": "markdown",
      "metadata": {
        "id": "YXYG1R40X89-"
      },
      "source": [
        "## Outros exemplos"
      ]
    },
    {
      "cell_type": "code",
      "metadata": {
        "colab": {
          "base_uri": "https://localhost:8080/"
        },
        "id": "fIwrJgJlXht0",
        "outputId": "943ed031-3ab2-499e-b5fa-09d2389d1d13"
      },
      "source": [
        "# Código correto\n",
        "def soma(num1, num2):\n",
        "  return num1 + num2\n",
        "\n",
        "\n",
        "print(soma(4, 3))"
      ],
      "execution_count": null,
      "outputs": [
        {
          "output_type": "stream",
          "text": [
            "7\n"
          ],
          "name": "stdout"
        }
      ]
    },
    {
      "cell_type": "code",
      "metadata": {
        "colab": {
          "base_uri": "https://localhost:8080/",
          "height": 197
        },
        "id": "06MVIcZ5YDxQ",
        "outputId": "75fd9f35-6e06-4582-ae6b-cda8c22a3973"
      },
      "source": [
        "# TypeError\n",
        "def soma(num1, num2):\n",
        "  return num1 + num2\n",
        "\n",
        "\n",
        "print(soma(4)) "
      ],
      "execution_count": null,
      "outputs": [
        {
          "output_type": "error",
          "ename": "TypeError",
          "evalue": "ignored",
          "traceback": [
            "\u001b[0;31m---------------------------------------------------------------------------\u001b[0m",
            "\u001b[0;31mTypeError\u001b[0m                                 Traceback (most recent call last)",
            "\u001b[0;32m<ipython-input-7-df309a96d01b>\u001b[0m in \u001b[0;36m<module>\u001b[0;34m()\u001b[0m\n\u001b[1;32m      4\u001b[0m \u001b[0;34m\u001b[0m\u001b[0m\n\u001b[1;32m      5\u001b[0m \u001b[0;34m\u001b[0m\u001b[0m\n\u001b[0;32m----> 6\u001b[0;31m \u001b[0mprint\u001b[0m\u001b[0;34m(\u001b[0m\u001b[0msoma\u001b[0m\u001b[0;34m(\u001b[0m\u001b[0;36m4\u001b[0m\u001b[0;34m)\u001b[0m\u001b[0;34m)\u001b[0m\u001b[0;34m\u001b[0m\u001b[0;34m\u001b[0m\u001b[0m\n\u001b[0m",
            "\u001b[0;31mTypeError\u001b[0m: soma() missing 1 required positional argument: 'num2'"
          ]
        }
      ]
    },
    {
      "cell_type": "code",
      "metadata": {
        "id": "3QAcp8xmYMBA",
        "colab": {
          "base_uri": "https://localhost:8080/",
          "height": 197
        },
        "outputId": "6b3e293c-9669-445d-93f8-a9a941077f89"
      },
      "source": [
        "# TypeError\n",
        "def soma(num1, num2):\n",
        "  return num1 + num2\n",
        "\n",
        "\n",
        "print(soma()) "
      ],
      "execution_count": null,
      "outputs": [
        {
          "output_type": "error",
          "ename": "TypeError",
          "evalue": "ignored",
          "traceback": [
            "\u001b[0;31m---------------------------------------------------------------------------\u001b[0m",
            "\u001b[0;31mTypeError\u001b[0m                                 Traceback (most recent call last)",
            "\u001b[0;32m<ipython-input-8-662ad9454e4e>\u001b[0m in \u001b[0;36m<module>\u001b[0;34m()\u001b[0m\n\u001b[1;32m      4\u001b[0m \u001b[0;34m\u001b[0m\u001b[0m\n\u001b[1;32m      5\u001b[0m \u001b[0;34m\u001b[0m\u001b[0m\n\u001b[0;32m----> 6\u001b[0;31m \u001b[0mprint\u001b[0m\u001b[0;34m(\u001b[0m\u001b[0msoma\u001b[0m\u001b[0;34m(\u001b[0m\u001b[0;34m)\u001b[0m\u001b[0;34m)\u001b[0m\u001b[0;34m\u001b[0m\u001b[0;34m\u001b[0m\u001b[0m\n\u001b[0m",
            "\u001b[0;31mTypeError\u001b[0m: soma() missing 2 required positional arguments: 'num1' and 'num2'"
          ]
        }
      ]
    },
    {
      "cell_type": "markdown",
      "metadata": {
        "id": "VPC4z1SitCwv"
      },
      "source": [
        "## Exemplo mais complexo"
      ]
    },
    {
      "cell_type": "code",
      "metadata": {
        "id": "xeVDrwVaYPtA",
        "colab": {
          "base_uri": "https://localhost:8080/"
        },
        "outputId": "fc5555e5-2b7c-4fd4-d94e-e7b21bdd3ba3"
      },
      "source": [
        "def mostra_informacao(nome='Geek', instrutor=False):\n",
        "  if nome == 'Geek' and instrutor:\n",
        "    return 'Bem-vindo instrutor Geek'\n",
        "  elif nome == 'Geek':\n",
        "    return 'Eu pensei que você era o instrutor'\n",
        "  else:\n",
        "    return f'Olá {nome}'\n",
        "\n",
        "\n",
        "print(mostra_informacao())\n"
      ],
      "execution_count": null,
      "outputs": [
        {
          "output_type": "stream",
          "text": [
            "Eu pensei que você era o instrutor\n"
          ],
          "name": "stdout"
        }
      ]
    },
    {
      "cell_type": "markdown",
      "metadata": {
        "id": "yXSOSRuntwSq"
      },
      "source": [
        "Como eu não informei os argumentos nome recebeu Geek e instrutor recebeu false, logo foi executado o elif com o retorno de:  \n",
        "```return 'Eu pensei que você era o instrutor'```\n",
        "\n"
      ]
    },
    {
      "cell_type": "code",
      "metadata": {
        "colab": {
          "base_uri": "https://localhost:8080/"
        },
        "id": "fHqV8-9ctuBJ",
        "outputId": "0666f244-866b-4103-f25f-5590270670d4"
      },
      "source": [
        "def mostra_informacao(nome='Geek', instrutor='false'):\n",
        "  if nome == 'Geek' and instrutor:\n",
        "    return 'Bem-vindo instrutor Geek'\n",
        "  elif nome == 'Geek':\n",
        "    return 'Eu pensei que você era o instrutor'\n",
        "  else:\n",
        "    return f'Olá {nome}'\n",
        "\n",
        "\n",
        "print(mostra_informacao(instrutor=True))"
      ],
      "execution_count": null,
      "outputs": [
        {
          "output_type": "stream",
          "text": [
            "Bem-vindo instrutor Geek\n"
          ],
          "name": "stdout"
        }
      ]
    },
    {
      "cell_type": "markdown",
      "metadata": {
        "id": "bZwPQCTEudl-"
      },
      "source": [
        "Informei como argumento ```intrutor=True``` logo, o ```if``` foi executado informando o seguinte retorno:  \n",
        "```return: Bem-vindo instrutor Geek```"
      ]
    },
    {
      "cell_type": "code",
      "metadata": {
        "colab": {
          "base_uri": "https://localhost:8080/"
        },
        "id": "R1LKbC01ubAg",
        "outputId": "ab6ded0a-1035-4d7a-decf-d5ae952d045a"
      },
      "source": [
        "def mostra_informacao(nome='Geek', instrutor='false'):\n",
        "  if nome == 'Geek' and instrutor:\n",
        "    return 'Bem-vindo instrutor Geek'\n",
        "  elif nome == 'Geek':\n",
        "    return 'Eu pensei que você era o instrutor'\n",
        "  else:\n",
        "    return f'Olá {nome}'\n",
        "\n",
        "\n",
        "print(mostra_informacao('Ozzy'))"
      ],
      "execution_count": null,
      "outputs": [
        {
          "output_type": "stream",
          "text": [
            "Olá Ozzy\n"
          ],
          "name": "stdout"
        }
      ]
    },
    {
      "cell_type": "markdown",
      "metadata": {
        "id": "KhYZa6CHu1aU"
      },
      "source": [
        "Nesse terceiro exemplo, o parâmetro nome recebeu o argumento ```Ozzy``` logo então foi executado o else com o seguinte retorno.  \n",
        "```return f'Olá {nome}```"
      ]
    },
    {
      "cell_type": "markdown",
      "metadata": {
        "id": "9higrEISCHYE"
      },
      "source": [
        "## Por quê utilizar parâmetros com o valor default?\n",
        "- Nos permite ser mais flexíveis nas funções;\n",
        "- Evita erros com parâmetros incorretos;\n",
        "- Nos permite trabalhar com exemplos mais legíveis de código;"
      ]
    },
    {
      "cell_type": "markdown",
      "metadata": {
        "id": "XBRjSzPrCeZ1"
      },
      "source": [
        "## Quais tipos de dados podemos utilizar como valores Default para parâmetros?\n",
        "- Qualquer tipo de dado:\n",
        "  - Números, strings, floats, booleanos, listas, tuplas, dicionários, funções, etc..."
      ]
    },
    {
      "cell_type": "markdown",
      "metadata": {
        "id": "q-Uh6EfKDJn-"
      },
      "source": [
        "## Até funções como parâmetro?\n",
        "Por estranho que possa parecer, podemos sim, passar até mesmo outras funções como parâmetros.  \n",
        "Vamos ver alguns exemplos:"
      ]
    },
    {
      "cell_type": "markdown",
      "metadata": {
        "id": "fVwzisCrDWF7"
      },
      "source": [
        "## Exemplos:"
      ]
    },
    {
      "cell_type": "code",
      "metadata": {
        "id": "hiZefNGovXvp",
        "colab": {
          "base_uri": "https://localhost:8080/"
        },
        "outputId": "9026d12b-10d0-4940-f513-814ab8ba5547"
      },
      "source": [
        "def soma(num1, num2):\n",
        "  return num1 + num2\n",
        "\n",
        "\n",
        "def mat(num1, num2, fun=soma):\n",
        "  return fun(num1, num2)\n",
        "\n",
        "\n",
        "def subtracao(num1, num2):\n",
        "  return num1 - num2\n",
        "\n",
        "\n",
        "print(mat(2, 3))\n",
        "print(mat(2, 2, subtracao))"
      ],
      "execution_count": null,
      "outputs": [
        {
          "output_type": "stream",
          "text": [
            "5\n",
            "0\n"
          ],
          "name": "stdout"
        }
      ]
    },
    {
      "cell_type": "markdown",
      "metadata": {
        "id": "bD2j-sBpEJHv"
      },
      "source": [
        "Como podemos ver, caso o usuário informe o não informe o parâmetro fun, a função soma será executada pois é o parâmetro padrão, caso o usuário informe, será executado o que ele informou, no caso do segundo print foi a função subtracao."
      ]
    },
    {
      "cell_type": "markdown",
      "metadata": {
        "id": "hnuK7coeFGkS"
      },
      "source": [
        "## Escopo - Evitar problemas e confusões\n",
        "### Variáveis globais e locais"
      ]
    },
    {
      "cell_type": "code",
      "metadata": {
        "id": "wY3TaLhbC-3Y"
      },
      "source": [
        "instrutor = 'Geek'"
      ],
      "execution_count": null,
      "outputs": []
    },
    {
      "cell_type": "markdown",
      "metadata": {
        "id": "UJupFBHtFTaY"
      },
      "source": [
        "Essa variável é chamada de variável global pois ela não faz parte de nenhum escopo.  \n",
        "Então eu posso por exemplo:"
      ]
    },
    {
      "cell_type": "code",
      "metadata": {
        "colab": {
          "base_uri": "https://localhost:8080/"
        },
        "id": "P6M6Oc8YFSwX",
        "outputId": "5e4fb026-659e-468a-e177-1796825a1761"
      },
      "source": [
        "instrutor = 'Geek'\n",
        "\n",
        "def diz_oi():\n",
        "  return f'Oi {instrutor}'\n",
        "\n",
        "\n",
        "print(diz_oi())"
      ],
      "execution_count": null,
      "outputs": [
        {
          "output_type": "stream",
          "text": [
            "Oi Geek\n"
          ],
          "name": "stdout"
        }
      ]
    },
    {
      "cell_type": "markdown",
      "metadata": {
        "id": "IO20B9k7F1y2"
      },
      "source": [
        "Note que a variável é executada ainda que chamada dentro da função, pois ela é global.  \n",
        "Mas devemos tomar cuidado, por exemplo:"
      ]
    },
    {
      "cell_type": "code",
      "metadata": {
        "colab": {
          "base_uri": "https://localhost:8080/"
        },
        "id": "yzacjgGZFvsf",
        "outputId": "db3c3052-351b-4ec4-c146-7c502ff95a7d"
      },
      "source": [
        "instrutor = 'Geek'\n",
        "\n",
        "def diz_oi():\n",
        "  instrutor = 'Python'\n",
        "  return f'Oi {instrutor}'\n",
        "\n",
        "print(diz_oi())"
      ],
      "execution_count": null,
      "outputs": [
        {
          "output_type": "stream",
          "text": [
            "Oi Python\n"
          ],
          "name": "stdout"
        }
      ]
    },
    {
      "cell_type": "markdown",
      "metadata": {
        "id": "Z5J2mfcQGKUo"
      },
      "source": [
        "Note que mesmo havendo uma variável global, a variável local é utilizada, já que no escopo em que está sendo chamada, as variáveis locais se sobrepõe as variáveis globais."
      ]
    },
    {
      "cell_type": "markdown",
      "metadata": {
        "id": "arpJoNf9GmfN"
      },
      "source": [
        "### Outro exemplo"
      ]
    },
    {
      "cell_type": "code",
      "metadata": {
        "colab": {
          "base_uri": "https://localhost:8080/"
        },
        "id": "N-_BzeAjGFiB",
        "outputId": "c58fe582-cbb9-4e8e-dd9d-98d867736722"
      },
      "source": [
        "def diz_oi():\n",
        "  prof = 'Geek'\n",
        "  return f'Olá {prof}'\n",
        "\n",
        "\n",
        "print(diz_oi())"
      ],
      "execution_count": null,
      "outputs": [
        {
          "output_type": "stream",
          "text": [
            "Olá Geek\n"
          ],
          "name": "stdout"
        }
      ]
    },
    {
      "cell_type": "markdown",
      "metadata": {
        "id": "ihI-X1TaG2wf"
      },
      "source": [
        "Repare que tudo funciona corretamente, eu pedi pra mostrar a variável prof no retorno da função e funcionou corretamente!  \n",
        "Agora veja o que acontece se eu tentar chamar a variável ```prof``` fora do escopo."
      ]
    },
    {
      "cell_type": "code",
      "metadata": {
        "colab": {
          "base_uri": "https://localhost:8080/",
          "height": 215
        },
        "id": "e1cLjTVWGy-u",
        "outputId": "96d1fda7-0c61-4e69-b07f-cd9484756771"
      },
      "source": [
        "def diz_oi():\n",
        "  prof = 'Geek'\n",
        "  return f'Olá {prof}'\n",
        "\n",
        "\n",
        "print(diz_oi())\n",
        "print(prof)"
      ],
      "execution_count": null,
      "outputs": [
        {
          "output_type": "stream",
          "text": [
            "Olá Geek\n"
          ],
          "name": "stdout"
        },
        {
          "output_type": "error",
          "ename": "NameError",
          "evalue": "ignored",
          "traceback": [
            "\u001b[0;31m---------------------------------------------------------------------------\u001b[0m",
            "\u001b[0;31mNameError\u001b[0m                                 Traceback (most recent call last)",
            "\u001b[0;32m<ipython-input-15-91c7deb60553>\u001b[0m in \u001b[0;36m<module>\u001b[0;34m()\u001b[0m\n\u001b[1;32m      5\u001b[0m \u001b[0;34m\u001b[0m\u001b[0m\n\u001b[1;32m      6\u001b[0m \u001b[0mprint\u001b[0m\u001b[0;34m(\u001b[0m\u001b[0mdiz_oi\u001b[0m\u001b[0;34m(\u001b[0m\u001b[0;34m)\u001b[0m\u001b[0;34m)\u001b[0m\u001b[0;34m\u001b[0m\u001b[0;34m\u001b[0m\u001b[0m\n\u001b[0;32m----> 7\u001b[0;31m \u001b[0mprint\u001b[0m\u001b[0;34m(\u001b[0m\u001b[0mprof\u001b[0m\u001b[0;34m)\u001b[0m\u001b[0;34m\u001b[0m\u001b[0;34m\u001b[0m\u001b[0m\n\u001b[0m",
            "\u001b[0;31mNameError\u001b[0m: name 'prof' is not defined"
          ]
        }
      ]
    },
    {
      "cell_type": "markdown",
      "metadata": {
        "id": "hsdQjAIKHQuy"
      },
      "source": [
        "Perceba que recebemos um erro que diz que a variável ```prof``` não foi definida."
      ]
    },
    {
      "cell_type": "markdown",
      "metadata": {
        "id": "3TJznMEpHgQr"
      },
      "source": [
        "### Atenção com variáveis globais (se possível, evite!)"
      ]
    },
    {
      "cell_type": "code",
      "metadata": {
        "colab": {
          "base_uri": "https://localhost:8080/",
          "height": 317
        },
        "id": "G8lkqviLHP2e",
        "outputId": "93170910-333c-427a-c892-d09611781579"
      },
      "source": [
        "total = 0\n",
        "\n",
        "def incrementa():\n",
        "  total = total + 1\n",
        "  return total\n",
        "\n",
        "\n",
        "print(incrementa())"
      ],
      "execution_count": null,
      "outputs": [
        {
          "output_type": "error",
          "ename": "UnboundLocalError",
          "evalue": "ignored",
          "traceback": [
            "\u001b[0;31m---------------------------------------------------------------------------\u001b[0m",
            "\u001b[0;31mUnboundLocalError\u001b[0m                         Traceback (most recent call last)",
            "\u001b[0;32m<ipython-input-16-ff9ea1a90f77>\u001b[0m in \u001b[0;36m<module>\u001b[0;34m()\u001b[0m\n\u001b[1;32m      6\u001b[0m \u001b[0;34m\u001b[0m\u001b[0m\n\u001b[1;32m      7\u001b[0m \u001b[0;34m\u001b[0m\u001b[0m\n\u001b[0;32m----> 8\u001b[0;31m \u001b[0mprint\u001b[0m\u001b[0;34m(\u001b[0m\u001b[0mincrementa\u001b[0m\u001b[0;34m(\u001b[0m\u001b[0;34m)\u001b[0m\u001b[0;34m)\u001b[0m\u001b[0;34m\u001b[0m\u001b[0;34m\u001b[0m\u001b[0m\n\u001b[0m",
            "\u001b[0;32m<ipython-input-16-ff9ea1a90f77>\u001b[0m in \u001b[0;36mincrementa\u001b[0;34m()\u001b[0m\n\u001b[1;32m      2\u001b[0m \u001b[0;34m\u001b[0m\u001b[0m\n\u001b[1;32m      3\u001b[0m \u001b[0;32mdef\u001b[0m \u001b[0mincrementa\u001b[0m\u001b[0;34m(\u001b[0m\u001b[0;34m)\u001b[0m\u001b[0;34m:\u001b[0m\u001b[0;34m\u001b[0m\u001b[0;34m\u001b[0m\u001b[0m\n\u001b[0;32m----> 4\u001b[0;31m   \u001b[0mtotal\u001b[0m \u001b[0;34m=\u001b[0m \u001b[0mtotal\u001b[0m \u001b[0;34m+\u001b[0m \u001b[0;36m1\u001b[0m\u001b[0;34m\u001b[0m\u001b[0;34m\u001b[0m\u001b[0m\n\u001b[0m\u001b[1;32m      5\u001b[0m   \u001b[0;32mreturn\u001b[0m \u001b[0mtotal\u001b[0m\u001b[0;34m\u001b[0m\u001b[0;34m\u001b[0m\u001b[0m\n\u001b[1;32m      6\u001b[0m \u001b[0;34m\u001b[0m\u001b[0m\n",
            "\u001b[0;31mUnboundLocalError\u001b[0m: local variable 'total' referenced before assignment"
          ]
        }
      ]
    },
    {
      "cell_type": "markdown",
      "metadata": {
        "id": "P7jfVW7pILFC"
      },
      "source": [
        "E tem alguma forma de fazer essa variável global, receber + 1 na variável local? Na verdade tem sim:"
      ]
    },
    {
      "cell_type": "code",
      "metadata": {
        "id": "oC_BLPnYHurg",
        "colab": {
          "base_uri": "https://localhost:8080/"
        },
        "outputId": "fd5bea4e-f3d9-456f-ef2d-6b8681cd0289"
      },
      "source": [
        "total = 0\n",
        "\n",
        "def incrementa():\n",
        "  global total # Avisando que iremos utilizar a variável global.\n",
        "\n",
        "  total = total + 1\n",
        "  return total\n",
        "\n",
        "print(incrementa())"
      ],
      "execution_count": 24,
      "outputs": [
        {
          "output_type": "stream",
          "text": [
            "1\n"
          ],
          "name": "stdout"
        }
      ]
    },
    {
      "cell_type": "markdown",
      "metadata": {
        "id": "V0RCtjaoIoHa"
      },
      "source": [
        "Primeiro nós finamos a chamada da variável global na função utilizando o ```global total``` logo em seguida fizemos a utilização da variável no escopo local."
      ]
    },
    {
      "cell_type": "markdown",
      "metadata": {
        "id": "LVLe_XuVLvPO"
      },
      "source": [
        "## Podemos ter funções que são declaradas dentro de funções e também tem uma forma especial de escopo de variável."
      ]
    },
    {
      "cell_type": "code",
      "metadata": {
        "id": "20BGOXibK1Or",
        "colab": {
          "base_uri": "https://localhost:8080/"
        },
        "outputId": "d21010e4-71b5-4ebb-e181-c7ba99f6cdc0"
      },
      "source": [
        "def fora():\n",
        "  contador = 0\n",
        "\n",
        "  def dentro():\n",
        "    nonlocal contador\n",
        "    contador = contador + 1\n",
        "    return contador\n",
        "  return dentro()\n",
        "\n",
        "\n",
        "print(fora())"
      ],
      "execution_count": 25,
      "outputs": [
        {
          "output_type": "stream",
          "text": [
            "1\n"
          ],
          "name": "stdout"
        }
      ]
    },
    {
      "cell_type": "markdown",
      "metadata": {
        "id": "orzvR65-MZV2"
      },
      "source": [
        "Ps: Não podemos chamar a função dentro diretamente pois ela só é reconhecida dentro da função fora, exemplo:"
      ]
    },
    {
      "cell_type": "code",
      "metadata": {
        "colab": {
          "base_uri": "https://localhost:8080/",
          "height": 198
        },
        "id": "dU-uKghZMGXn",
        "outputId": "6b2b446f-44d0-46a4-e64b-62cae0258d38"
      },
      "source": [
        "def fora():\n",
        "  contador = 0\n",
        "\n",
        "  def dentro():\n",
        "    nonlocal contador\n",
        "    contador = contador + 1\n",
        "    return contador\n",
        "  return dentro()\n",
        "\n",
        "\n",
        "print(dentro())"
      ],
      "execution_count": 26,
      "outputs": [
        {
          "output_type": "error",
          "ename": "NameError",
          "evalue": "ignored",
          "traceback": [
            "\u001b[0;31m---------------------------------------------------------------------------\u001b[0m",
            "\u001b[0;31mNameError\u001b[0m                                 Traceback (most recent call last)",
            "\u001b[0;32m<ipython-input-26-e86e2b85e2df>\u001b[0m in \u001b[0;36m<module>\u001b[0;34m()\u001b[0m\n\u001b[1;32m      9\u001b[0m \u001b[0;34m\u001b[0m\u001b[0m\n\u001b[1;32m     10\u001b[0m \u001b[0;34m\u001b[0m\u001b[0m\n\u001b[0;32m---> 11\u001b[0;31m \u001b[0mprint\u001b[0m\u001b[0;34m(\u001b[0m\u001b[0mdentro\u001b[0m\u001b[0;34m(\u001b[0m\u001b[0;34m)\u001b[0m\u001b[0;34m)\u001b[0m\u001b[0;34m\u001b[0m\u001b[0;34m\u001b[0m\u001b[0m\n\u001b[0m",
            "\u001b[0;31mNameError\u001b[0m: name 'dentro' is not defined"
          ]
        }
      ]
    },
    {
      "cell_type": "code",
      "metadata": {
        "id": "EB0vzOMzMhak"
      },
      "source": [
        ""
      ],
      "execution_count": null,
      "outputs": []
    }
  ]
}