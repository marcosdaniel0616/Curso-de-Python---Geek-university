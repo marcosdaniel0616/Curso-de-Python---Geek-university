{
  "nbformat": 4,
  "nbformat_minor": 0,
  "metadata": {
    "colab": {
      "name": "debugando_com_PDB",
      "provenance": [],
      "authorship_tag": "ABX9TyPgrndbLR2+50ZnACR26/Ne",
      "include_colab_link": true
    },
    "kernelspec": {
      "name": "python3",
      "display_name": "Python 3"
    },
    "language_info": {
      "name": "python"
    }
  },
  "cells": [
    {
      "cell_type": "markdown",
      "metadata": {
        "id": "view-in-github",
        "colab_type": "text"
      },
      "source": [
        "<a href=\"https://colab.research.google.com/github/marcosdaniel0616/Curso-de-Python---Geek-university/blob/master/debugando_com_PDB.ipynb\" target=\"_parent\"><img src=\"https://colab.research.google.com/assets/colab-badge.svg\" alt=\"Open In Colab\"/></a>"
      ]
    },
    {
      "cell_type": "markdown",
      "metadata": {
        "id": "e0vhIyFzdym4"
      },
      "source": [
        "# Debugando com o PDB - Python Debugger\n",
        "Para utilizar o Python Debugger, precisamos importar a biblioteca pdb e então utilizar a função set_trace()\n",
        "  \n",
        "## Exemplo:"
      ]
    },
    {
      "cell_type": "code",
      "metadata": {
        "id": "8uboUajQlEQG",
        "colab": {
          "base_uri": "https://localhost:8080/"
        },
        "outputId": "c421f1e4-86e4-456b-b48d-9b22b86933f2"
      },
      "source": [
        "import pdb\n",
        "\n",
        "nome = 'Angelina'\n",
        "sobrenome = 'Jolie'\n",
        "nome_completo = nome + ' ' + sobrenome\n",
        "pdb.set_trace()\n",
        "curso = 'Programação em Python: Essencial'\n",
        "final = nome_completo + ' Faz o curso ' + curso\n",
        "print(final)"
      ],
      "execution_count": null,
      "outputs": [
        {
          "output_type": "stream",
          "text": [
            "\n",
            "PYDEV DEBUGGER WARNING:\n",
            "sys.settrace() should not be used when the debugger is being used.\n",
            "This may cause the debugger to stop working correctly.\n",
            "If this is needed, please check: \n",
            "http://pydev.blogspot.com/2007/06/why-cant-pydev-debugger-work-with.html\n",
            "to see how to restore the debug tracing back correctly.\n",
            "Call Location:\n",
            "  File \"/usr/lib/python3.7/bdb.py\", line 332, in set_trace\n",
            "    sys.settrace(self.trace_dispatch)\n",
            "\n"
          ],
          "name": "stderr"
        },
        {
          "output_type": "stream",
          "text": [
            "--Return--\n",
            "> <ipython-input-1-adead48aa887>(6)<module>()->None\n",
            "-> pdb.set_trace()\n",
            "(Pdb) a\n",
            "(Pdb) nome\n",
            "'Angelina'\n",
            "--KeyboardInterrupt--\n",
            "--KeyboardInterrupt--\n",
            "--KeyboardInterrupt--\n"
          ],
          "name": "stdout"
        }
      ]
    },
    {
      "cell_type": "markdown",
      "metadata": {
        "id": "RNMWfmPGgEEZ"
      },
      "source": [
        "Essa é a estrutura do PDB.\n",
        "## Comandos básicos do PDB.\n",
        "l -> lista onde estamos no código  \n",
        "n -> próxima linha  \n",
        "p -> imprime variável  \n",
        "c -> continua a execução (finaliza o debugg)"
      ]
    },
    {
      "cell_type": "code",
      "metadata": {
        "colab": {
          "base_uri": "https://localhost:8080/"
        },
        "id": "evfQAWefeh5Z",
        "outputId": "e9293819-8fc3-4a99-c3ed-2809a86de9b5"
      },
      "source": [
        "import pdb\n",
        "\n",
        "nome = 'Angelina'\n",
        "sobrenome = 'Jolie'\n",
        "nome_completo = nome + ' ' + sobrenome\n",
        "pdb.set_trace()\n",
        "curso = 'Programação em Python: Essencial'\n",
        "final = nome_completo + ' Faz o curso ' + curso\n",
        "print(final)"
      ],
      "execution_count": 3,
      "outputs": [
        {
          "output_type": "stream",
          "text": [
            "--Return--\n",
            "> <ipython-input-3-adead48aa887>(6)<module>()->None\n",
            "-> pdb.set_trace()\n",
            "(Pdb) n\n",
            "> /usr/local/lib/python3.7/dist-packages/IPython/core/interactiveshell.py(2885)run_code()\n",
            "-> sys.excepthook = old_excepthook\n",
            "(Pdb) n\n",
            "> /usr/local/lib/python3.7/dist-packages/IPython/core/interactiveshell.py(2901)run_code()\n",
            "-> outflag = 0\n",
            "(Pdb) n\n",
            "> /usr/local/lib/python3.7/dist-packages/IPython/core/interactiveshell.py(2902)run_code()\n",
            "-> return outflag\n",
            "(Pdb) n\n",
            "--Return--\n",
            "> /usr/local/lib/python3.7/dist-packages/IPython/core/interactiveshell.py(2902)run_code()->0\n",
            "-> return outflag\n",
            "(Pdb) p\n",
            "*** SyntaxError: unexpected EOF while parsing\n",
            "(Pdb) s\n",
            "> /usr/local/lib/python3.7/dist-packages/IPython/core/interactiveshell.py(2819)run_ast_nodes()\n",
            "-> for i, node in enumerate(to_run_exec):\n",
            "(Pdb) c\n",
            "Angelina Jolie Faz o curso Programação em Python: Essencial\n"
          ],
          "name": "stdout"
        }
      ]
    },
    {
      "cell_type": "markdown",
      "metadata": {
        "id": "0auoohMBnqkm"
      },
      "source": [
        "## Por que utilizar o PDB?\n",
        "## O PDB é utilizado durante o desenvolvimento, costumamos realizar todos os imports de bibliotecas no início do arquivo. Mas ao invés de colocarmos o import do pdb no inicio do arquivo, nós colocamos somente onde vamos debugar, e ao finalizar fazemos a sua remoção."
      ]
    },
    {
      "cell_type": "markdown",
      "metadata": {
        "id": "rN3nJTUWogT0"
      },
      "source": [
        "## A partir do Python 3.7, não é mais necessário importar a biblioteca pdb, pois o comando de debug foi incorporado como função built-in (integrada) chamada breakpoint()"
      ]
    },
    {
      "cell_type": "code",
      "metadata": {
        "colab": {
          "base_uri": "https://localhost:8080/"
        },
        "id": "1yCN4DuigXKn",
        "outputId": "805f755b-3477-4d23-bfc5-8d7d03f624b4"
      },
      "source": [
        "nome = 'Angelina'\n",
        "sobrenome = 'Jolie'\n",
        "nome_completo = nome + ' ' + sobrenome\n",
        "breakpoint()\n",
        "curso = 'Programação em Python: Essencial'\n",
        "final = nome_completo + ' Faz o curso ' + curso\n",
        "print(final)"
      ],
      "execution_count": null,
      "outputs": [
        {
          "output_type": "stream",
          "text": [
            "\n",
            "KeyboardInterrupt\n",
            "\n"
          ],
          "name": "stderr"
        }
      ]
    },
    {
      "cell_type": "code",
      "metadata": {
        "id": "6n2sljUUo_Li"
      },
      "source": [
        "nome = 'Angelina'\n",
        "sobrenome = 'Jolie'\n",
        "nome_completo = nome + ' ' + sobrenome\n",
        "breakpoint()\n",
        "curso = 'Programação em Python: Essencial'\n",
        "final = nome_completo + ' Faz o curso ' + curso\n",
        "print(final)"
      ],
      "execution_count": null,
      "outputs": []
    },
    {
      "cell_type": "markdown",
      "metadata": {
        "id": "9ggmOSSWpL_m"
      },
      "source": [
        "## OBS: Cuidado com conflitos entre nomes de variáveis e os comandos do pdb.\n",
        "Exemplo: variáveis com o mesmo nome dos comandos usados no pdb (l, n, p, c)"
      ]
    },
    {
      "cell_type": "code",
      "metadata": {
        "id": "A9TixvRlpGWe"
      },
      "source": [
        ""
      ],
      "execution_count": null,
      "outputs": []
    }
  ]
}