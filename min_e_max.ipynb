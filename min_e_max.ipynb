{
  "nbformat": 4,
  "nbformat_minor": 0,
  "metadata": {
    "colab": {
      "name": "min-e-max.ipynb",
      "provenance": [],
      "authorship_tag": "ABX9TyPbvblRK3n1OALRHXHG6y3N",
      "include_colab_link": true
    },
    "kernelspec": {
      "name": "python3",
      "display_name": "Python 3"
    },
    "language_info": {
      "name": "python"
    }
  },
  "cells": [
    {
      "cell_type": "markdown",
      "metadata": {
        "id": "view-in-github",
        "colab_type": "text"
      },
      "source": [
        "<a href=\"https://colab.research.google.com/github/marcosdaniel0616/Curso-de-Python---Geek-university/blob/master/min_e_max.ipynb\" target=\"_parent\"><img src=\"https://colab.research.google.com/assets/colab-badge.svg\" alt=\"Open In Colab\"/></a>"
      ]
    },
    {
      "cell_type": "markdown",
      "metadata": {
        "id": "5-O7OOPiIR8O"
      },
      "source": [
        "# Min e Max\n",
        "\n",
        "## max() -> Retorna o maior valor em um iterável ou o maior valor de dois ou mais elementos"
      ]
    },
    {
      "cell_type": "markdown",
      "metadata": {
        "id": "AnvuvzP4IfD4"
      },
      "source": [
        "## Exemplos:"
      ]
    },
    {
      "cell_type": "code",
      "metadata": {
        "colab": {
          "base_uri": "https://localhost:8080/"
        },
        "id": "ozsOJliFIK3c",
        "outputId": "ed2af2ed-a57d-4ddc-e77a-b339370cd80a"
      },
      "source": [
        "lista = [1, 8, 4, 99, 34, 129]\n",
        "\n",
        "print(max(lista))\n"
      ],
      "execution_count": null,
      "outputs": [
        {
          "output_type": "stream",
          "text": [
            "129\n"
          ],
          "name": "stdout"
        }
      ]
    },
    {
      "cell_type": "markdown",
      "metadata": {
        "id": "9XhHt6btIwIk"
      },
      "source": [
        "### Isso funciona para qualquer tipo de iterável"
      ]
    },
    {
      "cell_type": "code",
      "metadata": {
        "colab": {
          "base_uri": "https://localhost:8080/"
        },
        "id": "TzAvm1KbIkxG",
        "outputId": "0b6d7f62-6d86-4585-d4a3-2c9408ecb902"
      },
      "source": [
        "lista = [1, 8, 4, 99, 34, 129]\n",
        "\n",
        "tupla = (1, 8, 4, 99, 34, 129)\n",
        "\n",
        "conjunto = {1, 8, 4, 99, 34, 129}\n",
        "\n",
        "dicionario = {'a': 1, 'b': 8, 'c': 4, 'd': 99, 'e': 34, 'f': 129}\n",
        "\n",
        "print(max(lista))\n",
        "print(max(tupla))\n",
        "print(max(conjunto))\n",
        "print(max(dicionario))\n",
        "print(max(dicionario.values())) "
      ],
      "execution_count": null,
      "outputs": [
        {
          "output_type": "stream",
          "text": [
            "129\n",
            "129\n",
            "129\n",
            "f\n",
            "129\n"
          ],
          "name": "stdout"
        }
      ]
    },
    {
      "cell_type": "markdown",
      "metadata": {
        "id": "IvNJbzosJoOP"
      },
      "source": [
        "## Faça um programa que receba dois valores do usuário e imprima o maior:"
      ]
    },
    {
      "cell_type": "code",
      "metadata": {
        "colab": {
          "base_uri": "https://localhost:8080/"
        },
        "id": "5HZhbbAuJRA5",
        "outputId": "1c6a3408-20c5-4763-be05-674e7742cb23"
      },
      "source": [
        "valor1 = int(input('Informe o primeiro valor: '))\n",
        "valor2 = int(input('Informe o segundo valor: '))\n",
        "\n",
        "print(max(valor1, valor2))"
      ],
      "execution_count": null,
      "outputs": [
        {
          "output_type": "stream",
          "text": [
            "Informe o primeiro valor: 30\n",
            "Informe o segundo valor: 2\n",
            "30\n"
          ],
          "name": "stdout"
        }
      ]
    },
    {
      "cell_type": "markdown",
      "metadata": {
        "id": "EKSP3kdXKEzh"
      },
      "source": [
        "## min() -> Retorna o menor valor em um iterável ou o menor de dois ou mais elementos\n",
        "\n",
        "## Exemplos:"
      ]
    },
    {
      "cell_type": "code",
      "metadata": {
        "colab": {
          "base_uri": "https://localhost:8080/"
        },
        "id": "2UKZ_LxbJ0-J",
        "outputId": "4e3855c0-f976-46e0-8022-0fbf218f60e6"
      },
      "source": [
        "lista = [1, 8, 4, 99, 34, 129]\n",
        "\n",
        "print(min(lista))"
      ],
      "execution_count": null,
      "outputs": [
        {
          "output_type": "stream",
          "text": [
            "1\n"
          ],
          "name": "stdout"
        }
      ]
    },
    {
      "cell_type": "markdown",
      "metadata": {
        "id": "iP1yJDEEKSGn"
      },
      "source": [
        "### Isso funciona para qualquer tipo de iterável"
      ]
    },
    {
      "cell_type": "code",
      "metadata": {
        "colab": {
          "base_uri": "https://localhost:8080/"
        },
        "id": "3wHJvuoLKRY6",
        "outputId": "a52512ce-e46e-4def-8341-1e94e007c8c0"
      },
      "source": [
        "lista = [1, 8, 4, 99, 34, 129]\n",
        "\n",
        "tupla = (1, 8, 4, 99, 34, 129)\n",
        "\n",
        "conjunto = {1, 8, 4, 99, 34, 129}\n",
        "\n",
        "dicionario = {'a': 1, 'b': 8, 'c': 4, 'd': 99, 'e': 34, 'f': 129}\n",
        "\n",
        "print(min(lista))\n",
        "print(min(tupla))\n",
        "print(min(conjunto))\n",
        "print(min(dicionario))\n",
        "print(min(dicionario.values())) "
      ],
      "execution_count": null,
      "outputs": [
        {
          "output_type": "stream",
          "text": [
            "1\n",
            "1\n",
            "1\n",
            "a\n",
            "1\n"
          ],
          "name": "stdout"
        }
      ]
    },
    {
      "cell_type": "markdown",
      "metadata": {
        "id": "hIe4Vd3JKdfc"
      },
      "source": [
        "## Faça um programa que receba dois valores do usuário e imprima o menor:"
      ]
    },
    {
      "cell_type": "code",
      "metadata": {
        "colab": {
          "base_uri": "https://localhost:8080/"
        },
        "id": "NpQ2e-eSKaMy",
        "outputId": "30cf5e01-4213-47f2-d28e-2ad73112276c"
      },
      "source": [
        "valor1 = int(input('Informe o primeiro valor: '))\n",
        "valor2 = int(input('Informe o segundo valor: '))\n",
        "\n",
        "print(min(valor1, valor2))"
      ],
      "execution_count": null,
      "outputs": [
        {
          "output_type": "stream",
          "text": [
            "Informe o primeiro valor: 40\n",
            "Informe o segundo valor: 20\n",
            "20\n"
          ],
          "name": "stdout"
        }
      ]
    },
    {
      "cell_type": "markdown",
      "metadata": {
        "id": "Usm4huT_Kqzx"
      },
      "source": [
        "## Outros exemplos:"
      ]
    },
    {
      "cell_type": "code",
      "metadata": {
        "colab": {
          "base_uri": "https://localhost:8080/"
        },
        "id": "UfzyU9NhKhjn",
        "outputId": "e02c250a-c71c-4ff6-9ce1-57619ecd932d"
      },
      "source": [
        "nomes = ['Arya', 'Samson', 'Dora', 'Tim', 'Ollivander']\n",
        "\n",
        "print(max(nomes))\n",
        "\n",
        "print(min(nomes))"
      ],
      "execution_count": null,
      "outputs": [
        {
          "output_type": "stream",
          "text": [
            "Tim\n",
            "Arya\n"
          ],
          "name": "stdout"
        }
      ]
    },
    {
      "cell_type": "markdown",
      "metadata": {
        "id": "XF2pFcMOK7ni"
      },
      "source": [
        "Por que os resultados foram esses em vez dos nomes com mais caracteres?  \n",
        "O min e o max pegam os valores que vem antes na ordem alfabética, nesse caso o T de Tim e o A de Arya"
      ]
    },
    {
      "cell_type": "markdown",
      "metadata": {
        "id": "-EGR9txdLISg"
      },
      "source": [
        "### E como mostrar baseado no tamanho?"
      ]
    },
    {
      "cell_type": "code",
      "metadata": {
        "colab": {
          "base_uri": "https://localhost:8080/"
        },
        "id": "7lqJNyrjK099",
        "outputId": "d30cfabb-1951-4d75-9e63-584025f8e185"
      },
      "source": [
        "nomes = ['Arya', 'Samson', 'Dora', 'Tim', 'Ollivander']\n",
        "\n",
        "print(max(nomes, key=lambda nome: len(nome)))\n",
        "\n",
        "print(min(nomes, key=lambda nome: len(nome)))"
      ],
      "execution_count": null,
      "outputs": [
        {
          "output_type": "stream",
          "text": [
            "Ollivander\n",
            "Tim\n"
          ],
          "name": "stdout"
        }
      ]
    },
    {
      "cell_type": "markdown",
      "metadata": {
        "id": "9klaJUibLUu4"
      },
      "source": [
        "Agora sim, o resultado foi Tim e Ollivander!"
      ]
    },
    {
      "cell_type": "markdown",
      "metadata": {
        "id": "vMrFjD15Lpjy"
      },
      "source": [
        "## Outros exemplos:"
      ]
    },
    {
      "cell_type": "code",
      "metadata": {
        "colab": {
          "base_uri": "https://localhost:8080/"
        },
        "id": "brpt49gCLTzo",
        "outputId": "cd2490df-b24a-4a3d-d41f-60b7cec893e0"
      },
      "source": [
        "musicas = [\n",
        "           {'titulo': 'Thunderstruck', 'tocou': 3},\n",
        "           {'titulo': 'Dead skin mask', 'tocou': 2},\n",
        "           {'titulo': 'Back in black', 'tocou': 4},\n",
        "           {'titulo': 'too old rock in roll', 'tocou': 32},\n",
        "]\n",
        "\n",
        "print(max(musicas, key=lambda musica: musica['tocou']))\n",
        "print(min(musicas, key=lambda musica: musica['tocou']))\n"
      ],
      "execution_count": null,
      "outputs": [
        {
          "output_type": "stream",
          "text": [
            "{'titulo': 'too old rock in roll', 'tocou': 32}\n",
            "{'titulo': 'Dead skin mask', 'tocou': 2}\n"
          ],
          "name": "stdout"
        }
      ]
    },
    {
      "cell_type": "markdown",
      "metadata": {
        "id": "Zwra0oGhL1i0"
      },
      "source": [
        "Lembre-se que sem o key dará erro, pois o min e o max não saberão o que precisão fazer."
      ]
    },
    {
      "cell_type": "markdown",
      "metadata": {
        "id": "A-SU5TVDL8xy"
      },
      "source": [
        "## DESAFIO: Imprima somente o título da música mais e menos tocada:"
      ]
    },
    {
      "cell_type": "code",
      "metadata": {
        "colab": {
          "base_uri": "https://localhost:8080/"
        },
        "id": "CcNWOYAzLzeV",
        "outputId": "2aede1ae-e0c9-4159-c8ac-429cc773204c"
      },
      "source": [
        "musicas = [\n",
        "           {'titulo': 'Thunderstruck', 'tocou': 3},\n",
        "           {'titulo': 'Dead skin mask', 'tocou': 2},\n",
        "           {'titulo': 'Back in black', 'tocou': 4},\n",
        "           {'titulo': 'too old rock in roll', 'tocou': 32},\n",
        "]\n",
        "\n",
        "print(max(musicas, key=lambda musica: musica['tocou'])['titulo'])\n",
        "print(min(musicas, key=lambda musica: musica['tocou'])['titulo'])"
      ],
      "execution_count": null,
      "outputs": [
        {
          "output_type": "stream",
          "text": [
            "too old rock in roll\n",
            "Dead skin mask\n"
          ],
          "name": "stdout"
        }
      ]
    },
    {
      "cell_type": "markdown",
      "metadata": {
        "id": "Fh-jay88Rfdq"
      },
      "source": [
        "Não consegui :("
      ]
    },
    {
      "cell_type": "markdown",
      "metadata": {
        "id": "ST-XNT7jXS0O"
      },
      "source": [
        "## Desafio 2!! Como fazer mesmo desafio anterior mas sem usar o max e nem o min?"
      ]
    },
    {
      "cell_type": "code",
      "metadata": {
        "id": "VpcAJq8rMN8y",
        "colab": {
          "base_uri": "https://localhost:8080/"
        },
        "outputId": "5494b2a9-787f-4e1e-c342-472d01328de6"
      },
      "source": [
        "musicas = [\n",
        "           {'titulo': 'Thunderstruck', 'tocou': 3},\n",
        "           {'titulo': 'Dead skin mask', 'tocou': 2},\n",
        "           {'titulo': 'Back in black', 'tocou': 4},\n",
        "           {'titulo': 'too old rock in roll', 'tocou': 32},\n",
        "]\n",
        "\n",
        "min = 0\n",
        "max = 0\n",
        "musica_min = ''\n",
        "musica_max = ''\n",
        "\n",
        "for indice, musica in enumerate(musicas):\n",
        "  if indice == 0:\n",
        "    min = musica['tocou']\n",
        "    max = musica['tocou']\n",
        "    musica_min = musica\n",
        "    musica_max = musica\n",
        "  if musica['tocou'] < min:\n",
        "    musica_min = musica\n",
        "  if musica['tocou'] > max:\n",
        "    musica_max = musica\n",
        "\n",
        "print(f'menos tocou: {musica_min}')\n",
        "print(f'mais tocou: {musica_max}')"
      ],
      "execution_count": 17,
      "outputs": [
        {
          "output_type": "stream",
          "text": [
            "menos tocou: {'titulo': 'Dead skin mask', 'tocou': 2}\n",
            "mais tocou: {'titulo': 'too old rock in roll', 'tocou': 32}\n"
          ],
          "name": "stdout"
        }
      ]
    },
    {
      "cell_type": "code",
      "metadata": {
        "id": "YqI1W29EXvZ0"
      },
      "source": [
        ""
      ],
      "execution_count": null,
      "outputs": []
    }
  ]
}