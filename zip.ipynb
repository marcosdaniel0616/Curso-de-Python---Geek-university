{
  "nbformat": 4,
  "nbformat_minor": 0,
  "metadata": {
    "colab": {
      "name": "zip.ipynb",
      "provenance": [],
      "authorship_tag": "ABX9TyPycLsz+hqASU+rzUasHTbA",
      "include_colab_link": true
    },
    "kernelspec": {
      "name": "python3",
      "display_name": "Python 3"
    },
    "language_info": {
      "name": "python"
    }
  },
  "cells": [
    {
      "cell_type": "markdown",
      "metadata": {
        "id": "view-in-github",
        "colab_type": "text"
      },
      "source": [
        "<a href=\"https://colab.research.google.com/github/marcosdaniel0616/Curso-de-Python---Geek-university/blob/master/zip.ipynb\" target=\"_parent\"><img src=\"https://colab.research.google.com/assets/colab-badge.svg\" alt=\"Open In Colab\"/></a>"
      ]
    },
    {
      "cell_type": "markdown",
      "metadata": {
        "id": "wvjveRr7ihog"
      },
      "source": [
        "# Zip\n",
        "\n",
        "zip() -> Cria um iterável (Zip Object) que agrega elemento de cada um dos iteráveis passados como entrada em pares."
      ]
    },
    {
      "cell_type": "markdown",
      "metadata": {
        "id": "KvXeL7lZitFL"
      },
      "source": [
        "## Exemplos:"
      ]
    },
    {
      "cell_type": "code",
      "metadata": {
        "colab": {
          "base_uri": "https://localhost:8080/"
        },
        "id": "_NMUQ9d-idSM",
        "outputId": "b4f7cd85-bdca-4c25-d180-1f2e4a0d0a55"
      },
      "source": [
        "lista1 = [1, 2, 3]\n",
        "lista2 = [4, 5, 6]\n",
        "\n",
        "zip1 = zip(lista1, lista2)\n",
        "\n",
        "print(zip1)\n",
        "print(type(zip1))"
      ],
      "execution_count": 1,
      "outputs": [
        {
          "output_type": "stream",
          "text": [
            "<zip object at 0x7f3feda8dd70>\n",
            "<class 'zip'>\n"
          ],
          "name": "stdout"
        }
      ]
    },
    {
      "cell_type": "markdown",
      "metadata": {
        "id": "H3ZZoOufjLX1"
      },
      "source": [
        "## Sempre podemos gerar uma lista, tupla, set ou dicionário."
      ]
    },
    {
      "cell_type": "markdown",
      "metadata": {
        "id": "O8kfz-MqjVEi"
      },
      "source": [
        "## Lista"
      ]
    },
    {
      "cell_type": "code",
      "metadata": {
        "colab": {
          "base_uri": "https://localhost:8080/"
        },
        "id": "Not1ILHljFD9",
        "outputId": "9e876a9f-b595-456f-a6b3-ae67c06c5540"
      },
      "source": [
        "lista1 = [1, 2, 3]\n",
        "lista2 = [4, 5, 6]\n",
        "\n",
        "zip1 = zip(lista1, lista2)\n",
        "\n",
        "print(list(zip1))"
      ],
      "execution_count": 2,
      "outputs": [
        {
          "output_type": "stream",
          "text": [
            "[(1, 4), (2, 5), (3, 6)]\n"
          ],
          "name": "stdout"
        }
      ]
    },
    {
      "cell_type": "markdown",
      "metadata": {
        "id": "QteBhYJojbTT"
      },
      "source": [
        "## Tupla"
      ]
    },
    {
      "cell_type": "code",
      "metadata": {
        "colab": {
          "base_uri": "https://localhost:8080/"
        },
        "id": "lDxJxJJrjaPw",
        "outputId": "4c4253d9-c3cb-4b21-8e31-8d323d194bcc"
      },
      "source": [
        "lista1 = [1, 2, 3]\n",
        "lista2 = [4, 5, 6]\n",
        "\n",
        "zip1 = zip(lista1, lista2)\n",
        "\n",
        "print(tuple(zip1))"
      ],
      "execution_count": 3,
      "outputs": [
        {
          "output_type": "stream",
          "text": [
            "((1, 4), (2, 5), (3, 6))\n"
          ],
          "name": "stdout"
        }
      ]
    },
    {
      "cell_type": "markdown",
      "metadata": {
        "id": "-Fm_v1VijfAR"
      },
      "source": [
        "## Set"
      ]
    },
    {
      "cell_type": "code",
      "metadata": {
        "colab": {
          "base_uri": "https://localhost:8080/"
        },
        "id": "QMIKL5wmjeZC",
        "outputId": "26014e43-adf8-44d3-cb50-c557297e60b1"
      },
      "source": [
        "lista1 = [1, 2, 3]\n",
        "lista2 = [4, 5, 6]\n",
        "\n",
        "zip1 = zip(lista1, lista2)\n",
        "\n",
        "print(set(zip1))"
      ],
      "execution_count": 4,
      "outputs": [
        {
          "output_type": "stream",
          "text": [
            "{(2, 5), (3, 6), (1, 4)}\n"
          ],
          "name": "stdout"
        }
      ]
    },
    {
      "cell_type": "markdown",
      "metadata": {
        "id": "5mnWxoXFjhuk"
      },
      "source": [
        "## Dicionário"
      ]
    },
    {
      "cell_type": "code",
      "metadata": {
        "colab": {
          "base_uri": "https://localhost:8080/"
        },
        "id": "qjW5--42jhHD",
        "outputId": "f4f8db7e-6edd-449e-b15d-1c08c1b7fa83"
      },
      "source": [
        "lista1 = [1, 2, 3]\n",
        "lista2 = [4, 5, 6]\n",
        "\n",
        "zip1 = zip(lista1, lista2)\n",
        "\n",
        "print(dict(zip1))"
      ],
      "execution_count": 5,
      "outputs": [
        {
          "output_type": "stream",
          "text": [
            "{1: 4, 2: 5, 3: 6}\n"
          ],
          "name": "stdout"
        }
      ]
    },
    {
      "cell_type": "markdown",
      "metadata": {
        "id": "32dPdfJmkAXo"
      },
      "source": [
        "### OBS: Assim como o map() após executá-lo, ele é apagado da memória."
      ]
    },
    {
      "cell_type": "code",
      "metadata": {
        "colab": {
          "base_uri": "https://localhost:8080/"
        },
        "id": "R7YLg8FyjmUL",
        "outputId": "7b3bdb72-f447-4553-9be8-d50a32c31955"
      },
      "source": [
        "lista1 = [1, 2, 3]\n",
        "lista2 = [4, 5, 6]\n",
        "lista3 = [7, 8, 9, 10, 11]\n",
        "\n",
        "zip1 = zip(lista1, lista2, lista3)\n",
        "\n",
        "print(list(zip1))"
      ],
      "execution_count": 6,
      "outputs": [
        {
          "output_type": "stream",
          "text": [
            "[(1, 4, 7), (2, 5, 8), (3, 6, 9)]\n"
          ],
          "name": "stdout"
        }
      ]
    },
    {
      "cell_type": "markdown",
      "metadata": {
        "id": "IVEibyhakXsU"
      },
      "source": [
        "### OBS: O zip utiliza como parâmetro o menor tamanho em iterável. Isso significa que se você estiver trabalhando com iteráveis de tamanhos diferentes, irá parar quando os elementos do menor iterável acabar."
      ]
    },
    {
      "cell_type": "markdown",
      "metadata": {
        "id": "OyDX-ufslJCm"
      },
      "source": [
        "## Podemos utilizar diferentes iteráveis como  zip"
      ]
    },
    {
      "cell_type": "code",
      "metadata": {
        "colab": {
          "base_uri": "https://localhost:8080/"
        },
        "id": "Y2t1EdYBkTi6",
        "outputId": "dcd5d5f0-543b-4483-b719-95b87b90bd69"
      },
      "source": [
        "tupla = 1, 2, 3, 4, 5\n",
        "lista = [6, 7, 8, 9, 10]\n",
        "dicionario = {'a': 11, 'b': 12, 'c': 13,'d': 14, 'e': 15}\n",
        "conjunto = {16, 17, 18, 19, 20}\n",
        "\n",
        "zip2 = zip(tupla, lista, dicionario.values(), conjunto)\n",
        "\n",
        "print(list(zip2))"
      ],
      "execution_count": 10,
      "outputs": [
        {
          "output_type": "stream",
          "text": [
            "[(1, 6, 11, 16), (2, 7, 12, 17), (3, 8, 13, 18), (4, 9, 14, 19), (5, 10, 15, 20)]\n"
          ],
          "name": "stdout"
        }
      ]
    },
    {
      "cell_type": "markdown",
      "metadata": {
        "id": "StC4OsUvl3Hx"
      },
      "source": [
        "## Lista de tuplas"
      ]
    },
    {
      "cell_type": "code",
      "metadata": {
        "colab": {
          "base_uri": "https://localhost:8080/"
        },
        "id": "CAs5cHaMldsA",
        "outputId": "3eaad635-3e54-4f8a-899a-1a7c5bff37ab"
      },
      "source": [
        "dados = [(0, 1), (1, 2), (2, 3), (3, 4), (4, 5)]\n",
        "\n",
        "print(list(zip(dados)))\n",
        "print(list(zip(*dados)))  # Desempacotamento"
      ],
      "execution_count": 14,
      "outputs": [
        {
          "output_type": "stream",
          "text": [
            "[((0, 1),), ((1, 2),), ((2, 3),), ((3, 4),), ((4, 5),)]\n",
            "[(0, 1, 2, 3, 4), (1, 2, 3, 4, 5)]\n"
          ],
          "name": "stdout"
        }
      ]
    },
    {
      "cell_type": "markdown",
      "metadata": {
        "id": "a6PYrkUnmJrL"
      },
      "source": [
        "## Exemplos mais complexos:"
      ]
    },
    {
      "cell_type": "code",
      "metadata": {
        "colab": {
          "base_uri": "https://localhost:8080/"
        },
        "id": "oIDAwB_CmBkj",
        "outputId": "f60e0201-2116-43bb-b850-86b16d1034d5"
      },
      "source": [
        "prova1 = [80, 91, 78]\n",
        "prova2 = [98, 89, 53]\n",
        "alunos = ['Maria', 'Pedro', 'Carla']\n",
        "\n",
        "final = {dado[0]:max(dado[1], dado[2]) for dado in zip(alunos, prova1, prova2)}\n",
        "\n",
        "print(final)"
      ],
      "execution_count": 19,
      "outputs": [
        {
          "output_type": "stream",
          "text": [
            "{'Maria': 98, 'Pedro': 91, 'Carla': 78}\n"
          ],
          "name": "stdout"
        }
      ]
    },
    {
      "cell_type": "markdown",
      "metadata": {
        "id": "7gAhFa-Lm_kw"
      },
      "source": [
        "### Podemos utilizar o map()"
      ]
    },
    {
      "cell_type": "code",
      "metadata": {
        "colab": {
          "base_uri": "https://localhost:8080/"
        },
        "id": "-1rSF4eTmneb",
        "outputId": "2d0344d6-2b10-4517-e21b-cdea184b8977"
      },
      "source": [
        "prova1 = [80, 91, 78]\n",
        "prova2 = [98, 89, 53]\n",
        "alunos = ['Maria', 'Pedro', 'Carla']\n",
        "\n",
        "final = zip(alunos, map(lambda nota: max(nota), zip(prova1, prova2)))\n",
        "\n",
        "print(dict(final))\n",
        "\n"
      ],
      "execution_count": 22,
      "outputs": [
        {
          "output_type": "stream",
          "text": [
            "{'Maria': 98, 'Pedro': 91, 'Carla': 78}\n"
          ],
          "name": "stdout"
        }
      ]
    },
    {
      "cell_type": "code",
      "metadata": {
        "id": "aCP7v4mknWi5"
      },
      "source": [
        ""
      ],
      "execution_count": null,
      "outputs": []
    }
  ]
}