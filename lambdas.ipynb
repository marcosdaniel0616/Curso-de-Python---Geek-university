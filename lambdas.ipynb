{
  "nbformat": 4,
  "nbformat_minor": 0,
  "metadata": {
    "colab": {
      "name": "lambdas.ipynb",
      "provenance": [],
      "collapsed_sections": [],
      "authorship_tag": "ABX9TyMZlwQ36YRlv4VmQqDiMwjT",
      "include_colab_link": true
    },
    "kernelspec": {
      "name": "python3",
      "display_name": "Python 3"
    },
    "language_info": {
      "name": "python"
    }
  },
  "cells": [
    {
      "cell_type": "markdown",
      "metadata": {
        "id": "view-in-github",
        "colab_type": "text"
      },
      "source": [
        "<a href=\"https://colab.research.google.com/github/marcosdaniel0616/Curso-de-Python---Geek-university/blob/master/lambdas.ipynb\" target=\"_parent\"><img src=\"https://colab.research.google.com/assets/colab-badge.svg\" alt=\"Open In Colab\"/></a>"
      ]
    },
    {
      "cell_type": "markdown",
      "metadata": {
        "id": "MpASO1fClI2E"
      },
      "source": [
        "# Utilizando lambdas\n",
        "\n",
        "Conhecidas por expressões lambdas ou simplesmente lambdas, são funções sem nome, ou seja, funções anônimas."
      ]
    },
    {
      "cell_type": "markdown",
      "metadata": {
        "id": "KPUJqvBallvB"
      },
      "source": [
        "Antes vamos relembrar como é uma função em Python:\n",
        "## Função em Python"
      ]
    },
    {
      "cell_type": "code",
      "metadata": {
        "colab": {
          "base_uri": "https://localhost:8080/"
        },
        "id": "NBiR2rnrlvca",
        "outputId": "8418dfab-1886-4c9b-e3b6-973a3834b2d6"
      },
      "source": [
        "def funcao(x):\n",
        "  return 3 * x + 1\n",
        "\n",
        "\n",
        "print(funcao(4))"
      ],
      "execution_count": 2,
      "outputs": [
        {
          "output_type": "stream",
          "text": [
            "13\n"
          ],
          "name": "stdout"
        }
      ]
    },
    {
      "cell_type": "code",
      "metadata": {
        "colab": {
          "base_uri": "https://localhost:8080/"
        },
        "id": "bwEdzgvDl4pJ",
        "outputId": "57578d11-65aa-475f-94dc-9f75d9f1a7c2"
      },
      "source": [
        "def funcao(x):\n",
        "  return 3 * x + 1\n",
        "\n",
        "\n",
        "print(funcao(7))"
      ],
      "execution_count": 3,
      "outputs": [
        {
          "output_type": "stream",
          "text": [
            "22\n"
          ],
          "name": "stdout"
        }
      ]
    },
    {
      "cell_type": "markdown",
      "metadata": {
        "id": "_y9-dW-YmCsm"
      },
      "source": [
        "Agora vamos pras lambdas que são o assunto dessa aula:\n",
        "## Expressão Lambda"
      ]
    },
    {
      "cell_type": "markdown",
      "metadata": {
        "id": "nB-5MVhCmM8d"
      },
      "source": [
        "Vamos fazer a mesma coisa que as funções acima mas dessa vez utilizando expressões lambda."
      ]
    },
    {
      "cell_type": "code",
      "metadata": {
        "colab": {
          "base_uri": "https://localhost:8080/"
        },
        "id": "MGXwPedVl_Ql",
        "outputId": "8dae5d34-3785-45c7-84b7-0500c75ffc65"
      },
      "source": [
        "lambda x: 3 * x + 1"
      ],
      "execution_count": 4,
      "outputs": [
        {
          "output_type": "execute_result",
          "data": {
            "text/plain": [
              "<function __main__.<lambda>>"
            ]
          },
          "metadata": {
            "tags": []
          },
          "execution_count": 4
        }
      ]
    },
    {
      "cell_type": "markdown",
      "metadata": {
        "id": "Zqr6E-UPmePY"
      },
      "source": [
        "Como pudemos notar, toda expressão lambda começa com a palavra reservada ```lambda```. E ela funciona exetamente como as funções que estão acima.  \n",
        "Mas da forma que a expressão lambda está, nós não conseguimos utilizá-la, pois não temos como chama-la já que ela não tem nome, então o que devemos fazer?\n"
      ]
    },
    {
      "cell_type": "markdown",
      "metadata": {
        "id": "dRe9OodcnM_-"
      },
      "source": [
        "## E como utilizar a expressão lambda?"
      ]
    },
    {
      "cell_type": "code",
      "metadata": {
        "colab": {
          "base_uri": "https://localhost:8080/"
        },
        "id": "Y2YP0U8Mmlih",
        "outputId": "95056c14-d485-40f1-dfa3-1560ad448574"
      },
      "source": [
        "calc = lambda x: 3 * x + 1\n",
        "\n",
        "print(calc(4))"
      ],
      "execution_count": 10,
      "outputs": [
        {
          "output_type": "stream",
          "text": [
            "13\n"
          ],
          "name": "stdout"
        }
      ]
    },
    {
      "cell_type": "code",
      "metadata": {
        "colab": {
          "base_uri": "https://localhost:8080/"
        },
        "id": "crA3EU7woUQz",
        "outputId": "83ec8285-0330-43a7-adb5-34a1fc76f8a9"
      },
      "source": [
        "calc = lambda x: 3 * x + 1\n",
        "\n",
        "print(calc(7))"
      ],
      "execution_count": 9,
      "outputs": [
        {
          "output_type": "stream",
          "text": [
            "22\n"
          ],
          "name": "stdout"
        }
      ]
    },
    {
      "cell_type": "markdown",
      "metadata": {
        "id": "7T-AePCMoDRQ"
      },
      "source": [
        "Note que funcionou perfeitamente :D conseguimos utilizar a expressão atribuindo ela a uma variável e imprimindo essa variável passando um argumento a ele."
      ]
    },
    {
      "cell_type": "markdown",
      "metadata": {
        "id": "-BX-U3n4oYhR"
      },
      "source": [
        "Mas tem uma coisa, se pra utilizarmos uma expressão lambda nós precisamos nomea-la, então pra que criar uma expressão lambda ao invés de uma função.  \n",
        "O motivo é que geralmente a expressão lambda não é usada dessa forma, nós a utilizamos de outras maneiras que veremos mais pra frente."
      ]
    },
    {
      "cell_type": "markdown",
      "metadata": {
        "id": "RbFaCU7Voyv7"
      },
      "source": [
        "## Podemos ter expressões lambdas com múltiplas entradas"
      ]
    },
    {
      "cell_type": "code",
      "metadata": {
        "colab": {
          "base_uri": "https://localhost:8080/"
        },
        "id": "_orhICxqnSqV",
        "outputId": "3b05009c-b4f5-4026-dca5-859d5c307e54"
      },
      "source": [
        "nome_completo = lambda nome, sobrenome: nome.strip().title() + ' ' + sobrenome.strip().title()\n",
        "\n",
        "print(nome_completo('marcos', 'daniel'))"
      ],
      "execution_count": 15,
      "outputs": [
        {
          "output_type": "stream",
          "text": [
            "Marcos Daniel\n"
          ],
          "name": "stdout"
        }
      ]
    },
    {
      "cell_type": "code",
      "metadata": {
        "colab": {
          "base_uri": "https://localhost:8080/"
        },
        "id": "PqJm6CmQpQQo",
        "outputId": "d017e062-dd9c-4226-ccab-0fbda2e1dc7e"
      },
      "source": [
        "nome_completo = lambda nome, sobrenome: nome.strip().title() + ' ' + sobrenome.strip().title()\n",
        "\n",
        "print(nome_completo('   angelina', 'JOLIE'))"
      ],
      "execution_count": 17,
      "outputs": [
        {
          "output_type": "stream",
          "text": [
            "Angelina Jolie\n"
          ],
          "name": "stdout"
        }
      ]
    },
    {
      "cell_type": "code",
      "metadata": {
        "colab": {
          "base_uri": "https://localhost:8080/"
        },
        "id": "HF_W1Tj2p4n_",
        "outputId": "74c2d65c-c05e-4c62-8d30-99105f10e28b"
      },
      "source": [
        "nome_completo = lambda nome, sobrenome: nome.strip().title() + ' ' + sobrenome.strip().title()\n",
        "\n",
        "print(nome_completo('    FELICITY', '     jones   '))"
      ],
      "execution_count": 18,
      "outputs": [
        {
          "output_type": "stream",
          "text": [
            "Felicity Jones\n"
          ],
          "name": "stdout"
        }
      ]
    },
    {
      "cell_type": "markdown",
      "metadata": {
        "id": "ajoym7URqB_e"
      },
      "source": [
        "O ```strip()``` remove espaços desnecessários no início e no fim da variável, já o ```title()``` deixa a primeira letra da variável maiúscula e as outras letras minúsculas."
      ]
    },
    {
      "cell_type": "markdown",
      "metadata": {
        "id": "siUKVAYnqfS1"
      },
      "source": [
        "### Como nós já vimos nas funções, nós temos funções que recebem vários, um ou nenhum parâmetro, com as expressões lambdas é a mesma coisa."
      ]
    },
    {
      "cell_type": "code",
      "metadata": {
        "colab": {
          "base_uri": "https://localhost:8080/"
        },
        "id": "Oy_IUxL1p_29",
        "outputId": "a6ad72e8-b4cd-43f1-81a5-5b7d1361341e"
      },
      "source": [
        "amar = lambda: 'Como não amar Python!'\n",
        "\n",
        "print(amar())"
      ],
      "execution_count": 19,
      "outputs": [
        {
          "output_type": "stream",
          "text": [
            "Como não amar Python!\n"
          ],
          "name": "stdout"
        }
      ]
    },
    {
      "cell_type": "code",
      "metadata": {
        "colab": {
          "base_uri": "https://localhost:8080/"
        },
        "id": "DgFOZba0qpD5",
        "outputId": "7b729338-aff7-4d15-df20-c36eaf811223"
      },
      "source": [
        "uma = lambda x: 3 * x + 1\n",
        "\n",
        "print(uma(6))"
      ],
      "execution_count": 24,
      "outputs": [
        {
          "output_type": "stream",
          "text": [
            "19\n"
          ],
          "name": "stdout"
        }
      ]
    },
    {
      "cell_type": "code",
      "metadata": {
        "colab": {
          "base_uri": "https://localhost:8080/"
        },
        "id": "4b1tdAHkqs0R",
        "outputId": "b394d389-9091-4258-dc45-791655ee2d4d"
      },
      "source": [
        "duas = lambda x, y: (x * y) ** 0.5\n",
        "\n",
        "print(duas(5, 7))"
      ],
      "execution_count": 25,
      "outputs": [
        {
          "output_type": "stream",
          "text": [
            "5.916079783099616\n"
          ],
          "name": "stdout"
        }
      ]
    },
    {
      "cell_type": "code",
      "metadata": {
        "colab": {
          "base_uri": "https://localhost:8080/"
        },
        "id": "3TjHh478qycJ",
        "outputId": "1ec131a5-0308-4b2d-fadd-feb3d3872c83"
      },
      "source": [
        "tres = lambda x, y, z: 3 / (1 / x + 1 / y + 1 / z)\n",
        "\n",
        "print(tres(3, 6, 9))"
      ],
      "execution_count": 26,
      "outputs": [
        {
          "output_type": "stream",
          "text": [
            "4.909090909090908\n"
          ],
          "name": "stdout"
        }
      ]
    },
    {
      "cell_type": "markdown",
      "metadata": {
        "id": "VYVXP_ohrFcL"
      },
      "source": [
        "Nós podemos ter quantos parâmetros quisermos nas expressões lambdas, assim como nas funções.\n",
        "### OBS: se passarmos mais argumentos do que parâmetros esperados, teremos ```TypeError```."
      ]
    },
    {
      "cell_type": "markdown",
      "metadata": {
        "id": "o3HZ77jErkdr"
      },
      "source": [
        "## Outro exemplo"
      ]
    },
    {
      "cell_type": "code",
      "metadata": {
        "colab": {
          "base_uri": "https://localhost:8080/"
        },
        "id": "Bp6AEYjvrKs3",
        "outputId": "d22f6c2f-d22e-4b15-b92f-de71122193fc"
      },
      "source": [
        "autores = ['Isaac Asimov', 'Ray Bradburry', 'Robert Heinlein', \n",
        "           'Arthur C. Clarke', 'Frank Herbert', 'Orson Scott Card',\n",
        "           'Douglas Adams', 'H. G. Wells', 'Leigh Brackett']\n",
        "\n",
        "print(autores)"
      ],
      "execution_count": 28,
      "outputs": [
        {
          "output_type": "stream",
          "text": [
            "['Isaac Asimov', 'Ray Bradburry', 'Robert Heinlein', 'Arthur C. Clarke', 'Frank Herbert', 'Orson Scott Card', 'Douglas Adams', 'H. G. Wells', 'Leigh Brackett']\n"
          ],
          "name": "stdout"
        }
      ]
    },
    {
      "cell_type": "markdown",
      "metadata": {
        "id": "8_fJeva6sGOT"
      },
      "source": [
        "Agora imagine que precisamos ordenar essa lista de autores de forma alfabética, pelo sobrenome (último nome)."
      ]
    },
    {
      "cell_type": "code",
      "metadata": {
        "colab": {
          "base_uri": "https://localhost:8080/"
        },
        "id": "qFUOfOXcr-SQ",
        "outputId": "e80b203a-4057-47cc-f160-e382c667592d"
      },
      "source": [
        "autores = ['Isaac Asimov', 'Ray Bradburry', 'Robert Heinlein', \n",
        "           'Arthur C. Clarke', 'Frank Herbert', 'Orson Scott Card',\n",
        "           'Douglas Adams', 'H. G. Wells', 'Leigh Brackett']\n",
        "\n",
        "autores.sort(key=lambda sobrenome: sobrenome.split(' ')[-1].lower())\n",
        "\n",
        "print(autores)"
      ],
      "execution_count": 29,
      "outputs": [
        {
          "output_type": "stream",
          "text": [
            "['Douglas Adams', 'Isaac Asimov', 'Leigh Brackett', 'Ray Bradburry', 'Orson Scott Card', 'Arthur C. Clarke', 'Robert Heinlein', 'Frank Herbert', 'H. G. Wells']\n"
          ],
          "name": "stdout"
        }
      ]
    },
    {
      "cell_type": "markdown",
      "metadata": {
        "id": "G9SLf6c7snmt"
      },
      "source": [
        "estamos utilizando uma expressão lambda dentro do método sort então talvez esteja complicado de entender mas vamos entender o que esse código está fazendo:"
      ]
    },
    {
      "cell_type": "markdown",
      "metadata": {
        "id": "T3eEJ7ajsw4n"
      },
      "source": [
        "nós definimos o ```autores.sort(``` pra informar que iremos ordenar a lista. O parâmetro seguinte é o ```key=``` , que é onde informamos a ordem pela qual iremos ordenar, nesse momento nós criamos uma expressão ```lambda``` que chama o parâmetro ```sobrenome:``` e nós dizemos com o ```split()``` que cada nome na lista de autores será separado em uma mini lista, exemplo: [ ['Isaac', 'Asimov'], ['Ray' 'Bradburry'], ...] e com o ```[-1]``` nós dizemos que vamos pegar o último valor da mini lista como argumento, no caso do ['Isaac', 'Asimov'] será pego o 'Asimov' e por fim, deixaremos tudo em minúsculo, pra não haver diferenciação de maiúsculas e mínuculas com o ```.lower()``` fazendo assim com que a seja ordenada de acordo com o sobrenome. Um pouco complexo mas funcional XD"
      ]
    },
    {
      "cell_type": "code",
      "metadata": {
        "id": "osOut0K5wM1n"
      },
      "source": [
        ""
      ],
      "execution_count": null,
      "outputs": []
    }
  ]
}