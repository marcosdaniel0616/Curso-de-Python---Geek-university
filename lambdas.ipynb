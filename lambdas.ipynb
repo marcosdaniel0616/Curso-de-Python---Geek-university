{
  "nbformat": 4,
  "nbformat_minor": 0,
  "metadata": {
    "colab": {
      "name": "lambdas.ipynb",
      "provenance": [],
      "collapsed_sections": [],
      "authorship_tag": "ABX9TyMdpZNErwjdgznjs1hbT9dt",
      "include_colab_link": true
    },
    "kernelspec": {
      "name": "python3",
      "display_name": "Python 3"
    },
    "language_info": {
      "name": "python"
    }
  },
  "cells": [
    {
      "cell_type": "markdown",
      "metadata": {
        "id": "view-in-github",
        "colab_type": "text"
      },
      "source": [
        "<a href=\"https://colab.research.google.com/github/marcosdaniel0616/Curso-de-Python---Geek-university/blob/master/lambdas.ipynb\" target=\"_parent\"><img src=\"https://colab.research.google.com/assets/colab-badge.svg\" alt=\"Open In Colab\"/></a>"
      ]
    },
    {
      "cell_type": "markdown",
      "metadata": {
        "id": "oD6uBYerhk_c"
      },
      "source": [
        "# Utilizando lambdas  \n",
        "Conhecidas por Expressões lambdas, ou simplesmente lambdas, são funções sem nome, ou seja, funções anônimas.\n"
      ]
    },
    {
      "cell_type": "markdown",
      "metadata": {
        "id": "a5dXXkEBlHdv"
      },
      "source": [
        "## Função em Python"
      ]
    },
    {
      "cell_type": "code",
      "metadata": {
        "colab": {
          "base_uri": "https://localhost:8080/",
          "height": 35
        },
        "id": "mOjcv3kvhpwV",
        "outputId": "c4c06882-8546-481f-f48e-3834abb9f0af"
      },
      "source": [
        "def funcao(x):\n",
        "  return 3 * x + 1\n",
        "\n",
        "print(funcao(4))\n",
        "print(funcao(7))"
      ],
      "execution_count": null,
      "outputs": [
        {
          "output_type": "execute_result",
          "data": {
            "application/vnd.google.colaboratory.intrinsic+json": {
              "type": "string"
            },
            "text/plain": [
              "'def função (a + b):\\n    return a + b\\n'"
            ]
          },
          "metadata": {
            "tags": []
          },
          "execution_count": 3
        }
      ]
    },
    {
      "cell_type": "markdown",
      "metadata": {
        "id": "02AeBs2djyEf"
      },
      "source": [
        "## Expressão Lambda\n"
      ]
    },
    {
      "cell_type": "code",
      "metadata": {
        "id": "MdWxeIamjQMM"
      },
      "source": [
        "lambda x: 3 * x + 1"
      ],
      "execution_count": null,
      "outputs": []
    },
    {
      "cell_type": "markdown",
      "metadata": {
        "id": "AuIyA-vIkNbj"
      },
      "source": [
        "Dessa forma nós não temos acesso a expressão lamda, pois, já que ela não possui nome, não teríamos como acessá-la."
      ]
    },
    {
      "cell_type": "markdown",
      "metadata": {
        "id": "DpModXUMkTyG"
      },
      "source": [
        "## E como utilizar a expressão lambda?"
      ]
    },
    {
      "cell_type": "code",
      "metadata": {
        "colab": {
          "base_uri": "https://localhost:8080/"
        },
        "id": "Dp-ePZwgji-p",
        "outputId": "e17d3b43-2bb5-4a49-9ae2-7ca53b097aa4"
      },
      "source": [
        "calc = lambda x: 3 * x + 1\n",
        "\n",
        "print(calc(4))\n",
        "print(calc(7))"
      ],
      "execution_count": null,
      "outputs": [
        {
          "output_type": "stream",
          "text": [
            "13\n",
            "22\n"
          ],
          "name": "stdout"
        }
      ]
    },
    {
      "cell_type": "markdown",
      "metadata": {
        "id": "aj9B8Z-3k1B1"
      },
      "source": [
        "Embora essa seja uma forma de utilizar uma expressão lamda, a expressão lambda geralmente não é usada assim, pois se fossémos usar desse jeito, seria mais fácil nomea-la já que somos obrigados a atribuir o valor da expressão lambda para acessá-la"
      ]
    },
    {
      "cell_type": "markdown",
      "metadata": {
        "id": "ynuXEQsAlLIl"
      },
      "source": [
        "## Podemos ter expressões lamdas com múltiplas entradas"
      ]
    },
    {
      "cell_type": "code",
      "metadata": {
        "colab": {
          "base_uri": "https://localhost:8080/"
        },
        "id": "Jzdear5skZUQ",
        "outputId": "e27d9d7f-cfd2-4388-aea9-130029729e77"
      },
      "source": [
        "nome_completo = lambda nome, sobrenome: nome.strip().title() + ' ' + sobrenome.strip().title()\n",
        "\n",
        "print(nome_completo('João', 'Miguel'))\n",
        "print(nome_completo(' angelina   ', 'JOLIE  '))"
      ],
      "execution_count": null,
      "outputs": [
        {
          "output_type": "stream",
          "text": [
            "João Miguel\n",
            "Angelina Jolie\n"
          ],
          "name": "stdout"
        }
      ]
    },
    {
      "cell_type": "markdown",
      "metadata": {
        "id": "FJFdBdJ9l4C0"
      },
      "source": [
        "Ps: Só pra lembrar o ***title*** deixa a primeira letra da palavra maiúscula e o restante minúscula.  \n",
        "Já o ***strip***, remove espaços inúteis."
      ]
    },
    {
      "cell_type": "markdown",
      "metadata": {
        "id": "tKBgEbdemp_T"
      },
      "source": [
        "### Em funções Python, podemos ter nenhuma ou várias entradas.  \n",
        "### Em lambdas também\n",
        "Por exemplo:"
      ]
    },
    {
      "cell_type": "code",
      "metadata": {
        "colab": {
          "base_uri": "https://localhost:8080/"
        },
        "id": "_bUfH_XhlbjA",
        "outputId": "006f6ed2-edc8-41fc-9757-1496c580b120"
      },
      "source": [
        "amar = lambda: 'Como não amar Python?'\n",
        "\n",
        "uma = lambda x: 3 * x + 1\n",
        "\n",
        "duas = lambda x, y: (x * y) ** 0.5\n",
        "\n",
        "tres = lambda x, y, z: 3/ (1 / x + 1 / y + 1 / z)\n",
        "\n",
        "# n = lambda = lambda x1, x2, ... xn: <expressão>\n",
        "\n",
        "print(amar())\n",
        "print(uma(6))\n",
        "print(duas(5, 7))\n",
        "print(tres(3, 6, 9))"
      ],
      "execution_count": null,
      "outputs": [
        {
          "output_type": "stream",
          "text": [
            "Como não amar Python?\n",
            "19\n",
            "5.916079783099616\n",
            "4.909090909090908\n"
          ],
          "name": "stdout"
        }
      ]
    },
    {
      "cell_type": "markdown",
      "metadata": {
        "id": "ZfN7FRXcoszR"
      },
      "source": [
        "**OBS**: Se passarmos mais ou menos parâmetros (caso pedidos) do que parâmetros esperados, teremos *TypeError*"
      ]
    },
    {
      "cell_type": "markdown",
      "metadata": {
        "id": "LZ1W_rz9o_2D"
      },
      "source": [
        "## Outro exemplo"
      ]
    },
    {
      "cell_type": "code",
      "metadata": {
        "colab": {
          "base_uri": "https://localhost:8080/"
        },
        "id": "gR7OgpEpm8cE",
        "outputId": "3031fc1d-1905-4269-f2c8-a22ebeb66fba"
      },
      "source": [
        "autores = ['Isaac Azimov', 'Ray BradBurry', 'Robert Heinlein', \n",
        "           'Arthur C. Clarke', 'Frank Herbert', 'Orson Scott Card', \n",
        "           'Douglas Adams', 'H. G. Wells', 'Leigh Brackett']\n",
        "\n",
        "print(autores)"
      ],
      "execution_count": 1,
      "outputs": [
        {
          "output_type": "stream",
          "text": [
            "['Isaac Azimov', 'Ray BradBurry', 'Robert Heinlein', 'Arthur C. Clarke', 'Frank Herbert', 'Orson Scott Card', 'Douglas Adams', 'H. G. Wells', 'Leigh Brackett']\n"
          ],
          "name": "stdout"
        }
      ]
    },
    {
      "cell_type": "markdown",
      "metadata": {
        "id": "VKfyzK1qKNc-"
      },
      "source": [
        "E se quisermos Ordenar os nomes de acordo com a ordem alfabética dos sobrenomes?"
      ]
    },
    {
      "cell_type": "code",
      "metadata": {
        "id": "aSMryt6JpaT5",
        "colab": {
          "base_uri": "https://localhost:8080/"
        },
        "outputId": "9054fb7d-47e4-45f5-9b1b-370cf7172faf"
      },
      "source": [
        "autores.sort(key=lambda sobrenome: sobrenome.split(' ')[-1].lower())\n",
        "print(autores)"
      ],
      "execution_count": 12,
      "outputs": [
        {
          "output_type": "stream",
          "text": [
            "['Douglas Adams', 'Isaac Azimov', 'Leigh Brackett', 'Ray BradBurry', 'Orson Scott Card', 'Arthur C. Clarke', 'Robert Heinlein', 'Frank Herbert', 'H. G. Wells']\n"
          ],
          "name": "stdout"
        }
      ]
    },
    {
      "cell_type": "markdown",
      "metadata": {
        "id": "odAzXGAQLLj6"
      },
      "source": [
        "## Função Quadrática\n",
        "Podemos utilizar expressões lambdas em qualquer lugar, inclusive para funções quadráticas, que são funções para calcular tiros, projéteis, foguetes reais ou em jogos de tiro, por exemplo:\n",
        "\n",
        "f(x) = a * x ** 2 + b * x + c  \n",
        "  \n",
        "## Definindo a função  "
      ]
    },
    {
      "cell_type": "code",
      "metadata": {
        "colab": {
          "base_uri": "https://localhost:8080/"
        },
        "id": "B2b_0JnoKbtg",
        "outputId": "e4bb8ab9-bb40-440b-db1c-9f5a70f9ee3d"
      },
      "source": [
        "def geradora_funcao_quadratica(a, b, c):\n",
        "  \"\"\"Retorna a função f(x) = a * x ** 2 + b * x + c\"\"\"\n",
        "  return lambda x: a * x ** 2 + b * x + c\n",
        "\n",
        "teste = geradora_funcao_quadratica(2, 3, -5)\n",
        "\n",
        "print(teste(0))\n",
        "print(teste(1))\n",
        "print(teste(2))"
      ],
      "execution_count": 15,
      "outputs": [
        {
          "output_type": "stream",
          "text": [
            "-5\n",
            "0\n",
            "9\n"
          ],
          "name": "stdout"
        }
      ]
    },
    {
      "cell_type": "markdown",
      "metadata": {
        "id": "GZwP_gZNNgTW"
      },
      "source": [
        "Não precisamos passar a função quadrática para uma variável, poderíamos ter executado direto, assim:"
      ]
    },
    {
      "cell_type": "code",
      "metadata": {
        "colab": {
          "base_uri": "https://localhost:8080/"
        },
        "id": "LPIwd2vSNIL2",
        "outputId": "8ecd936c-9fdb-4ae7-dabd-096220a4f047"
      },
      "source": [
        "def geradora_funcao_quadratica(a, b, c):\n",
        "  \"\"\"Retorna a função f(x) = a * x ** 2 + b * x + c\"\"\"\n",
        "  return lambda x: a * x ** 2 + b * x + c\n",
        "\n",
        "print(geradora_funcao_quadratica(2, 3, -5)(2))"
      ],
      "execution_count": 16,
      "outputs": [
        {
          "output_type": "stream",
          "text": [
            "9\n"
          ],
          "name": "stdout"
        }
      ]
    },
    {
      "cell_type": "code",
      "metadata": {
        "id": "FEVQTz7JN1Cc"
      },
      "source": [
        ""
      ],
      "execution_count": null,
      "outputs": []
    }
  ]
}