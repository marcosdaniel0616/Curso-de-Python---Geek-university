{
  "nbformat": 4,
  "nbformat_minor": 0,
  "metadata": {
    "colab": {
      "name": "any e all.ipynb",
      "provenance": [],
      "collapsed_sections": [],
      "authorship_tag": "ABX9TyOHnFcah1K6UdfZaPOuIuJx",
      "include_colab_link": true
    },
    "kernelspec": {
      "name": "python3",
      "display_name": "Python 3"
    },
    "language_info": {
      "name": "python"
    }
  },
  "cells": [
    {
      "cell_type": "markdown",
      "metadata": {
        "id": "view-in-github",
        "colab_type": "text"
      },
      "source": [
        "<a href=\"https://colab.research.google.com/github/marcosdaniel0616/Curso-de-Python---Geek-university/blob/master/any_e_all.ipynb\" target=\"_parent\"><img src=\"https://colab.research.google.com/assets/colab-badge.svg\" alt=\"Open In Colab\"/></a>"
      ]
    },
    {
      "cell_type": "markdown",
      "metadata": {
        "id": "3WaxaKil62Gr"
      },
      "source": [
        "# Any e All"
      ]
    },
    {
      "cell_type": "markdown",
      "metadata": {
        "id": "JnYyBq_X7GDG"
      },
      "source": [
        "## all() -> Retorna True se todos os elementos do iterável são verdadeiros ou ainda se o iterável está vazio.\n",
        "\n",
        "## Any() -> Retorna True se qualquer elemento do iterável for verdadeiro. Se o iterável estiver vazio, retorna False.\n",
        "\n",
        "## Exemplo all():"
      ]
    },
    {
      "cell_type": "code",
      "metadata": {
        "colab": {
          "base_uri": "https://localhost:8080/"
        },
        "id": "OXXjm6ZQ6NX7",
        "outputId": "58a7f0ec-709c-4af3-e839-1cb2fda0d740"
      },
      "source": [
        "print(all([0, 1, 2, 3, 4]))"
      ],
      "execution_count": null,
      "outputs": [
        {
          "output_type": "stream",
          "text": [
            "False\n"
          ],
          "name": "stdout"
        }
      ]
    },
    {
      "cell_type": "markdown",
      "metadata": {
        "id": "uXFqZSX47UCd"
      },
      "source": [
        "Todos os números são verdadeiros?  \n",
        "devemos lembrar da aula de valores booleanos que o número 0 é false."
      ]
    },
    {
      "cell_type": "code",
      "metadata": {
        "id": "opmXTqB37woR"
      },
      "source": [
        "print(all([1, 2, 3, 4]))"
      ],
      "execution_count": null,
      "outputs": []
    },
    {
      "cell_type": "markdown",
      "metadata": {
        "id": "JPI_rpkH7xgl"
      },
      "source": [
        "Dessa vez foi True pois todos os elementos são verdadeiros."
      ]
    },
    {
      "cell_type": "code",
      "metadata": {
        "colab": {
          "base_uri": "https://localhost:8080/"
        },
        "id": "kTrtxwhP7TcE",
        "outputId": "9115cf0c-cd1e-4aac-fae7-951ad146d601"
      },
      "source": [
        "print(all([]))"
      ],
      "execution_count": null,
      "outputs": [
        {
          "output_type": "stream",
          "text": [
            "True\n"
          ],
          "name": "stdout"
        }
      ]
    },
    {
      "cell_type": "markdown",
      "metadata": {
        "id": "RYZTtMgT7k5X"
      },
      "source": [
        "Novamente foi True pois como vimos que se o iterável estiver vazio é igual a True."
      ]
    },
    {
      "cell_type": "markdown",
      "metadata": {
        "id": "ayBcaT608Pko"
      },
      "source": [
        "## Também podemos utilizar o all() de outra forma:"
      ]
    },
    {
      "cell_type": "code",
      "metadata": {
        "colab": {
          "base_uri": "https://localhost:8080/"
        },
        "id": "aucy-gVa7jzp",
        "outputId": "406ccc37-2a74-415e-d813-a6350ca74db2"
      },
      "source": [
        "nomes = ['Carlos', 'Camila', 'Carla', 'Cassiano', 'Cristina']\n",
        "\n",
        "print(all([nome[0] == 'C' for nome in nomes]))"
      ],
      "execution_count": null,
      "outputs": [
        {
          "output_type": "stream",
          "text": [
            "True\n"
          ],
          "name": "stdout"
        }
      ]
    },
    {
      "cell_type": "markdown",
      "metadata": {
        "id": "QO_FTvHX8w3F"
      },
      "source": [
        "O resultado deu correto pois todos os nomes começam com C mas se acrescentarmos algum nome que não começa com C dará False:"
      ]
    },
    {
      "cell_type": "code",
      "metadata": {
        "colab": {
          "base_uri": "https://localhost:8080/"
        },
        "id": "DXNTCthS8gMw",
        "outputId": "8fadc19c-1541-4dce-c93b-4246f745d266"
      },
      "source": [
        "nomes = ['Carlos', 'Camila', 'Carla', 'Cassiano', 'Cristina', 'Daniel']\n",
        "\n",
        "print(all([nome[0] == 'C' for nome in nomes]))"
      ],
      "execution_count": null,
      "outputs": [
        {
          "output_type": "stream",
          "text": [
            "False\n"
          ],
          "name": "stdout"
        }
      ]
    },
    {
      "cell_type": "markdown",
      "metadata": {
        "id": "k_AD6RdL9Kdn"
      },
      "source": [
        "Vamos ver outro exemplo:"
      ]
    },
    {
      "cell_type": "code",
      "metadata": {
        "id": "0TeQJc_29h-_",
        "colab": {
          "base_uri": "https://localhost:8080/"
        },
        "outputId": "d58d0116-8659-413b-955a-7c791074ae21"
      },
      "source": [
        "print(all([letra for letra in 'eio' if letra in 'aeiou']))"
      ],
      "execution_count": 3,
      "outputs": [
        {
          "output_type": "stream",
          "text": [
            "True\n"
          ],
          "name": "stdout"
        }
      ]
    },
    {
      "cell_type": "markdown",
      "metadata": {
        "id": "4Rb9HRvR8uDl"
      },
      "source": [
        "### OBS: Um iterável vazio convertido em boolean é False, mas o all() entende como True"
      ]
    },
    {
      "cell_type": "markdown",
      "metadata": {
        "id": "B40iJ_oO865s"
      },
      "source": [
        "## Ultimo exemplo all():"
      ]
    },
    {
      "cell_type": "code",
      "metadata": {
        "colab": {
          "base_uri": "https://localhost:8080/"
        },
        "id": "15h_anzl8FiL",
        "outputId": "9c723ec0-7725-4fbe-a512-bcfb2e5adf51"
      },
      "source": [
        "print(all([num for num in [4, 2, 10, 6, 8] if num % 2 == 0]))"
      ],
      "execution_count": 4,
      "outputs": [
        {
          "output_type": "stream",
          "text": [
            "True\n"
          ],
          "name": "stdout"
        }
      ]
    },
    {
      "cell_type": "markdown",
      "metadata": {
        "id": "JKrXvcfR9XmO"
      },
      "source": [
        "## Exemplo Any():"
      ]
    },
    {
      "cell_type": "code",
      "metadata": {
        "colab": {
          "base_uri": "https://localhost:8080/"
        },
        "id": "FiNAjZyM9DKx",
        "outputId": "6f31352d-e405-4d6a-d080-aeba95148cca"
      },
      "source": [
        "print(any([0, 1, 2, 3, 4]))"
      ],
      "execution_count": 6,
      "outputs": [
        {
          "output_type": "stream",
          "text": [
            "True\n"
          ],
          "name": "stdout"
        }
      ]
    },
    {
      "cell_type": "markdown",
      "metadata": {
        "id": "jXlmlumK9he-"
      },
      "source": [
        "É retornado True pois o any() só precisa que um dos elementos seja True."
      ]
    },
    {
      "cell_type": "code",
      "metadata": {
        "colab": {
          "base_uri": "https://localhost:8080/"
        },
        "id": "fR-U8kSU9dyp",
        "outputId": "043bf9f2-b846-434e-9b32-04edf63dc3c6"
      },
      "source": [
        "print(any([0, {}, [], False, ()]))"
      ],
      "execution_count": 7,
      "outputs": [
        {
          "output_type": "stream",
          "text": [
            "False\n"
          ],
          "name": "stdout"
        }
      ]
    },
    {
      "cell_type": "markdown",
      "metadata": {
        "id": "zr0SLV9a9u2u"
      },
      "source": [
        "É retornado o False pois todos os elementos são False."
      ]
    },
    {
      "cell_type": "code",
      "metadata": {
        "colab": {
          "base_uri": "https://localhost:8080/"
        },
        "id": "H4LYDGLn9uJ-",
        "outputId": "563942eb-5ec3-4e03-ec7d-8218d21f3780"
      },
      "source": [
        "nomes = ['Carlos', 'Camila', 'Carla', 'Cassiano', 'Cristina']\n",
        "\n",
        "print(any([nome[0] == 'C' for nome in nomes]))"
      ],
      "execution_count": 8,
      "outputs": [
        {
          "output_type": "stream",
          "text": [
            "True\n"
          ],
          "name": "stdout"
        }
      ]
    },
    {
      "cell_type": "markdown",
      "metadata": {
        "id": "1JjFg5t995dp"
      },
      "source": [
        "Como já vimos, todos os nomes começam com 'C', logo, é True."
      ]
    },
    {
      "cell_type": "code",
      "metadata": {
        "colab": {
          "base_uri": "https://localhost:8080/"
        },
        "id": "KyEWnNVz94zE",
        "outputId": "51f29797-733d-47be-97f2-37e13572cbe1"
      },
      "source": [
        "nomes = ['Carlos', 'Camila', 'Carla', 'Cassiano', 'Cristina', 'Daniel']\n",
        "\n",
        "print(any([nome[0] == 'C' for nome in nomes]))"
      ],
      "execution_count": 11,
      "outputs": [
        {
          "output_type": "stream",
          "text": [
            "True\n"
          ],
          "name": "stdout"
        }
      ]
    },
    {
      "cell_type": "markdown",
      "metadata": {
        "id": "0M_VxaL2-Fp1"
      },
      "source": [
        "Nesse caso mesmo com o nome Daniel não começando com 'C' é retornado True, pois como já vimos, só precisamos que qualquer 1 dos elementos seja True, para que retornemos True."
      ]
    },
    {
      "cell_type": "code",
      "metadata": {
        "id": "u-N9uy0d-CLk"
      },
      "source": [
        ""
      ],
      "execution_count": null,
      "outputs": []
    }
  ]
}