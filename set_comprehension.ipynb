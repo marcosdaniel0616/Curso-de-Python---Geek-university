{
  "nbformat": 4,
  "nbformat_minor": 0,
  "metadata": {
    "colab": {
      "name": "set_comprehension.ipynb",
      "provenance": [],
      "authorship_tag": "ABX9TyN+uiN0GMcztiRn3sjiPxD9",
      "include_colab_link": true
    },
    "kernelspec": {
      "name": "python3",
      "display_name": "Python 3"
    },
    "language_info": {
      "name": "python"
    }
  },
  "cells": [
    {
      "cell_type": "markdown",
      "metadata": {
        "id": "view-in-github",
        "colab_type": "text"
      },
      "source": [
        "<a href=\"https://colab.research.google.com/github/marcosdaniel0616/Curso-de-Python---Geek-university/blob/master/set_comprehension.ipynb\" target=\"_parent\"><img src=\"https://colab.research.google.com/assets/colab-badge.svg\" alt=\"Open In Colab\"/></a>"
      ]
    },
    {
      "cell_type": "markdown",
      "metadata": {
        "id": "B0U1JqCdcxv2"
      },
      "source": [
        "# Set Comprehension\n",
        "\n",
        "set = {1, 2, 3, 4, 5}"
      ]
    },
    {
      "cell_type": "markdown",
      "metadata": {
        "id": "ACr8bu1-dOnc"
      },
      "source": [
        "Direto pros exemplos:\n",
        "\n",
        "## Exemplos:"
      ]
    },
    {
      "cell_type": "code",
      "metadata": {
        "colab": {
          "base_uri": "https://localhost:8080/"
        },
        "id": "wJDPTxitcjuC",
        "outputId": "cf194a6e-0662-479b-dfb2-dba765afd793"
      },
      "source": [
        "numeros = {num for num in range(1, 7)}\n",
        "\n",
        "print(numeros)"
      ],
      "execution_count": 2,
      "outputs": [
        {
          "output_type": "stream",
          "text": [
            "{1, 2, 3, 4, 5, 6}\n"
          ],
          "name": "stdout"
        }
      ]
    },
    {
      "cell_type": "markdown",
      "metadata": {
        "id": "KakUKU1ZdnBl"
      },
      "source": [
        "## Outro exemplo:"
      ]
    },
    {
      "cell_type": "code",
      "metadata": {
        "colab": {
          "base_uri": "https://localhost:8080/"
        },
        "id": "PLS5Vi9kdUwL",
        "outputId": "0d89284b-46ea-45cc-c110-3ebe801c62d2"
      },
      "source": [
        "numeros = {x ** 2 for x in range(10)}\n",
        "\n",
        "print(numeros)"
      ],
      "execution_count": 4,
      "outputs": [
        {
          "output_type": "stream",
          "text": [
            "{0, 1, 64, 4, 36, 9, 16, 49, 81, 25}\n"
          ],
          "name": "stdout"
        }
      ]
    },
    {
      "cell_type": "markdown",
      "metadata": {
        "id": "1qFIELhxd7dh"
      },
      "source": [
        "## Desafio: Faça uma alteração na estrutura acima para gerar um dicionário ao invés de um Set:"
      ]
    },
    {
      "cell_type": "code",
      "metadata": {
        "colab": {
          "base_uri": "https://localhost:8080/"
        },
        "id": "CT0w3H0AdrtC",
        "outputId": "add81a89-8634-4dd9-b3c8-df0c19bae7b3"
      },
      "source": [
        "numeros = {x: x ** 2 for x in range(10)}\n",
        "\n",
        "print(numeros)"
      ],
      "execution_count": 5,
      "outputs": [
        {
          "output_type": "stream",
          "text": [
            "{0: 0, 1: 1, 2: 4, 3: 9, 4: 16, 5: 25, 6: 36, 7: 49, 8: 64, 9: 81}\n"
          ],
          "name": "stdout"
        }
      ]
    },
    {
      "cell_type": "markdown",
      "metadata": {
        "id": "52K-rcJ0eI7v"
      },
      "source": [
        "CONSEGUI! :D"
      ]
    },
    {
      "cell_type": "markdown",
      "metadata": {
        "id": "XX1ep3ypeod3"
      },
      "source": [
        "## Pra finalizar:"
      ]
    },
    {
      "cell_type": "code",
      "metadata": {
        "colab": {
          "base_uri": "https://localhost:8080/"
        },
        "id": "vN9Ym4CReGJH",
        "outputId": "7f412f63-3a41-456d-af03-4a76003291b5"
      },
      "source": [
        "letras = {letra for letra in 'Geek University'}\n",
        "\n",
        "print(letras)"
      ],
      "execution_count": 7,
      "outputs": [
        {
          "output_type": "stream",
          "text": [
            "{'G', 'y', ' ', 'U', 's', 'n', 'v', 't', 'i', 'r', 'k', 'e'}\n"
          ],
          "name": "stdout"
        }
      ]
    },
    {
      "cell_type": "markdown",
      "metadata": {
        "id": "4zT7wds3e0DS"
      },
      "source": [
        "lembre-se que em conjuntos não há ordenação e nem repetição de valores :)"
      ]
    },
    {
      "cell_type": "code",
      "metadata": {
        "id": "wL4MMyB-eu2-"
      },
      "source": [
        " "
      ],
      "execution_count": null,
      "outputs": []
    }
  ]
}