{
  "nbformat": 4,
  "nbformat_minor": 0,
  "metadata": {
    "colab": {
      "name": "dictionary_comprehension.ipynb",
      "provenance": [],
      "authorship_tag": "ABX9TyPru6sU1JRMhOQX11GHZ2cD",
      "include_colab_link": true
    },
    "kernelspec": {
      "name": "python3",
      "display_name": "Python 3"
    },
    "language_info": {
      "name": "python"
    }
  },
  "cells": [
    {
      "cell_type": "markdown",
      "metadata": {
        "id": "view-in-github",
        "colab_type": "text"
      },
      "source": [
        "<a href=\"https://colab.research.google.com/github/marcosdaniel0616/Curso-de-Python---Geek-university/blob/master/dictionary_comprehension.ipynb\" target=\"_parent\"><img src=\"https://colab.research.google.com/assets/colab-badge.svg\" alt=\"Open In Colab\"/></a>"
      ]
    },
    {
      "cell_type": "markdown",
      "metadata": {
        "id": "S7pffvtVN7QM"
      },
      "source": [
        "# Dictionary Comprehension\n",
        "\n",
        "Pense no seguinte:\n",
        "\n",
        "Se quisermos criar uma lista fazemos:\n",
        "\n",
        "lista = [1, 2, 3, 4]\n",
        "\n",
        "se quisermos criar uma tupla:\n",
        "\n",
        "tupla = (1, 2, 3, 4) ou 1, 2, 3, 4\n",
        "\n",
        "se quisermos criar um set (conjunto):\n",
        "\n",
        "conjunto = {1, 2, 3, 4}\n",
        "\n",
        "se quisermos criar um dicionário:\n",
        "\n",
        "dicionario = {'a': 1, 'b': 2, 'c': 3, 'd': 4}"
      ]
    },
    {
      "cell_type": "markdown",
      "metadata": {
        "id": "Iwpc0tl_Q4xe"
      },
      "source": [
        "## sintaxy:\n",
        "\n",
        "{chave: valor for valor in iteravel}"
      ]
    },
    {
      "cell_type": "markdown",
      "metadata": {
        "id": "graK1R7JREyb"
      },
      "source": [
        "## Exemplos:"
      ]
    },
    {
      "cell_type": "code",
      "metadata": {
        "colab": {
          "base_uri": "https://localhost:8080/"
        },
        "id": "CY-b9wbUMemQ",
        "outputId": "34cb749e-c912-4dbd-f5d1-efa882375c7b"
      },
      "source": [
        "numeros = {'a': 1, 'b': 2, 'c': 3, 'd': 4}\n",
        "\n",
        "quadrado = {chave:valor ** 2 for chave, valor in numeros.items()}\n",
        "\n",
        "print(quadrado)"
      ],
      "execution_count": 3,
      "outputs": [
        {
          "output_type": "stream",
          "text": [
            "{'a': 1, 'b': 4, 'c': 9, 'd': 16}\n"
          ],
          "name": "stdout"
        }
      ]
    },
    {
      "cell_type": "markdown",
      "metadata": {
        "id": "PDF5aPlkU0d9"
      },
      "source": [
        "Agora vamos fazer isso só que com uma lista:"
      ]
    },
    {
      "cell_type": "code",
      "metadata": {
        "colab": {
          "base_uri": "https://localhost:8080/"
        },
        "id": "mD0KxzASRe-G",
        "outputId": "601a8cfa-83d2-48fc-e8ed-4892f7d045be"
      },
      "source": [
        "numeros = [1, 2, 3, 4, 5]\n",
        "\n",
        "quadrados = {valor: valor ** 2 for valor in numeros}\n",
        "\n",
        "print(quadrados)"
      ],
      "execution_count": 7,
      "outputs": [
        {
          "output_type": "stream",
          "text": [
            "{1: 1, 2: 4, 3: 9, 4: 16, 5: 25}\n"
          ],
          "name": "stdout"
        }
      ]
    },
    {
      "cell_type": "markdown",
      "metadata": {
        "id": "l56ncokSVOMi"
      },
      "source": [
        "O daora é que funciona da mesma forma se for uma tupla e com set:"
      ]
    },
    {
      "cell_type": "code",
      "metadata": {
        "colab": {
          "base_uri": "https://localhost:8080/"
        },
        "id": "anXX4iuKU9XM",
        "outputId": "8a30ee4b-a3df-47f4-e141-d074571e07dd"
      },
      "source": [
        "numeros = (1, 2, 3, 4, 5)\n",
        "\n",
        "quadrados = {valor: valor ** 2 for valor in numeros}\n",
        "\n",
        "print(quadrados)"
      ],
      "execution_count": 8,
      "outputs": [
        {
          "output_type": "stream",
          "text": [
            "{1: 1, 2: 4, 3: 9, 4: 16, 5: 25}\n"
          ],
          "name": "stdout"
        }
      ]
    },
    {
      "cell_type": "code",
      "metadata": {
        "colab": {
          "base_uri": "https://localhost:8080/"
        },
        "id": "MrKc7vdHVUH2",
        "outputId": "05b72ce1-d364-4b36-ce16-5b02b1b0838b"
      },
      "source": [
        "numeros = {1, 2, 3, 4, 5}\n",
        "\n",
        "quadrados = {valor: valor ** 2 for valor in numeros}\n",
        "\n",
        "print(quadrados)"
      ],
      "execution_count": 9,
      "outputs": [
        {
          "output_type": "stream",
          "text": [
            "{1: 1, 2: 4, 3: 9, 4: 16, 5: 25}\n"
          ],
          "name": "stdout"
        }
      ]
    },
    {
      "cell_type": "markdown",
      "metadata": {
        "id": "apl7PnpTVsV5"
      },
      "source": [
        "Ps: Vale lembrar que não temos repetições de chave, então veja o que aconteceria se repetíssemos uma:"
      ]
    },
    {
      "cell_type": "code",
      "metadata": {
        "colab": {
          "base_uri": "https://localhost:8080/"
        },
        "id": "Y7yCh_gGVfCN",
        "outputId": "d99a2e92-1ecc-4281-f772-8a30108ee7e2"
      },
      "source": [
        "numeros = [1, 2, 3, 4, 5, 2]\n",
        "\n",
        "quadrados = {valor: valor ** 2 for valor in numeros}\n",
        "\n",
        "print(quadrados)"
      ],
      "execution_count": 10,
      "outputs": [
        {
          "output_type": "stream",
          "text": [
            "{1: 1, 2: 4, 3: 9, 4: 16, 5: 25}\n"
          ],
          "name": "stdout"
        }
      ]
    },
    {
      "cell_type": "markdown",
      "metadata": {
        "id": "iDD2akvzV28g"
      },
      "source": [
        "Essa chave repetida é simplesmente ignorada!"
      ]
    },
    {
      "cell_type": "markdown",
      "metadata": {
        "id": "iLAeB56LY9JV"
      },
      "source": [
        "## Outros exemplos:"
      ]
    },
    {
      "cell_type": "code",
      "metadata": {
        "colab": {
          "base_uri": "https://localhost:8080/"
        },
        "id": "IXxPyQ_kV2YF",
        "outputId": "68f1615c-a24f-48bb-c8e5-1ec8ef48a50a"
      },
      "source": [
        "chaves = 'abcded'\n",
        "valores = [1, 2, 3, 4, 5]\n",
        "\n",
        "mistura = {chaves[i]: valores[i] for i in range(0, len(valores))}\n",
        "print(mistura)"
      ],
      "execution_count": 16,
      "outputs": [
        {
          "output_type": "stream",
          "text": [
            "{'a': 1, 'b': 2, 'c': 3, 'd': 4, 'e': 5}\n"
          ],
          "name": "stdout"
        }
      ]
    },
    {
      "cell_type": "markdown",
      "metadata": {
        "id": "xWFsiFhlZqUu"
      },
      "source": [
        "## Exemplo com lógica condicional:"
      ]
    },
    {
      "cell_type": "code",
      "metadata": {
        "colab": {
          "base_uri": "https://localhost:8080/"
        },
        "id": "w5WcOtBLZMCf",
        "outputId": "c7c8ff18-291a-4279-b4d7-715ef56db2b8"
      },
      "source": [
        "numeros = [1, 2, 3, 4 ,5]\n",
        "\n",
        "resultado = {numero: ('par' if numero % 2 == 0 else 'impar') for numero in numeros}\n",
        "\n",
        "print(resultado)"
      ],
      "execution_count": 19,
      "outputs": [
        {
          "output_type": "stream",
          "text": [
            "{1: 'impar', 2: 'par', 3: 'impar', 4: 'par', 5: 'impar'}\n"
          ],
          "name": "stdout"
        }
      ]
    },
    {
      "cell_type": "code",
      "metadata": {
        "id": "A42vQ5MUagZw"
      },
      "source": [
        ""
      ],
      "execution_count": null,
      "outputs": []
    }
  ]
}