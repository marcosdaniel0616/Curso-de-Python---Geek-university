{
  "nbformat": 4,
  "nbformat_minor": 0,
  "metadata": {
    "colab": {
      "name": "reversed.ipynb",
      "provenance": [],
      "authorship_tag": "ABX9TyMipsqZSbkVPlOed+lesQ0m",
      "include_colab_link": true
    },
    "kernelspec": {
      "name": "python3",
      "display_name": "Python 3"
    },
    "language_info": {
      "name": "python"
    }
  },
  "cells": [
    {
      "cell_type": "markdown",
      "metadata": {
        "id": "view-in-github",
        "colab_type": "text"
      },
      "source": [
        "<a href=\"https://colab.research.google.com/github/marcosdaniel0616/Curso-de-Python---Geek-university/blob/master/reversed.ipynb\" target=\"_parent\"><img src=\"https://colab.research.google.com/assets/colab-badge.svg\" alt=\"Open In Colab\"/></a>"
      ]
    },
    {
      "cell_type": "markdown",
      "metadata": {
        "id": "jngiKeroaNZi"
      },
      "source": [
        "# Reversed\n",
        "\n",
        "OBS: Não confunca com a função reverse que nós estudamos nas listas.\n",
        "\n",
        "- A função reverse() só funciona nas listas, já a reversed funciona em qualquer iterável.\n",
        "\n",
        "Sua função é inverter o iterável.\n",
        "  \n",
        "A função reversed() retorna um iterável chamado List Reverse Iterator"
      ]
    },
    {
      "cell_type": "markdown",
      "metadata": {
        "id": "989vm7cJamT-"
      },
      "source": [
        "## Exemplos:"
      ]
    },
    {
      "cell_type": "code",
      "metadata": {
        "colab": {
          "base_uri": "https://localhost:8080/"
        },
        "id": "LCuja0pgaKVI",
        "outputId": "cb9c6e62-4941-4807-82d3-8bb632bfd61a"
      },
      "source": [
        "lista = [1, 2, 3, 4, 5]\n",
        "\n",
        "res = reversed(lista)\n",
        "\n",
        "print(res)\n",
        "print(type(res))"
      ],
      "execution_count": 2,
      "outputs": [
        {
          "output_type": "stream",
          "text": [
            "<list_reverseiterator object at 0x7f9d1f86c850>\n",
            "<class 'list_reverseiterator'>\n"
          ],
          "name": "stdout"
        }
      ]
    },
    {
      "cell_type": "markdown",
      "metadata": {
        "id": "L2l4TE_ha6NW"
      },
      "source": [
        "## Podemos converter o elemento retornado para uma lista, tupla ou conjunto."
      ]
    },
    {
      "cell_type": "markdown",
      "metadata": {
        "id": "IBpiwsRubBQQ"
      },
      "source": [
        "### Lista"
      ]
    },
    {
      "cell_type": "code",
      "metadata": {
        "colab": {
          "base_uri": "https://localhost:8080/"
        },
        "id": "fRMM27vdasus",
        "outputId": "b350f617-bf4b-4676-aebb-465847a6431d"
      },
      "source": [
        "lista = [1, 2, 3, 4, 5]\n",
        "\n",
        "print(list(reversed(lista)))"
      ],
      "execution_count": 4,
      "outputs": [
        {
          "output_type": "stream",
          "text": [
            "[5, 4, 3, 2, 1]\n"
          ],
          "name": "stdout"
        }
      ]
    },
    {
      "cell_type": "markdown",
      "metadata": {
        "id": "FNQeWuqabJhK"
      },
      "source": [
        "### Tupla"
      ]
    },
    {
      "cell_type": "code",
      "metadata": {
        "colab": {
          "base_uri": "https://localhost:8080/"
        },
        "id": "pA8xAGjNbGHy",
        "outputId": "d3552279-8b97-4cd8-90a2-bb5f513a71f5"
      },
      "source": [
        "lista = [1, 2, 3, 4, 5]\n",
        "\n",
        "\n",
        "print(tuple(reversed(lista)))"
      ],
      "execution_count": 5,
      "outputs": [
        {
          "output_type": "stream",
          "text": [
            "(5, 4, 3, 2, 1)\n"
          ],
          "name": "stdout"
        }
      ]
    },
    {
      "cell_type": "markdown",
      "metadata": {
        "id": "d-RJ5BiwbSQT"
      },
      "source": [
        "### Conjunto (set)"
      ]
    },
    {
      "cell_type": "code",
      "metadata": {
        "colab": {
          "base_uri": "https://localhost:8080/"
        },
        "id": "iFnI_idYbRd0",
        "outputId": "8d959705-8136-4182-8273-53d75c45888e"
      },
      "source": [
        "lista = [1, 2, 3, 4, 5]\n",
        "\n",
        "print(set(reversed(lista)))"
      ],
      "execution_count": 6,
      "outputs": [
        {
          "output_type": "stream",
          "text": [
            "{1, 2, 3, 4, 5}\n"
          ],
          "name": "stdout"
        }
      ]
    },
    {
      "cell_type": "markdown",
      "metadata": {
        "id": "WdFfoUUwbej2"
      },
      "source": [
        "## Por que o set não voltou invertido?\n",
        "## Como aprendemos na aula sobre o set, esse iterável não é ordenável. "
      ]
    },
    {
      "cell_type": "markdown",
      "metadata": {
        "id": "3fGcnftRbwPM"
      },
      "source": [
        "## Podemos iterar sobre o reversed:"
      ]
    },
    {
      "cell_type": "code",
      "metadata": {
        "colab": {
          "base_uri": "https://localhost:8080/"
        },
        "id": "3GHaxeWJbWTK",
        "outputId": "2b01e317-81aa-4e2c-a070-f85fa7eeffeb"
      },
      "source": [
        "for letra in reversed('Geek University'):\n",
        "  print(letra, end='')"
      ],
      "execution_count": 7,
      "outputs": [
        {
          "output_type": "stream",
          "text": [
            "ytisrevinU keeG"
          ],
          "name": "stdout"
        }
      ]
    },
    {
      "cell_type": "markdown",
      "metadata": {
        "id": "xHTaqZIxb9oJ"
      },
      "source": [
        "## Podemos fazer o mesmo sem o uso do for:"
      ]
    },
    {
      "cell_type": "code",
      "metadata": {
        "colab": {
          "base_uri": "https://localhost:8080/"
        },
        "id": "YFFvQ4VSb3yS",
        "outputId": "904d5da9-3ff5-445b-a5a3-477efb5e81ef"
      },
      "source": [
        "print(''.join((list(reversed('Geek University')))))"
      ],
      "execution_count": 8,
      "outputs": [
        {
          "output_type": "stream",
          "text": [
            "ytisrevinU keeG\n"
          ],
          "name": "stdout"
        }
      ]
    },
    {
      "cell_type": "markdown",
      "metadata": {
        "id": "NNjDjPqscP9p"
      },
      "source": [
        "## Também já vimos como fazer isso mais facilmente com o slice de strings:"
      ]
    },
    {
      "cell_type": "code",
      "metadata": {
        "colab": {
          "base_uri": "https://localhost:8080/"
        },
        "id": "s7W3lfBTcGrn",
        "outputId": "ab97b7b9-790f-4e47-b5ff-254cbfc75394"
      },
      "source": [
        "print('Geek University'[::-1])"
      ],
      "execution_count": 9,
      "outputs": [
        {
          "output_type": "stream",
          "text": [
            "ytisrevinU keeG\n"
          ],
          "name": "stdout"
        }
      ]
    },
    {
      "cell_type": "markdown",
      "metadata": {
        "id": "PjmHdJIYccvS"
      },
      "source": [
        "## Podemos também utilizar o reversed() para fazer um loop for reverso:"
      ]
    },
    {
      "cell_type": "code",
      "metadata": {
        "colab": {
          "base_uri": "https://localhost:8080/"
        },
        "id": "5cAhPC2VcaPm",
        "outputId": "2fbbfa70-2f5c-4d5b-ec10-d0b60c7e8f61"
      },
      "source": [
        "for n in reversed(range(0, 11)):\n",
        "  print(n)"
      ],
      "execution_count": 11,
      "outputs": [
        {
          "output_type": "stream",
          "text": [
            "10\n",
            "9\n",
            "8\n",
            "7\n",
            "6\n",
            "5\n",
            "4\n",
            "3\n",
            "2\n",
            "1\n",
            "0\n"
          ],
          "name": "stdout"
        }
      ]
    },
    {
      "cell_type": "markdown",
      "metadata": {
        "id": "md6NMvb0ctg6"
      },
      "source": [
        "## Apesar de que já vimos como fazer isso utilizando o próprio range():"
      ]
    },
    {
      "cell_type": "code",
      "metadata": {
        "colab": {
          "base_uri": "https://localhost:8080/"
        },
        "id": "I-gR-pEeco_n",
        "outputId": "c9f31973-42fe-40c9-f78e-0bed5e76bcf9"
      },
      "source": [
        "for n in range(10, -1, -1):\n",
        "  print(n)"
      ],
      "execution_count": 14,
      "outputs": [
        {
          "output_type": "stream",
          "text": [
            "10\n",
            "9\n",
            "8\n",
            "7\n",
            "6\n",
            "5\n",
            "4\n",
            "3\n",
            "2\n",
            "1\n",
            "0\n"
          ],
          "name": "stdout"
        }
      ]
    },
    {
      "cell_type": "code",
      "metadata": {
        "id": "T8Xm3Yokc1YH"
      },
      "source": [
        ""
      ],
      "execution_count": null,
      "outputs": []
    }
  ]
}