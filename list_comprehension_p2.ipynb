{
  "nbformat": 4,
  "nbformat_minor": 0,
  "metadata": {
    "colab": {
      "name": "list_comprehension_p2.ipynb",
      "provenance": [],
      "authorship_tag": "ABX9TyOtajeuzX0VxSBDBzvcVJyV",
      "include_colab_link": true
    },
    "kernelspec": {
      "name": "python3",
      "display_name": "Python 3"
    },
    "language_info": {
      "name": "python"
    }
  },
  "cells": [
    {
      "cell_type": "markdown",
      "metadata": {
        "id": "view-in-github",
        "colab_type": "text"
      },
      "source": [
        "<a href=\"https://colab.research.google.com/github/marcosdaniel0616/Curso-de-Python---Geek-university/blob/master/list_comprehension_p2.ipynb\" target=\"_parent\"><img src=\"https://colab.research.google.com/assets/colab-badge.svg\" alt=\"Open In Colab\"/></a>"
      ]
    },
    {
      "cell_type": "markdown",
      "metadata": {
        "id": "rHESnD5j6Gwf"
      },
      "source": [
        "# List Comprehension\n",
        "  \n",
        "Nós podemos adicionar estruturas condicionais lógicas às nossas List Comprehension."
      ]
    },
    {
      "cell_type": "markdown",
      "metadata": {
        "id": "wNGVBRHz6THs"
      },
      "source": [
        "## Exemplos"
      ]
    },
    {
      "cell_type": "markdown",
      "metadata": {
        "id": "f89qnMW36Uh2"
      },
      "source": [
        "### Exemplo 1:"
      ]
    },
    {
      "cell_type": "code",
      "metadata": {
        "colab": {
          "base_uri": "https://localhost:8080/"
        },
        "id": "Bbj08ZfY5-0E",
        "outputId": "a1c6a006-6b64-4edf-fbcb-232908727674"
      },
      "source": [
        "numeros = [1, 2, 3, 4, 5]\n",
        "\n",
        "pares = [numero_par for numero_par in numeros if numero_par % 2 == 0]\n",
        "impares = [numero_impar for numero_impar in numero if numero_impar % 2 != 0]\n",
        "\n",
        "print(pares)\n",
        "print(impares)"
      ],
      "execution_count": 17,
      "outputs": [
        {
          "output_type": "stream",
          "text": [
            "[2, 4]\n",
            "[1, 3, 5]\n"
          ],
          "name": "stdout"
        }
      ]
    },
    {
      "cell_type": "markdown",
      "metadata": {
        "id": "B2hMWmrM6_zW"
      },
      "source": [
        "Repare bem no código, por exemplo na variável pares:  \n",
        "```pares = [numero_par for numero_par in numeros if numero_par % 2 == 0]```  \n",
        "repare no código, a variável pares irá receber numero_par se a divisão do número por 2 for igual a zero, e isso ocorrerá para cada número em números.  \n",
        "Pode parecer confuso mas na prática é mais fácil."
      ]
    },
    {
      "cell_type": "markdown",
      "metadata": {
        "id": "kG2C7IN_81X0"
      },
      "source": [
        "### Exemplo 2:"
      ]
    },
    {
      "cell_type": "code",
      "metadata": {
        "colab": {
          "base_uri": "https://localhost:8080/"
        },
        "id": "gIwkJs-M795m",
        "outputId": "8941231c-ea41-4125-a002-6894d60d9a8c"
      },
      "source": [
        "numeros = [1, 2, 3, 4, 5]\n",
        "\n",
        "resultado = [numero * 2 if numero % 2 == 0 else numero / 2 for numero in numeros]\n",
        "print(resultado)"
      ],
      "execution_count": 9,
      "outputs": [
        {
          "output_type": "stream",
          "text": [
            "[0.5, 4, 1.5, 8, 2.5]\n"
          ],
          "name": "stdout"
        }
      ]
    },
    {
      "cell_type": "markdown",
      "metadata": {
        "id": "CZQo9SnK91VQ"
      },
      "source": [
        "quando nós tivermos apenas uma condicional o if vai pro final, se tivermos um if e um else, eles estarão no \"início\", logo após o que o código executa, nesse caso: ```numero * 2```."
      ]
    },
    {
      "cell_type": "code",
      "metadata": {
        "id": "rYtK16fG9MRn"
      },
      "source": [
        ""
      ],
      "execution_count": null,
      "outputs": []
    }
  ]
}