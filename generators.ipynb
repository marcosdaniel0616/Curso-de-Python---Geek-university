{
  "nbformat": 4,
  "nbformat_minor": 0,
  "metadata": {
    "colab": {
      "name": "generators.ipynb",
      "provenance": [],
      "authorship_tag": "ABX9TyOTdqBkL0ALPNgTwHsfIccC",
      "include_colab_link": true
    },
    "kernelspec": {
      "name": "python3",
      "display_name": "Python 3"
    },
    "language_info": {
      "name": "python"
    }
  },
  "cells": [
    {
      "cell_type": "markdown",
      "metadata": {
        "id": "view-in-github",
        "colab_type": "text"
      },
      "source": [
        "<a href=\"https://colab.research.google.com/github/marcosdaniel0616/Curso-de-Python---Geek-university/blob/master/generators.ipynb\" target=\"_parent\"><img src=\"https://colab.research.google.com/assets/colab-badge.svg\" alt=\"Open In Colab\"/></a>"
      ]
    },
    {
      "cell_type": "markdown",
      "metadata": {
        "id": "SDzhA_cD-qoB"
      },
      "source": [
        "# Generators\n",
        "\n",
        "Em aulas anteriores nós estudamos:\n",
        "- List Comprehension;\n",
        "- Dictionary Comprehension;\n",
        "- Set Comprehension\n",
        "\n",
        "Mas não vimos:\n",
        "- Tuple Comprehensions... pois elas se chamam Generators"
      ]
    },
    {
      "cell_type": "markdown",
      "metadata": {
        "id": "NISF19Y9_GE8"
      },
      "source": [
        "### lembre-se desse código que fizemos:\n",
        "\n",
        "```\n",
        "nomes = ['Carlos', 'Camila', 'Carla', 'Cassiano', 'Cristina', 'Vanessa']\n",
        "\n",
        "print(any([nome[0] == '0' for nome in nomes]))\n",
        "```\n",
        "\n",
        "### Poderíamos ter utilizado Generators:"
      ]
    },
    {
      "cell_type": "code",
      "metadata": {
        "colab": {
          "base_uri": "https://localhost:8080/"
        },
        "id": "EH5PGHsu-l03",
        "outputId": "3041e7da-3016-49aa-effa-12df82f843fe"
      },
      "source": [
        "nomes = ['Carlos', 'Camila', 'Carla', 'Cassiano', 'Cristina', 'Vanessa']\n",
        "\n",
        "print(any(nome[0] for nome in nomes))"
      ],
      "execution_count": 1,
      "outputs": [
        {
          "output_type": "stream",
          "text": [
            "True\n"
          ],
          "name": "stdout"
        }
      ]
    },
    {
      "cell_type": "markdown",
      "metadata": {
        "id": "_X0d-TQbAAHb"
      },
      "source": [
        "Note que não utilizamos os colchetes, pois não estamos utilizando o list comprehension e sim os generators."
      ]
    },
    {
      "cell_type": "markdown",
      "metadata": {
        "id": "figOhrkKAKxL"
      },
      "source": [
        "### Assim como map() após utilizarmos uma vez, o dado é apagado da memória:"
      ]
    },
    {
      "cell_type": "markdown",
      "metadata": {
        "id": "GoJ0RVBVBLL7"
      },
      "source": [
        "## Diferenças entre List Comprehension e Generators\n",
        "\n",
        "Além da óbvia diferença visual já que List Comprehension utiliza colchetes [] e generators utilizam parênteses (), também temos outras diferenças por de trás dos panos.\n",
        "\n",
        "- Generator ocupa menos recurso da memória.\n",
        "- List Comprehension é melhor quando vamos utilizar a lista mais vezes.\n",
        "- Generator é melhor quando só precisamos utilizar aquele dado uma vez"
      ]
    },
    {
      "cell_type": "markdown",
      "metadata": {
        "id": "qn01w_6ICm_8"
      },
      "source": [
        "## Exemplos de gastos de memórias:"
      ]
    },
    {
      "cell_type": "code",
      "metadata": {
        "colab": {
          "base_uri": "https://localhost:8080/"
        },
        "id": "rxqsvszDATuy",
        "outputId": "7dbf64b1-af77-437e-9c75-de5ff0fbd578"
      },
      "source": [
        "from sys import getsizeof\n",
        "\n",
        "# Gerando uma lista com o List Comprehension\n",
        "list_comp = getsizeof([x * 10 for x in range(1000)])\n",
        "\n",
        "# Gerando uma lista com o set Comprehension\n",
        "set_comp = getsizeof({x * 10 for x in range(1000)})\n",
        "\n",
        "# Gerando uma lista com o Dictionary Comprehension\n",
        "dictionary_comp = getsizeof({x: x * 10 for x in range(1000)})\n",
        "\n",
        "# Gerando uma lista com o Generator\n",
        "gen = getsizeof(x * 10 for x in range(1000))\n",
        "\n",
        "\n",
        "print('Para fazer a mesma tarefa gastamos em memória:')\n",
        "print(f'List Comprehension: {list_comp} bytes')\n",
        "print(f'Set Comprehension: {set_comp} bytes')\n",
        "print(f'Dictionary Comprehension: {dictionary_comp} bytes')\n",
        "print(f'Generator: {gen} bytes')\n"
      ],
      "execution_count": 6,
      "outputs": [
        {
          "output_type": "stream",
          "text": [
            "Para fazer a mesma tarefa gastamos em memória:\n",
            "List Comprehension: 9032 bytes\n",
            "Set Comprehension: 33000 bytes\n",
            "Dictionary Comprehension: 36976 bytes\n",
            "Generator: 128 bytes\n"
          ],
          "name": "stdout"
        }
      ]
    },
    {
      "cell_type": "markdown",
      "metadata": {
        "id": "bLtTssRQD4uX"
      },
      "source": [
        "Importamos o módulo sys com o método getsizeof que informa os bytes gastos na memória de certo requerimento.  \n",
        "E como pudemos ver a diferença de gastos na memória é gritante."
      ]
    },
    {
      "cell_type": "markdown",
      "metadata": {
        "id": "i6JnOP8pEVb5"
      },
      "source": [
        "E por que o generator ocupa tão pouco espaço na memória? Isso por que o generator não executa nada a menos que ele seja chamado, já os outros eles já estão guardando aqueles dados na memória."
      ]
    },
    {
      "cell_type": "code",
      "metadata": {
        "id": "5XPc9JOADzwy"
      },
      "source": [
        ""
      ],
      "execution_count": null,
      "outputs": []
    }
  ]
}