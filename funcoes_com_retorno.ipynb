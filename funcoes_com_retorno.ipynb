{
  "nbformat": 4,
  "nbformat_minor": 0,
  "metadata": {
    "colab": {
      "name": "funcoes_com_retorno.ipynb",
      "provenance": [],
      "collapsed_sections": [],
      "authorship_tag": "ABX9TyOuWIx7jm+grt5q3QTHCsjh",
      "include_colab_link": true
    },
    "kernelspec": {
      "display_name": "Python 3",
      "name": "python3"
    },
    "language_info": {
      "name": "python"
    }
  },
  "cells": [
    {
      "cell_type": "markdown",
      "metadata": {
        "id": "view-in-github",
        "colab_type": "text"
      },
      "source": [
        "<a href=\"https://colab.research.google.com/github/marcosdaniel0616/Curso-de-Python---Geek-university/blob/master/funcoes_com_retorno.ipynb\" target=\"_parent\"><img src=\"https://colab.research.google.com/assets/colab-badge.svg\" alt=\"Open In Colab\"/></a>"
      ]
    },
    {
      "cell_type": "markdown",
      "metadata": {
        "id": "mUtiw06o1IOw"
      },
      "source": [
        "# Funções com retorno"
      ]
    },
    {
      "cell_type": "code",
      "metadata": {
        "colab": {
          "base_uri": "https://localhost:8080/"
        },
        "id": "gUxsnIFK0VhZ",
        "outputId": "7a1d57fb-d518-454b-b281-4ff1305054e1"
      },
      "source": [
        "numeros = [1, 2, 3]\n",
        "\n",
        "ret_pop = numeros.pop()\n",
        "\n",
        "print(f'Retorno do pop {ret_pop}')\n",
        "\n",
        "ret_print = print(numeros)\n",
        "\n",
        "print(ret_print)"
      ],
      "execution_count": null,
      "outputs": [
        {
          "output_type": "stream",
          "text": [
            "Retorno do pop 3\n",
            "[1, 2]\n",
            "None\n"
          ],
          "name": "stdout"
        }
      ]
    },
    {
      "cell_type": "markdown",
      "metadata": {
        "id": "PlbaJ0ar2M8D"
      },
      "source": [
        "Note que a variável ret_print não retorna nada e seu valor é none.  \n",
        "\n",
        "\n",
        "---\n",
        "\n"
      ]
    },
    {
      "cell_type": "markdown",
      "metadata": {
        "id": "X33OhBt02948"
      },
      "source": [
        "OBS: Em Python quando uma função não retorna nada, seu valor é  ```none``` ,  exemplo:"
      ]
    },
    {
      "cell_type": "code",
      "metadata": {
        "colab": {
          "base_uri": "https://localhost:8080/"
        },
        "id": "foTYD6o31U27",
        "outputId": "22e2f1f4-3570-4354-89d8-6ccf4944f0e9"
      },
      "source": [
        "def quadrado_de_7():\n",
        "  print(7 * 7)\n",
        "\n",
        "retorno = quadrado_de_7\n",
        "\n",
        "print(f'Retorno: {retorno()}')"
      ],
      "execution_count": null,
      "outputs": [
        {
          "output_type": "stream",
          "text": [
            "49\n",
            "Retorno: None\n"
          ],
          "name": "stdout"
        }
      ]
    },
    {
      "cell_type": "markdown",
      "metadata": {
        "id": "zmec3DnO3V0X"
      },
      "source": [
        "## Vamos refatorar a função acima para que ela retorne um valor.\n",
        "  \n",
        "Criamos uma variável para receber o retorno da função:"
      ]
    },
    {
      "cell_type": "code",
      "metadata": {
        "colab": {
          "base_uri": "https://localhost:8080/"
        },
        "id": "uwoM7KnS2bT5",
        "outputId": "253a2696-4916-4ef8-a71b-357ecc2d0e3a"
      },
      "source": [
        "def quadrado_de_7():\n",
        "  return 7 * 7\n",
        "\n",
        "retorno = quadrado_de_7()\n",
        "\n",
        "print(f'Retorno: {retorno}')"
      ],
      "execution_count": null,
      "outputs": [
        {
          "output_type": "stream",
          "text": [
            "Retorno: 49\n"
          ],
          "name": "stdout"
        }
      ]
    },
    {
      "cell_type": "markdown",
      "metadata": {
        "id": "GrSlVzHF3ylS"
      },
      "source": [
        "É a palavra ``` return ``` que executa o retorno da nossa função.\n",
        "\n"
      ]
    },
    {
      "cell_type": "markdown",
      "metadata": {
        "id": "kCzPgF-24IJd"
      },
      "source": [
        "OBS: Funções que retornam valores, devem retornar estes valores com a palavra reservada ```return```.  \n",
        "  \n",
        "OBS2: Não precisamos necessariamente criar uma variável para receber o retorno de uma função, podemos passar a execução da função para outras funções, até mesmo o ```print()```."
      ]
    },
    {
      "cell_type": "code",
      "metadata": {
        "colab": {
          "base_uri": "https://localhost:8080/"
        },
        "id": "RUwP2bVZ3vPc",
        "outputId": "92e2f77a-84bf-4022-f633-2d11e50e5ca6"
      },
      "source": [
        "def quadrado_de_7():\n",
        "  return 7 * 7\n",
        "\n",
        "print(f'Retorno: {quadrado_de_7()}')"
      ],
      "execution_count": null,
      "outputs": [
        {
          "output_type": "stream",
          "text": [
            "Retorno: 49\n"
          ],
          "name": "stdout"
        }
      ]
    },
    {
      "cell_type": "markdown",
      "metadata": {
        "id": "G-CAwzu95Xbr"
      },
      "source": [
        "Repare que temos o mesmo resultado da forma anterior.\n",
        "\n",
        "---"
      ]
    },
    {
      "cell_type": "code",
      "metadata": {
        "colab": {
          "background_save": true,
          "base_uri": "https://localhost:8080/"
        },
        "id": "cRyCKx-j6FkV",
        "outputId": "b0a1797d-9edc-4d49-c528-dacb151b12f1"
      },
      "source": [
        "def quadrado_de_7():\n",
        "  return 7 * 7\n",
        "\n",
        "print(f'Retorno: {quadrado_de_7() + 1}')"
      ],
      "execution_count": null,
      "outputs": [
        {
          "output_type": "stream",
          "text": [
            "Retorno: 50\n"
          ],
          "name": "stdout"
        }
      ]
    },
    {
      "cell_type": "markdown",
      "metadata": {
        "id": "pnolrQBk7jZY"
      },
      "source": [
        "## Refatorando a primeira função"
      ]
    },
    {
      "cell_type": "code",
      "metadata": {
        "id": "5jDqjgJs6Ibs",
        "colab": {
          "base_uri": "https://localhost:8080/"
        },
        "outputId": "acaad03b-0ecb-460b-f860-8d59e421d3b2"
      },
      "source": [
        "def diz_oi():\n",
        "  return 'Oi!'\n",
        "\n",
        "print(diz_oi())"
      ],
      "execution_count": 26,
      "outputs": [
        {
          "output_type": "stream",
          "text": [
            "Oi!\n"
          ],
          "name": "stdout"
        }
      ]
    },
    {
      "cell_type": "markdown",
      "metadata": {
        "id": "uVnfM4Qe73NL"
      },
      "source": [
        "Mas qual a vantagem de retornar em vez de imprimir?"
      ]
    },
    {
      "cell_type": "code",
      "metadata": {
        "colab": {
          "base_uri": "https://localhost:8080/"
        },
        "id": "0HR-cc-T7ure",
        "outputId": "789f68ad-fc7c-4670-ad22-00bc0d18c261"
      },
      "source": [
        "def diz_oi():\n",
        "  return 'Oi '\n",
        "\n",
        "alguem = 'Marcos!'\n",
        "\n",
        "print(diz_oi() + alguem)"
      ],
      "execution_count": 29,
      "outputs": [
        {
          "output_type": "stream",
          "text": [
            "Oi Marcos!\n"
          ],
          "name": "stdout"
        }
      ]
    },
    {
      "cell_type": "markdown",
      "metadata": {
        "id": "1OZa6KTp8XtG"
      },
      "source": [
        "Dessa forma unimos dois trechos de código, a função diz_oi com o alguem. vamos tentar fazer isso com o print."
      ]
    },
    {
      "cell_type": "code",
      "metadata": {
        "colab": {
          "base_uri": "https://localhost:8080/",
          "height": 215
        },
        "id": "znbdhJUk8PX0",
        "outputId": "e5f0bf4f-f70d-46f5-80b7-854c195dfd05"
      },
      "source": [
        "def diz_oi():\n",
        "  print('Oi ')\n",
        "\n",
        "alguem = 'Marcos!'\n",
        "\n",
        "print(diz_oi() + alguem)"
      ],
      "execution_count": 32,
      "outputs": [
        {
          "output_type": "stream",
          "text": [
            "Oi \n"
          ],
          "name": "stdout"
        },
        {
          "output_type": "error",
          "ename": "TypeError",
          "evalue": "ignored",
          "traceback": [
            "\u001b[0;31m---------------------------------------------------------------------------\u001b[0m",
            "\u001b[0;31mTypeError\u001b[0m                                 Traceback (most recent call last)",
            "\u001b[0;32m<ipython-input-32-e1e39f4ad199>\u001b[0m in \u001b[0;36m<module>\u001b[0;34m()\u001b[0m\n\u001b[1;32m      4\u001b[0m \u001b[0malguem\u001b[0m \u001b[0;34m=\u001b[0m \u001b[0;34m'Marcos!'\u001b[0m\u001b[0;34m\u001b[0m\u001b[0;34m\u001b[0m\u001b[0m\n\u001b[1;32m      5\u001b[0m \u001b[0;34m\u001b[0m\u001b[0m\n\u001b[0;32m----> 6\u001b[0;31m \u001b[0mprint\u001b[0m\u001b[0;34m(\u001b[0m\u001b[0mdiz_oi\u001b[0m\u001b[0;34m(\u001b[0m\u001b[0;34m)\u001b[0m \u001b[0;34m+\u001b[0m \u001b[0malguem\u001b[0m\u001b[0;34m)\u001b[0m\u001b[0;34m\u001b[0m\u001b[0;34m\u001b[0m\u001b[0m\n\u001b[0m",
            "\u001b[0;31mTypeError\u001b[0m: unsupported operand type(s) for +: 'NoneType' and 'str'"
          ]
        }
      ]
    },
    {
      "cell_type": "markdown",
      "metadata": {
        "id": "xsaw4l9K81Ee"
      },
      "source": [
        "Note que não funciona pois a função não retorna nada então não podemos imprimir ela com outro trecho de código, nessa caso com a variável ```alguem```."
      ]
    },
    {
      "cell_type": "markdown",
      "metadata": {
        "id": "rTpxbWzO9jd_"
      },
      "source": [
        "O ```return``` te dá uma flexibilidade maior de utilizar o dado que a função está gerando.  \n",
        "  \n",
        "OBS: Sobre a palavra reservada ```return```\n",
        "\n",
        "- 1 - Ela finaliza a função, ou seja, ela sai da execução (de certa forma é equivalente ao ```continue```//```break``` dos loops);\n",
        "- 2 - Podemos ter, em uma função, diferentes ```return```, mas caso tenhamos mais de um return somente um deles será executado;\n",
        "- 3 - Podemos em uma função retornar qualquer tipo de dado e até mesmo múltiplos valores."
      ]
    },
    {
      "cell_type": "markdown",
      "metadata": {
        "id": "tzMqHlF1-dA8"
      },
      "source": [
        "## Exemplos da observação 1\n",
        "### 1 - Ela finaliza a função, ou seja, ela sai da execução (de certa forma é equivalente ao continue//break dos loops)."
      ]
    },
    {
      "cell_type": "code",
      "metadata": {
        "colab": {
          "base_uri": "https://localhost:8080/"
        },
        "id": "6EnJduDb8llX",
        "outputId": "48f92c4d-8d3d-4c22-bb4e-e925a0b7cd6e"
      },
      "source": [
        "def diz_oi():\n",
        "  print('Estou sendo executado antes do return')\n",
        "  return 'Oi! '\n",
        "  print('Estou sendo executado após o retorno.')\n",
        "\n",
        "print(diz_oi())\n"
      ],
      "execution_count": 35,
      "outputs": [
        {
          "output_type": "stream",
          "text": [
            "Estou sendo executado antes do return\n",
            "Oi! \n"
          ],
          "name": "stdout"
        }
      ]
    },
    {
      "cell_type": "markdown",
      "metadata": {
        "id": "kpgMvl5D-uh6"
      },
      "source": [
        "Note que o ```print()``` após o return não é executado, pois, como dissemos anteriormente o return encerra a execução da função."
      ]
    },
    {
      "cell_type": "markdown",
      "metadata": {
        "id": "5ntQq-E0_Mc5"
      },
      "source": [
        "## Exemplo da observação 2\n",
        "### 2 - Podemos ter, em uma função, diferentes return, mas caso tenhamos mais de um return somente um deles será executado."
      ]
    },
    {
      "cell_type": "code",
      "metadata": {
        "colab": {
          "base_uri": "https://localhost:8080/"
        },
        "id": "edEBteL0-qIE",
        "outputId": "a8c7fa8b-b8e3-4b87-c3ca-b8ed5ac219db"
      },
      "source": [
        "def nova_funcao():\n",
        "  variavel = True\n",
        "  if variavel:\n",
        "    return 4\n",
        "  elif variavel is None:\n",
        "    return 3.2\n",
        "  else:\n",
        "    return 'b'\n",
        "\n",
        "print(nova_funcao())"
      ],
      "execution_count": 45,
      "outputs": [
        {
          "output_type": "stream",
          "text": [
            "4\n"
          ],
          "name": "stdout"
        }
      ]
    },
    {
      "cell_type": "markdown",
      "metadata": {
        "id": "SMBqAXbiAcwC"
      },
      "source": [
        "## Exemplo 3\n",
        "### 3 - Podemos em uma função retornar qualquer tipo de dado e até mesmo múltiplos valores."
      ]
    },
    {
      "cell_type": "code",
      "metadata": {
        "colab": {
          "base_uri": "https://localhost:8080/"
        },
        "id": "-v5c8NRtAFRu",
        "outputId": "8a2a50b1-7472-4bcb-b5df-5483d169459a"
      },
      "source": [
        "def outra_funcao():\n",
        "  return 2, 3, 4, 5\n",
        "\n",
        "\n",
        "# num1, num2, num3, num4 = outra_funcao()\n",
        "# print(num1, num2, num3, num4)\n",
        "\n",
        "print(outra_funcao())\n",
        "print(type(outra_funcao()))"
      ],
      "execution_count": 51,
      "outputs": [
        {
          "output_type": "stream",
          "text": [
            "(2, 3, 4, 5)\n",
            "<class 'tuple'>\n"
          ],
          "name": "stdout"
        }
      ]
    },
    {
      "cell_type": "markdown",
      "metadata": {
        "id": "wULzF0RIBOqD"
      },
      "source": [
        "---\n",
        "\n"
      ]
    },
    {
      "cell_type": "markdown",
      "metadata": {
        "id": "nw3-YZ9uBSXX"
      },
      "source": [
        "## Vamos criar uma função para jogar moeda"
      ]
    },
    {
      "cell_type": "code",
      "metadata": {
        "colab": {
          "base_uri": "https://localhost:8080/"
        },
        "id": "KdCDB3YmAnbL",
        "outputId": "1883a890-30b7-4319-a1d1-a9713eb70ec6"
      },
      "source": [
        "from random import random\n",
        "\n",
        "def joga_moeda():\n",
        "  \"\"\"Gera um número pseudo-randômico, entre 0 e 1\"\"\"\n",
        "  valor = random()\n",
        "  if valor > 0.5:\n",
        "    return 'cara'\n",
        "  # Não precisamos do else mas achei uma forma melhor de visualização do código\n",
        "  else:\n",
        "    return 'coroa'\n",
        "\n",
        "print(joga_moeda())"
      ],
      "execution_count": 59,
      "outputs": [
        {
          "output_type": "stream",
          "text": [
            "coroa\n"
          ],
          "name": "stdout"
        }
      ]
    },
    {
      "cell_type": "markdown",
      "metadata": {
        "id": "IOnhOaVhDx09"
      },
      "source": [
        "Vamos refatorar esse código.  \n",
        "Não estamos fazendo nada com a função valor, então podemos retira-la e executar direto o ```random()``` ."
      ]
    },
    {
      "cell_type": "code",
      "metadata": {
        "colab": {
          "base_uri": "https://localhost:8080/"
        },
        "id": "RzRN8jmzB3B2",
        "outputId": "a6c0b50d-bca0-4a7f-8cf4-926c8ad62cea"
      },
      "source": [
        "from random import random\n",
        "\n",
        "def joga_moeda():\n",
        "  \"\"\"Gera um número pseudo-randômico, entre 0 e 1\"\"\"\n",
        "  if random() > 0.5:\n",
        "    return 'cara'\n",
        "  # Não precisamos do else mas achei uma forma melhor de visualização do código\n",
        "  else:\n",
        "    return 'coroa'\n",
        "\n",
        "print(joga_moeda())"
      ],
      "execution_count": 60,
      "outputs": [
        {
          "output_type": "stream",
          "text": [
            "coroa\n"
          ],
          "name": "stdout"
        }
      ]
    },
    {
      "cell_type": "markdown",
      "metadata": {
        "id": "rrqZxwFKFZrr"
      },
      "source": [
        "Em vez do ```if valor > 0.5``` utilizamos diretamento o ```if random() > 5```.\n",
        "\n",
        "--- "
      ]
    },
    {
      "cell_type": "markdown",
      "metadata": {
        "id": "NqWTndGXGWKb"
      },
      "source": [
        "## Erros Comuns na utilização do retorno, que na verdade nem são erros, mas uma codificação desnecessária."
      ]
    },
    {
      "cell_type": "code",
      "metadata": {
        "colab": {
          "base_uri": "https://localhost:8080/"
        },
        "id": "Z475B5vXEIio",
        "outputId": "395915da-03ae-49fa-8aa2-1b8c8fbd4621"
      },
      "source": [
        "def eh_impar():\n",
        "  numero = 5\n",
        "  if numero % 2 != 0:\n",
        "    return True\n",
        "  return False\n",
        "\n",
        "  \n",
        "print(eh_impar())"
      ],
      "execution_count": 67,
      "outputs": [
        {
          "output_type": "stream",
          "text": [
            "True\n"
          ],
          "name": "stdout"
        }
      ]
    },
    {
      "cell_type": "markdown",
      "metadata": {
        "id": "Jo7QoeZGKBP3"
      },
      "source": [
        "Note que não precisamos do ```else```, pois se o ```if``` não for executado o bloco de código em seguida será executado.  \n",
        "ps: eu gosto do ```else``` pois facilita a visualização."
      ]
    },
    {
      "cell_type": "code",
      "metadata": {
        "id": "1IISeN53HMZu"
      },
      "source": [
        ""
      ],
      "execution_count": 64,
      "outputs": []
    }
  ]
}