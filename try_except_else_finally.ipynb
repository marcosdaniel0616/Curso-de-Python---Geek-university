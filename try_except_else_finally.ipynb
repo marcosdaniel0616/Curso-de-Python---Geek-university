{
  "nbformat": 4,
  "nbformat_minor": 0,
  "metadata": {
    "colab": {
      "name": "try_except_else_finally.ipynb",
      "provenance": [],
      "authorship_tag": "ABX9TyNF+sQQUrIg5MjM54HwcFsr",
      "include_colab_link": true
    },
    "kernelspec": {
      "name": "python3",
      "display_name": "Python 3"
    },
    "language_info": {
      "name": "python"
    }
  },
  "cells": [
    {
      "cell_type": "markdown",
      "metadata": {
        "id": "view-in-github",
        "colab_type": "text"
      },
      "source": [
        "<a href=\"https://colab.research.google.com/github/marcosdaniel0616/Curso-de-Python---Geek-university/blob/master/try_except_else_finally.ipynb\" target=\"_parent\"><img src=\"https://colab.research.google.com/assets/colab-badge.svg\" alt=\"Open In Colab\"/></a>"
      ]
    },
    {
      "cell_type": "markdown",
      "metadata": {
        "id": "7Oq-M79-Vmk7"
      },
      "source": [
        "# Try / Except / Else / Finally\n",
        "  \n",
        "Dica de quando e onde tratar o código:  \n",
        "TODA ENTRADA DO USUÁRIO DEVE SER TRATADA!"
      ]
    },
    {
      "cell_type": "code",
      "metadata": {
        "colab": {
          "base_uri": "https://localhost:8080/"
        },
        "id": "V5XQ06fLVfcY",
        "outputId": "8285e86a-b85d-45f9-dd7b-0c6c579757db"
      },
      "source": [
        "num = 0\n",
        "\n",
        "try:\n",
        "  num = int(input('Informe um número: '))\n",
        "except ValueError:\n",
        "  print(f'Valor incorreto!')\n",
        "\n",
        "print(f'Você digitou {num}')"
      ],
      "execution_count": 7,
      "outputs": [
        {
          "output_type": "stream",
          "text": [
            "Informe um número: a\n",
            "Valor incorreto!\n",
            "Você digitou 0\n"
          ],
          "name": "stdout"
        }
      ]
    },
    {
      "cell_type": "markdown",
      "metadata": {
        "id": "2zVXWpF5W14k"
      },
      "source": [
        "Essa foi uma forma de tratar erro, caso você digite um valor incorreto, será mostrado uma mensagem de valor incorreto e o número digitado será 0 mas essa não é a melhor forma de tratar esse erro.  \n",
        "O que devemos fazer então?"
      ]
    },
    {
      "cell_type": "code",
      "metadata": {
        "colab": {
          "base_uri": "https://localhost:8080/"
        },
        "id": "Mcwul838WSMa",
        "outputId": "61b2dbff-2ae2-46d2-d21b-2af6bc6700a1"
      },
      "source": [
        "try:\n",
        "  num = int(input('Informe um número: '))\n",
        "except ValueError:\n",
        "  print(f'Valor incorreto!')\n",
        "else:\n",
        "  print(f'Você digitou {num}')"
      ],
      "execution_count": 9,
      "outputs": [
        {
          "output_type": "stream",
          "text": [
            "Informe um número: 5\n",
            "Você digitou 5\n"
          ],
          "name": "stdout"
        }
      ]
    },
    {
      "cell_type": "markdown",
      "metadata": {
        "id": "bDd483MJXk8w"
      },
      "source": [
        "Nesse caso, o bloco else só será executado caso o try receba um valor correto."
      ]
    },
    {
      "cell_type": "markdown",
      "metadata": {
        "id": "LRIkP0eNX7r3"
      },
      "source": [
        "## Finally"
      ]
    },
    {
      "cell_type": "code",
      "metadata": {
        "colab": {
          "base_uri": "https://localhost:8080/"
        },
        "id": "PhuyKFB6XhSu",
        "outputId": "37c4f298-aa67-494e-b246-e96c976a5f95"
      },
      "source": [
        "try:\n",
        "  num = int(input('Informe um número: '))\n",
        "except ValueError:\n",
        "  print('Você digitou um valor incorreto!')\n",
        "else:\n",
        "  print(f'Você digitou o número {num}')\n",
        "finally:\n",
        "  print('Executando o finally')\n",
        "\n",
        "print('Depois do bloco try/except')\n"
      ],
      "execution_count": 13,
      "outputs": [
        {
          "output_type": "stream",
          "text": [
            "Informe um número: a\n",
            "Você digitou um valor incorreto!\n",
            "Executando o finally\n",
            "Depois do bloco try/except\n"
          ],
          "name": "stdout"
        }
      ]
    },
    {
      "cell_type": "markdown",
      "metadata": {
        "id": "npq4GbSSYZeB"
      },
      "source": [
        "## OBS: O bloco finally é SEMPRE executado, independente se houve exceção ou não.  \n",
        "Então por que utilizar o finally?\n",
        "### O finally, geralmente é utilizado para fechar ou desalocar recursos. (Geralmente de banco de dados ou algo assim).\n",
        "  \n"
      ]
    },
    {
      "cell_type": "markdown",
      "metadata": {
        "id": "SFUQMPJXasxI"
      },
      "source": [
        "## Exemplo mais complexo ERRADO:"
      ]
    },
    {
      "cell_type": "code",
      "metadata": {
        "colab": {
          "base_uri": "https://localhost:8080/"
        },
        "id": "W3CsW-j7YIQa",
        "outputId": "5dc49468-7978-4570-fbfb-f44448053b5e"
      },
      "source": [
        "def dividir(a, b):\n",
        "  return a / b\n",
        "\n",
        "try:\n",
        "  num1 = int(input('Informe o primeiro número: '))\n",
        "except ValueError:\n",
        "  print('O valor precisa ser inteiro.')\n",
        "\n",
        "try:\n",
        "  num2 = int(input('Informe o segundo número: '))\n",
        "except ValueError:\n",
        "  print('O valor precisa ser inteiro.')\n",
        "\n",
        "try:\n",
        "  print(dividir(num1, num2))\n",
        "except NameError:\n",
        "  print('Valor incorreto!')"
      ],
      "execution_count": 3,
      "outputs": [
        {
          "output_type": "stream",
          "text": [
            "Informe o primeiro número: 5\n",
            "Informe o segundo número: a\n",
            "O valor precisa ser inteiro.\n",
            "Valor incorreto!\n"
          ],
          "name": "stdout"
        }
      ]
    },
    {
      "cell_type": "markdown",
      "metadata": {
        "id": "HFymO39vb-e1"
      },
      "source": [
        "O código funcionou mas ficou muito feio pois está cheio de try/except dentro do código."
      ]
    },
    {
      "cell_type": "markdown",
      "metadata": {
        "id": "6P-fEoLPcQTS"
      },
      "source": [
        "## Exemplo complexo CORRETO:\n",
        "## OBS: Você é responsável pelas entradas das suas funções. Então, trate-as!"
      ]
    },
    {
      "cell_type": "code",
      "metadata": {
        "colab": {
          "base_uri": "https://localhost:8080/"
        },
        "id": "dkm7ALW2bCfC",
        "outputId": "b03f7693-1dfe-4c13-bb87-efcc40cf6454"
      },
      "source": [
        "def dividir(a, b):\n",
        "  try:\n",
        "    return int(a) / int(b)\n",
        "  except ValueError:\n",
        "    return 'Valor incorreto!'\n",
        "  except ZeroDivisionError:\n",
        "    return 'Não é possível realizar uma divisão por zero'\n",
        "\n",
        "\n",
        "num1 = input('Informe o primeiro número: ')\n",
        "num2 = input('Informe o segundo número: ')\n",
        "\n",
        "print(dividir(num1, num2))"
      ],
      "execution_count": 11,
      "outputs": [
        {
          "output_type": "stream",
          "text": [
            "Informe o primeiro número: 2\n",
            "Informe o segundo número: 0\n",
            "Não é possível realizar uma divisão por zero\n"
          ],
          "name": "stdout"
        }
      ]
    },
    {
      "cell_type": "markdown",
      "metadata": {
        "id": "YRpZRQUueAW2"
      },
      "source": [
        "Essa é a forma Pythonica de tratar erros.\n",
        "## Também poderíamos tratar de forma genérica:\n",
        "## Exemplo mais complexo - genérico:"
      ]
    },
    {
      "cell_type": "code",
      "metadata": {
        "colab": {
          "base_uri": "https://localhost:8080/"
        },
        "id": "WBOkxJwRcx2h",
        "outputId": "d87fa0f4-f66d-4b28-9399-26031fa66265"
      },
      "source": [
        "def dividir(a, b):\n",
        "  try:\n",
        "    return int(a) / int(b)\n",
        "  except (ValueError, ZeroDivisionError) as err:\n",
        "    return f'Ocorreu um erro: {err}'\n",
        "\n",
        "\n",
        "num1 = input('Informe o primeiro número: ')\n",
        "num2 = input('Informe o segundo número: ')\n",
        "\n",
        "print(dividir(num1, num2))"
      ],
      "execution_count": 16,
      "outputs": [
        {
          "output_type": "stream",
          "text": [
            "Informe o primeiro número: 2\n",
            "Informe o segundo número: b\n",
            "Ocorreu um erro: invalid literal for int() with base 10: 'b'\n"
          ],
          "name": "stdout"
        }
      ]
    },
    {
      "cell_type": "code",
      "metadata": {
        "id": "ix4nG--deZpa"
      },
      "source": [
        "b"
      ],
      "execution_count": null,
      "outputs": []
    }
  ]
}